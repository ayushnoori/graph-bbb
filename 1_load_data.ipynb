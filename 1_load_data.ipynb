{
 "cells": [
  {
   "cell_type": "markdown",
   "metadata": {},
   "source": [
    "## Graph Transformers for Blood-Brain-Barrier Penetration Prediction\n",
    "**Ayush Noori**\n",
    "\n",
    "First, I load the relevant libraries."
   ]
  },
  {
   "cell_type": "code",
   "execution_count": 1,
   "metadata": {},
   "outputs": [],
   "source": [
    "# import base libraries\n",
    "import numpy as np\n",
    "import pandas as pd\n",
    "import os # read directories\n",
    "import matplotlib.pyplot as plt # inline plots\n",
    "%matplotlib inline\n",
    "\n",
    "# import TDC\n",
    "from tdc.single_pred import ADME"
   ]
  },
  {
   "cell_type": "markdown",
   "metadata": {},
   "source": [
    "Next, I load the dataset retrieved from the [Therapeutics Data Commons (TDC)](https://tdcommons.ai/single_pred_tasks/adme/#bbb-blood-brain-barrier-martins-et-al). Rather than a random split, we use the more challenging [\"scaffold split\"](https://tdcommons.ai/functions/data_split/), which partitions the data based on the scaffold of the molecules to differentiate the training, validation, and test sets. The data is split as 70% training, 10% validation, and 20% test.\n",
    "\n",
    "Note that the scaffold split requires that the [`rdkit`](https://www.rdkit.org/docs/GettingStartedInPython.html) package is installed."
   ]
  },
  {
   "cell_type": "code",
   "execution_count": 2,
   "metadata": {},
   "outputs": [
    {
     "name": "stderr",
     "output_type": "stream",
     "text": [
      "Found local copy...\n",
      "Loading...\n",
      "Done!\n",
      "100%|██████████| 2030/2030 [00:01<00:00, 1614.80it/s]\n",
      "--- Dataset Statistics ---\n",
      "1975 unique drugs.\n",
      "--------------------------\n"
     ]
    }
   ],
   "source": [
    "# import data\n",
    "data = ADME(name = 'BBB_Martins')\n",
    "split = data.get_split(method = 'scaffold', seed = 42, frac = [0.7, 0.1, 0.2])\n",
    "data.print_stats()"
   ]
  },
  {
   "cell_type": "code",
   "execution_count": 30,
   "metadata": {},
   "outputs": [
    {
     "data": {
      "text/html": [
       "<div>\n",
       "<style scoped>\n",
       "    .dataframe tbody tr th:only-of-type {\n",
       "        vertical-align: middle;\n",
       "    }\n",
       "\n",
       "    .dataframe tbody tr th {\n",
       "        vertical-align: top;\n",
       "    }\n",
       "\n",
       "    .dataframe thead th {\n",
       "        text-align: right;\n",
       "    }\n",
       "</style>\n",
       "<table border=\"1\" class=\"dataframe\">\n",
       "  <thead>\n",
       "    <tr style=\"text-align: right;\">\n",
       "      <th></th>\n",
       "      <th>Drug_ID</th>\n",
       "      <th>Drug</th>\n",
       "      <th>Y</th>\n",
       "    </tr>\n",
       "  </thead>\n",
       "  <tbody>\n",
       "    <tr>\n",
       "      <th>0</th>\n",
       "      <td>Terbutylchlorambucil</td>\n",
       "      <td>CC(C)(C)OC(=O)CCCc1ccc(N(CCCl)CCCl)cc1</td>\n",
       "      <td>1</td>\n",
       "    </tr>\n",
       "    <tr>\n",
       "      <th>1</th>\n",
       "      <td>brosotamide</td>\n",
       "      <td>Cc1cc(Br)cc(C(N)=O)c1O</td>\n",
       "      <td>1</td>\n",
       "    </tr>\n",
       "    <tr>\n",
       "      <th>2</th>\n",
       "      <td>butacetin</td>\n",
       "      <td>CC(=O)Nc1ccc(OC(C)(C)C)cc1</td>\n",
       "      <td>1</td>\n",
       "    </tr>\n",
       "    <tr>\n",
       "      <th>3</th>\n",
       "      <td>Salicyluricacid</td>\n",
       "      <td>O=C(O)CNC(=O)c1ccccc1O</td>\n",
       "      <td>1</td>\n",
       "    </tr>\n",
       "    <tr>\n",
       "      <th>4</th>\n",
       "      <td>sumacetamol</td>\n",
       "      <td>CSCC[C@H](NC(C)=O)C(=O)Oc1ccc(NC(C)=O)cc1</td>\n",
       "      <td>1</td>\n",
       "    </tr>\n",
       "    <tr>\n",
       "      <th>...</th>\n",
       "      <td>...</td>\n",
       "      <td>...</td>\n",
       "      <td>...</td>\n",
       "    </tr>\n",
       "    <tr>\n",
       "      <th>1416</th>\n",
       "      <td>antipyrine</td>\n",
       "      <td>Cc1cc(=O)n(-c2ccccc2)n1C</td>\n",
       "      <td>1</td>\n",
       "    </tr>\n",
       "    <tr>\n",
       "      <th>1417</th>\n",
       "      <td>Aminopyrine</td>\n",
       "      <td>Cc1c(N(C)C)c(=O)n(-c2ccccc2)n1C</td>\n",
       "      <td>1</td>\n",
       "    </tr>\n",
       "    <tr>\n",
       "      <th>1418</th>\n",
       "      <td>cyprazepam</td>\n",
       "      <td>ON1CC(=NCC2CC2)N=c2ccc(Cl)cc2=C1c1ccccc1</td>\n",
       "      <td>1</td>\n",
       "    </tr>\n",
       "    <tr>\n",
       "      <th>1419</th>\n",
       "      <td>nomifensine</td>\n",
       "      <td>CN1Cc2c(N)cccc2C(c2ccccc2)C1</td>\n",
       "      <td>1</td>\n",
       "    </tr>\n",
       "    <tr>\n",
       "      <th>1420</th>\n",
       "      <td>diclofensine</td>\n",
       "      <td>COc1ccc2c(c1)CN(C)CC2c1ccc(Cl)c(Cl)c1</td>\n",
       "      <td>1</td>\n",
       "    </tr>\n",
       "  </tbody>\n",
       "</table>\n",
       "<p>1421 rows × 3 columns</p>\n",
       "</div>"
      ],
      "text/plain": [
       "                   Drug_ID                                       Drug  Y\n",
       "0     Terbutylchlorambucil     CC(C)(C)OC(=O)CCCc1ccc(N(CCCl)CCCl)cc1  1\n",
       "1              brosotamide                     Cc1cc(Br)cc(C(N)=O)c1O  1\n",
       "2                butacetin                 CC(=O)Nc1ccc(OC(C)(C)C)cc1  1\n",
       "3          Salicyluricacid                     O=C(O)CNC(=O)c1ccccc1O  1\n",
       "4              sumacetamol  CSCC[C@H](NC(C)=O)C(=O)Oc1ccc(NC(C)=O)cc1  1\n",
       "...                    ...                                        ... ..\n",
       "1416            antipyrine                   Cc1cc(=O)n(-c2ccccc2)n1C  1\n",
       "1417           Aminopyrine            Cc1c(N(C)C)c(=O)n(-c2ccccc2)n1C  1\n",
       "1418            cyprazepam   ON1CC(=NCC2CC2)N=c2ccc(Cl)cc2=C1c1ccccc1  1\n",
       "1419           nomifensine               CN1Cc2c(N)cccc2C(c2ccccc2)C1  1\n",
       "1420          diclofensine      COc1ccc2c(c1)CN(C)CC2c1ccc(Cl)c(Cl)c1  1\n",
       "\n",
       "[1421 rows x 3 columns]"
      ]
     },
     "execution_count": 30,
     "metadata": {},
     "output_type": "execute_result"
    }
   ],
   "source": [
    "split['train']"
   ]
  },
  {
   "cell_type": "code",
   "execution_count": 27,
   "metadata": {},
   "outputs": [
    {
     "data": {
      "text/plain": [
       "[({0: 'C',\n",
       "   1: 'C',\n",
       "   2: 'C',\n",
       "   3: 'C',\n",
       "   4: 'O',\n",
       "   5: 'C',\n",
       "   6: 'O',\n",
       "   7: 'C',\n",
       "   8: 'C',\n",
       "   9: 'C',\n",
       "   10: 'C',\n",
       "   11: 'C',\n",
       "   12: 'C',\n",
       "   13: 'C',\n",
       "   14: 'N',\n",
       "   15: 'C',\n",
       "   16: 'C',\n",
       "   17: 'Cl',\n",
       "   18: 'C',\n",
       "   19: 'C',\n",
       "   20: 'Cl',\n",
       "   21: 'C',\n",
       "   22: 'C'},\n",
       "  array([[0, 1, 0, 0, 0, 0, 0, 0, 0, 0, 0, 0, 0, 0, 0, 0, 0, 0, 0, 0, 0, 0,\n",
       "          0],\n",
       "         [1, 0, 1, 1, 1, 0, 0, 0, 0, 0, 0, 0, 0, 0, 0, 0, 0, 0, 0, 0, 0, 0,\n",
       "          0],\n",
       "         [0, 1, 0, 0, 0, 0, 0, 0, 0, 0, 0, 0, 0, 0, 0, 0, 0, 0, 0, 0, 0, 0,\n",
       "          0],\n",
       "         [0, 1, 0, 0, 0, 0, 0, 0, 0, 0, 0, 0, 0, 0, 0, 0, 0, 0, 0, 0, 0, 0,\n",
       "          0],\n",
       "         [0, 1, 0, 0, 0, 1, 0, 0, 0, 0, 0, 0, 0, 0, 0, 0, 0, 0, 0, 0, 0, 0,\n",
       "          0],\n",
       "         [0, 0, 0, 0, 1, 0, 2, 1, 0, 0, 0, 0, 0, 0, 0, 0, 0, 0, 0, 0, 0, 0,\n",
       "          0],\n",
       "         [0, 0, 0, 0, 0, 2, 0, 0, 0, 0, 0, 0, 0, 0, 0, 0, 0, 0, 0, 0, 0, 0,\n",
       "          0],\n",
       "         [0, 0, 0, 0, 0, 1, 0, 0, 1, 0, 0, 0, 0, 0, 0, 0, 0, 0, 0, 0, 0, 0,\n",
       "          0],\n",
       "         [0, 0, 0, 0, 0, 0, 0, 1, 0, 1, 0, 0, 0, 0, 0, 0, 0, 0, 0, 0, 0, 0,\n",
       "          0],\n",
       "         [0, 0, 0, 0, 0, 0, 0, 0, 1, 0, 1, 0, 0, 0, 0, 0, 0, 0, 0, 0, 0, 0,\n",
       "          0],\n",
       "         [0, 0, 0, 0, 0, 0, 0, 0, 0, 1, 0, 2, 0, 0, 0, 0, 0, 0, 0, 0, 0, 0,\n",
       "          1],\n",
       "         [0, 0, 0, 0, 0, 0, 0, 0, 0, 0, 2, 0, 1, 0, 0, 0, 0, 0, 0, 0, 0, 0,\n",
       "          0],\n",
       "         [0, 0, 0, 0, 0, 0, 0, 0, 0, 0, 0, 1, 0, 2, 0, 0, 0, 0, 0, 0, 0, 0,\n",
       "          0],\n",
       "         [0, 0, 0, 0, 0, 0, 0, 0, 0, 0, 0, 0, 2, 0, 1, 0, 0, 0, 0, 0, 0, 1,\n",
       "          0],\n",
       "         [0, 0, 0, 0, 0, 0, 0, 0, 0, 0, 0, 0, 0, 1, 0, 1, 0, 0, 1, 0, 0, 0,\n",
       "          0],\n",
       "         [0, 0, 0, 0, 0, 0, 0, 0, 0, 0, 0, 0, 0, 0, 1, 0, 1, 0, 0, 0, 0, 0,\n",
       "          0],\n",
       "         [0, 0, 0, 0, 0, 0, 0, 0, 0, 0, 0, 0, 0, 0, 0, 1, 0, 1, 0, 0, 0, 0,\n",
       "          0],\n",
       "         [0, 0, 0, 0, 0, 0, 0, 0, 0, 0, 0, 0, 0, 0, 0, 0, 1, 0, 0, 0, 0, 0,\n",
       "          0],\n",
       "         [0, 0, 0, 0, 0, 0, 0, 0, 0, 0, 0, 0, 0, 0, 1, 0, 0, 0, 0, 1, 0, 0,\n",
       "          0],\n",
       "         [0, 0, 0, 0, 0, 0, 0, 0, 0, 0, 0, 0, 0, 0, 0, 0, 0, 0, 1, 0, 1, 0,\n",
       "          0],\n",
       "         [0, 0, 0, 0, 0, 0, 0, 0, 0, 0, 0, 0, 0, 0, 0, 0, 0, 0, 0, 1, 0, 0,\n",
       "          0],\n",
       "         [0, 0, 0, 0, 0, 0, 0, 0, 0, 0, 0, 0, 0, 1, 0, 0, 0, 0, 0, 0, 0, 0,\n",
       "          2],\n",
       "         [0, 0, 0, 0, 0, 0, 0, 0, 0, 0, 1, 0, 0, 0, 0, 0, 0, 0, 0, 0, 0, 2,\n",
       "          0]]))]"
      ]
     },
     "execution_count": 27,
     "metadata": {},
     "output_type": "execute_result"
    }
   ],
   "source": [
    "from tdc.chem_utils import MolConvert\n",
    "converter = MolConvert(src = 'SMILES', dst = 'Graph2D')\n",
    "# converter(['Clc1ccccc1C2C(=C(/N/C(=C2/C(=O)OCC)COCCN)C)\\C(=O)OC',\n",
    "#        'CCCOc1cc2ncnc(Nc3ccc4ncsc4c3)c2cc1S(=O)(=O)C(C)(C)C'])\n",
    "converter([split['train']['Drug'][0]])"
   ]
  },
  {
   "cell_type": "markdown",
   "metadata": {},
   "source": [
    "See, for example https://docs.dgl.ai/en/latest/_modules/dgl/data/qm9.html and https://graphormer.readthedocs.io/en/latest/Datasets.html#id5."
   ]
  },
  {
   "cell_type": "code",
   "execution_count": 5,
   "metadata": {},
   "outputs": [
    {
     "name": "stderr",
     "output_type": "stream",
     "text": [
      "C:\\Users\\unity\\.conda\\envs\\gnn\\lib\\site-packages\\tqdm\\auto.py:22: TqdmWarning: IProgress not found. Please update jupyter and ipywidgets. See https://ipywidgets.readthedocs.io/en/stable/user_install.html\n",
      "  from .autonotebook import tqdm as notebook_tqdm\n",
      "Using backend: pytorch\n"
     ]
    }
   ],
   "source": [
    " import torch\n",
    " from dgl.data import QM9"
   ]
  },
  {
   "cell_type": "code",
   "execution_count": 6,
   "metadata": {},
   "outputs": [
    {
     "name": "stdout",
     "output_type": "stream",
     "text": [
      "Downloading C:\\Users\\unity\\.dgl/qm9_eV.npz from https://data.dgl.ai/dataset/qm9_eV.npz...\n"
     ]
    }
   ],
   "source": [
    "dataset = QM9(label_keys=[\"mu\"])"
   ]
  },
  {
   "cell_type": "code",
   "execution_count": 20,
   "metadata": {},
   "outputs": [
    {
     "data": {
      "text/plain": [
       "Graph(num_nodes=5, num_edges=20,\n",
       "      ndata_schemes={'R': Scheme(shape=(3,), dtype=torch.float32), 'Z': Scheme(shape=(), dtype=torch.int64)}\n",
       "      edata_schemes={})"
      ]
     },
     "execution_count": 20,
     "metadata": {},
     "output_type": "execute_result"
    }
   ],
   "source": [
    "dataset[0][0]"
   ]
  }
 ],
 "metadata": {
  "interpreter": {
   "hash": "ee86a5705781cdc5693b22e698b5956b61fc6bfa2e3dcdcaa637adf8210aae45"
  },
  "kernelspec": {
   "display_name": "Python 3.8.12 ('gnn')",
   "language": "python",
   "name": "python3"
  },
  "language_info": {
   "codemirror_mode": {
    "name": "ipython",
    "version": 3
   },
   "file_extension": ".py",
   "mimetype": "text/x-python",
   "name": "python",
   "nbconvert_exporter": "python",
   "pygments_lexer": "ipython3",
   "version": "3.8.12"
  },
  "orig_nbformat": 4
 },
 "nbformat": 4,
 "nbformat_minor": 2
}
