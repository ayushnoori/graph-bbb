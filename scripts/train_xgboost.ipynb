{
 "cells": [
  {
   "cell_type": "markdown",
   "metadata": {},
   "source": [
    "## Train XGBoost Model\n",
    "**Ayush Noori**\n",
    "\n",
    "First, I load the relevant libraries."
   ]
  },
  {
   "cell_type": "code",
   "execution_count": 1,
   "metadata": {},
   "outputs": [],
   "source": [
    "# import base libraries\n",
    "import numpy as np\n",
    "import pandas as pd\n",
    "import matplotlib.pyplot as plt # inline plots\n",
    "from matplotlib import colors # colors for histogram\n",
    "%matplotlib inline\n",
    "\n",
    "# TDC library\n",
    "from tdc.benchmark_group import admet_group\n",
    "from tdc.chem_utils import MolConvert\n",
    "\n",
    "# XGBoost\n",
    "import xgboost as xgb\n",
    "\n",
    "# import Optuna\n",
    "import optuna\n",
    "from optuna.samplers import TPESampler\n",
    "import optuna.visualization.matplotlib as oviz\n",
    "\n",
    "# logging to show Optuna output\n",
    "import logging\n",
    "import sys\n",
    "\n",
    "# metrics for ROC/AUC\n",
    "from sklearn import metrics\n",
    "\n",
    "# time management\n",
    "from datetime import datetime\n",
    "\n",
    "# create time object used for file names\n",
    "my_time = datetime.now()"
   ]
  },
  {
   "cell_type": "code",
   "execution_count": 2,
   "metadata": {},
   "outputs": [
    {
     "name": "stderr",
     "output_type": "stream",
     "text": [
      "Found local copy...\n"
     ]
    }
   ],
   "source": [
    "group = admet_group(path = 'data/')\n",
    "predictions_list = []"
   ]
  },
  {
   "cell_type": "markdown",
   "metadata": {},
   "source": [
    "Next, I retrieve the data."
   ]
  },
  {
   "cell_type": "code",
   "execution_count": 3,
   "metadata": {},
   "outputs": [],
   "source": [
    "# set seed and benchmark in benchmark group\n",
    "seed = 1\n",
    "benchmark = group.get('BBB_Martins') \n",
    "    \n",
    "# all benchmark names in a benchmark group are stored in group.dataset_names\n",
    "predictions = {}\n",
    "name = benchmark['name']\n",
    "train_val, test = benchmark['train_val'], benchmark['test']\n",
    "# train, valid = group.get_train_valid_split(benchmark = name, split_type = 'default', seed = seed)"
   ]
  },
  {
   "cell_type": "markdown",
   "metadata": {},
   "source": [
    "I define the XGBoost training function. First, I convert the SMILES structures to fingerprints. Note that conversion from `SMILES` to `RDKit2D` requires `pip install git+https://github.com/bp-kelley/descriptastorus` and `pip install pandas-flavor`.\n",
    "\n",
    "The parameter definition code was inspired by [this Medium post](https://medium.com/optuna/using-optuna-to-optimize-xgboost-hyperparameters-63bfcdfd3407) with [this source code](https://gist.github.com/Crissman/4ddeec6718627ecef46f863e1bf90424#file-xgboost_integration-py). See [the documentation](https://xgboost.readthedocs.io/en/latest/parameter.html) for a full list of possible parameters."
   ]
  },
  {
   "cell_type": "code",
   "execution_count": 4,
   "metadata": {},
   "outputs": [],
   "source": [
    "# define training function\n",
    "def train_xgboost(trial):\n",
    "\n",
    "    # define fingerprint\n",
    "    mol_dst = trial.suggest_categorical(\"mol_dst\", [\"ECFP2\", \"ECFP4\", \"MACCS\", \"Morgan\", \"Daylight\", \"RDKit2D\"])\n",
    "\n",
    "    # define the XGBoost parameters, inspired by \n",
    "    params = {\n",
    "            \"objective\": \"binary:logistic\",\n",
    "            \"eval_metric\": \"auc\",\n",
    "            \"booster\": trial.suggest_categorical(\"booster\", [\"gbtree\", \"gblinear\", \"dart\"]),\n",
    "            \"lambda\": trial.suggest_loguniform(\"lambda\", 1e-8, 1.0),\n",
    "            \"alpha\": trial.suggest_loguniform(\"alpha\", 1e-8, 1.0),\n",
    "        }\n",
    "\n",
    "    if params[\"booster\"] == \"gbtree\" or params[\"booster\"] == \"dart\":\n",
    "        params[\"max_depth\"] = trial.suggest_int(\"max_depth\", 1, 9)\n",
    "        params[\"eta\"] = trial.suggest_loguniform(\"eta\", 1e-8, 1.0)\n",
    "        params[\"gamma\"] = trial.suggest_loguniform(\"gamma\", 1e-8, 1.0)\n",
    "        params[\"grow_policy\"] = trial.suggest_categorical(\"grow_policy\", [\"depthwise\", \"lossguide\"])\n",
    "\n",
    "    if params[\"booster\"] == \"dart\":\n",
    "        params[\"sample_type\"] = trial.suggest_categorical(\"sample_type\", [\"uniform\", \"weighted\"])\n",
    "        params[\"normalize_type\"] = trial.suggest_categorical(\"normalize_type\", [\"tree\", \"forest\"])\n",
    "        params[\"rate_drop\"] = trial.suggest_loguniform(\"rate_drop\", 1e-8, 1.0)\n",
    "        params[\"skip_drop\"] = trial.suggest_loguniform(\"skip_drop\", 1e-8, 1.0)\n",
    "\n",
    "    # print all of the hyperparameters of the training iteration:\n",
    "    print(\"\\n===== TRIAL #{} =====\".format(trial.number))\n",
    "    print(\"Fingerprint: {}\".format(mol_dst))\n",
    "    print(\"Booster: {}\".format(params[\"booster\"]))\n",
    "    print(\"Lambda: {}\".format(params[\"lambda\"]))\n",
    "    print(\"Alpha: {}\".format(params[\"alpha\"]))\n",
    "\n",
    "    # convert fingerprint\n",
    "    converter = MolConvert(src = 'SMILES', dst = mol_dst)\n",
    "    train_val_features = pd.DataFrame([converter(x) for x in train_val['Drug']])\n",
    "\n",
    "    # define the optimized DMatrix object\n",
    "    dtrain_val = xgb.DMatrix(train_val_features, label = train_val['Y'])\n",
    "\n",
    "    # perform cross-validation\n",
    "    cv_results = xgb.cv(dtrain = dtrain_val, params = params, nfold = 5, \\\n",
    "        num_boost_round = 100, early_stopping_rounds = 10, metrics = \"auc\", as_pandas = True, seed = seed)\n",
    "\n",
    "    # train final model based on parameters in Optuna trial\n",
    "    xgb_model = xgb.train(dtrain = dtrain_val, params = params, num_boost_round = 50)\n",
    "\n",
    "    # report the final boosting metric as the summary metric for this Optuna trial\n",
    "    test_auc_mean = cv_results[\"test-auc-mean\"].tail(1)\n",
    "\n",
    "    # return model and metric\n",
    "    return xgb_model, test_auc_mean"
   ]
  },
  {
   "cell_type": "markdown",
   "metadata": {},
   "source": [
    "I define the Optuna objective function."
   ]
  },
  {
   "cell_type": "code",
   "execution_count": 5,
   "metadata": {},
   "outputs": [],
   "source": [
    "# define directories\n",
    "optuna_dir = \"optuna/\"\n",
    "model_dir = optuna_dir + \"models/\"\n",
    "study_dir = optuna_dir + \"database/\"\n",
    "\n",
    "# define objective function\n",
    "def objective(trial):\n",
    "\n",
    "    # start the training loop\n",
    "    trial_xgb_model, trial_test_auc_mean = train_xgboost(trial)\n",
    "\n",
    "    # save model for this loop\n",
    "    trial_xgb_model.save_model(model_dir + \"xgboost_model_{}.json\".format(trial.number))\n",
    "\n",
    "    return trial_test_auc_mean"
   ]
  },
  {
   "cell_type": "markdown",
   "metadata": {},
   "source": [
    "I run the Optuna trials."
   ]
  },
  {
   "cell_type": "code",
   "execution_count": 6,
   "metadata": {},
   "outputs": [
    {
     "name": "stderr",
     "output_type": "stream",
     "text": [
      "\u001b[32m[I 2022-05-05 02:04:12,662]\u001b[0m Using an existing study with name 'xgboost-study' instead of creating a new one.\u001b[0m\n"
     ]
    },
    {
     "name": "stdout",
     "output_type": "stream",
     "text": [
      "Using an existing study with name 'xgboost-study' instead of creating a new one.\n"
     ]
    },
    {
     "name": "stderr",
     "output_type": "stream",
     "text": [
      "\u001b[33m[W 2022-05-05 02:04:13,181]\u001b[0m The parameter 'max_depth' in trial#150 is sampled independently instead of being sampled by multivariate TPE sampler. (optimization performance may be degraded). You can suppress this warning by setting `warn_independent_sampling` to `False` in the constructor of `TPESampler`, if this independent sampling is intended behavior.\u001b[0m\n"
     ]
    },
    {
     "name": "stdout",
     "output_type": "stream",
     "text": [
      "The parameter 'max_depth' in trial#150 is sampled independently instead of being sampled by multivariate TPE sampler. (optimization performance may be degraded). You can suppress this warning by setting `warn_independent_sampling` to `False` in the constructor of `TPESampler`, if this independent sampling is intended behavior.\n"
     ]
    },
    {
     "name": "stderr",
     "output_type": "stream",
     "text": [
      "\u001b[33m[W 2022-05-05 02:04:13,261]\u001b[0m The parameter 'eta' in trial#150 is sampled independently instead of being sampled by multivariate TPE sampler. (optimization performance may be degraded). You can suppress this warning by setting `warn_independent_sampling` to `False` in the constructor of `TPESampler`, if this independent sampling is intended behavior.\u001b[0m\n"
     ]
    },
    {
     "name": "stdout",
     "output_type": "stream",
     "text": [
      "The parameter 'eta' in trial#150 is sampled independently instead of being sampled by multivariate TPE sampler. (optimization performance may be degraded). You can suppress this warning by setting `warn_independent_sampling` to `False` in the constructor of `TPESampler`, if this independent sampling is intended behavior.\n"
     ]
    },
    {
     "name": "stderr",
     "output_type": "stream",
     "text": [
      "\u001b[33m[W 2022-05-05 02:04:13,320]\u001b[0m The parameter 'gamma' in trial#150 is sampled independently instead of being sampled by multivariate TPE sampler. (optimization performance may be degraded). You can suppress this warning by setting `warn_independent_sampling` to `False` in the constructor of `TPESampler`, if this independent sampling is intended behavior.\u001b[0m\n"
     ]
    },
    {
     "name": "stdout",
     "output_type": "stream",
     "text": [
      "The parameter 'gamma' in trial#150 is sampled independently instead of being sampled by multivariate TPE sampler. (optimization performance may be degraded). You can suppress this warning by setting `warn_independent_sampling` to `False` in the constructor of `TPESampler`, if this independent sampling is intended behavior.\n"
     ]
    },
    {
     "name": "stderr",
     "output_type": "stream",
     "text": [
      "\u001b[33m[W 2022-05-05 02:04:13,382]\u001b[0m The parameter 'grow_policy' in trial#150 is sampled independently instead of being sampled by multivariate TPE sampler. (optimization performance may be degraded). You can suppress this warning by setting `warn_independent_sampling` to `False` in the constructor of `TPESampler`, if this independent sampling is intended behavior.\u001b[0m\n"
     ]
    },
    {
     "name": "stdout",
     "output_type": "stream",
     "text": [
      "The parameter 'grow_policy' in trial#150 is sampled independently instead of being sampled by multivariate TPE sampler. (optimization performance may be degraded). You can suppress this warning by setting `warn_independent_sampling` to `False` in the constructor of `TPESampler`, if this independent sampling is intended behavior.\n"
     ]
    },
    {
     "name": "stderr",
     "output_type": "stream",
     "text": [
      "\u001b[33m[W 2022-05-05 02:04:13,426]\u001b[0m The parameter 'sample_type' in trial#150 is sampled independently instead of being sampled by multivariate TPE sampler. (optimization performance may be degraded). You can suppress this warning by setting `warn_independent_sampling` to `False` in the constructor of `TPESampler`, if this independent sampling is intended behavior.\u001b[0m\n"
     ]
    },
    {
     "name": "stdout",
     "output_type": "stream",
     "text": [
      "The parameter 'sample_type' in trial#150 is sampled independently instead of being sampled by multivariate TPE sampler. (optimization performance may be degraded). You can suppress this warning by setting `warn_independent_sampling` to `False` in the constructor of `TPESampler`, if this independent sampling is intended behavior.\n"
     ]
    },
    {
     "name": "stderr",
     "output_type": "stream",
     "text": [
      "\u001b[33m[W 2022-05-05 02:04:13,479]\u001b[0m The parameter 'normalize_type' in trial#150 is sampled independently instead of being sampled by multivariate TPE sampler. (optimization performance may be degraded). You can suppress this warning by setting `warn_independent_sampling` to `False` in the constructor of `TPESampler`, if this independent sampling is intended behavior.\u001b[0m\n"
     ]
    },
    {
     "name": "stdout",
     "output_type": "stream",
     "text": [
      "The parameter 'normalize_type' in trial#150 is sampled independently instead of being sampled by multivariate TPE sampler. (optimization performance may be degraded). You can suppress this warning by setting `warn_independent_sampling` to `False` in the constructor of `TPESampler`, if this independent sampling is intended behavior.\n"
     ]
    },
    {
     "name": "stderr",
     "output_type": "stream",
     "text": [
      "\u001b[33m[W 2022-05-05 02:04:13,532]\u001b[0m The parameter 'rate_drop' in trial#150 is sampled independently instead of being sampled by multivariate TPE sampler. (optimization performance may be degraded). You can suppress this warning by setting `warn_independent_sampling` to `False` in the constructor of `TPESampler`, if this independent sampling is intended behavior.\u001b[0m\n"
     ]
    },
    {
     "name": "stdout",
     "output_type": "stream",
     "text": [
      "The parameter 'rate_drop' in trial#150 is sampled independently instead of being sampled by multivariate TPE sampler. (optimization performance may be degraded). You can suppress this warning by setting `warn_independent_sampling` to `False` in the constructor of `TPESampler`, if this independent sampling is intended behavior.\n"
     ]
    },
    {
     "name": "stderr",
     "output_type": "stream",
     "text": [
      "\u001b[33m[W 2022-05-05 02:04:13,596]\u001b[0m The parameter 'skip_drop' in trial#150 is sampled independently instead of being sampled by multivariate TPE sampler. (optimization performance may be degraded). You can suppress this warning by setting `warn_independent_sampling` to `False` in the constructor of `TPESampler`, if this independent sampling is intended behavior.\u001b[0m\n"
     ]
    },
    {
     "name": "stdout",
     "output_type": "stream",
     "text": [
      "The parameter 'skip_drop' in trial#150 is sampled independently instead of being sampled by multivariate TPE sampler. (optimization performance may be degraded). You can suppress this warning by setting `warn_independent_sampling` to `False` in the constructor of `TPESampler`, if this independent sampling is intended behavior.\n",
      "\n",
      "===== TRIAL #150 =====\n",
      "Fingerprint: RDKit2D\n",
      "Booster: dart\n",
      "Lambda: 0.1398510237637687\n",
      "Alpha: 0.4200632616102525\n"
     ]
    },
    {
     "name": "stderr",
     "output_type": "stream",
     "text": [
      "WARNING:root:No normalization for BCUT2D_MWHI\n",
      "WARNING:root:No normalization for BCUT2D_MWLOW\n",
      "WARNING:root:No normalization for BCUT2D_CHGHI\n",
      "WARNING:root:No normalization for BCUT2D_CHGLO\n",
      "WARNING:root:No normalization for BCUT2D_LOGPHI\n",
      "WARNING:root:No normalization for BCUT2D_LOGPLOW\n",
      "WARNING:root:No normalization for BCUT2D_MRHI\n",
      "WARNING:root:No normalization for BCUT2D_MRLOW\n",
      "\u001b[32m[I 2022-05-05 02:10:29,470]\u001b[0m Trial 150 finished with value: 0.9127588980971636 and parameters: {'mol_dst': 'RDKit2D', 'booster': 'dart', 'lambda': 0.1398510237637687, 'alpha': 0.4200632616102525, 'max_depth': 9, 'eta': 0.23658507581256213, 'gamma': 1.1779334573718214e-08, 'grow_policy': 'depthwise', 'sample_type': 'weighted', 'normalize_type': 'forest', 'rate_drop': 0.00027751173492367225, 'skip_drop': 1.3536485194214702e-08}. Best is trial 140 with value: 0.9194219521165913.\u001b[0m\n"
     ]
    },
    {
     "name": "stdout",
     "output_type": "stream",
     "text": [
      "Trial 150 finished with value: 0.9127588980971636 and parameters: {'mol_dst': 'RDKit2D', 'booster': 'dart', 'lambda': 0.1398510237637687, 'alpha': 0.4200632616102525, 'max_depth': 9, 'eta': 0.23658507581256213, 'gamma': 1.1779334573718214e-08, 'grow_policy': 'depthwise', 'sample_type': 'weighted', 'normalize_type': 'forest', 'rate_drop': 0.00027751173492367225, 'skip_drop': 1.3536485194214702e-08}. Best is trial 140 with value: 0.9194219521165913.\n"
     ]
    },
    {
     "name": "stderr",
     "output_type": "stream",
     "text": [
      "\u001b[33m[W 2022-05-05 02:10:29,768]\u001b[0m The parameter 'max_depth' in trial#151 is sampled independently instead of being sampled by multivariate TPE sampler. (optimization performance may be degraded). You can suppress this warning by setting `warn_independent_sampling` to `False` in the constructor of `TPESampler`, if this independent sampling is intended behavior.\u001b[0m\n"
     ]
    },
    {
     "name": "stdout",
     "output_type": "stream",
     "text": [
      "The parameter 'max_depth' in trial#151 is sampled independently instead of being sampled by multivariate TPE sampler. (optimization performance may be degraded). You can suppress this warning by setting `warn_independent_sampling` to `False` in the constructor of `TPESampler`, if this independent sampling is intended behavior.\n"
     ]
    },
    {
     "name": "stderr",
     "output_type": "stream",
     "text": [
      "\u001b[33m[W 2022-05-05 02:10:29,812]\u001b[0m The parameter 'eta' in trial#151 is sampled independently instead of being sampled by multivariate TPE sampler. (optimization performance may be degraded). You can suppress this warning by setting `warn_independent_sampling` to `False` in the constructor of `TPESampler`, if this independent sampling is intended behavior.\u001b[0m\n"
     ]
    },
    {
     "name": "stdout",
     "output_type": "stream",
     "text": [
      "The parameter 'eta' in trial#151 is sampled independently instead of being sampled by multivariate TPE sampler. (optimization performance may be degraded). You can suppress this warning by setting `warn_independent_sampling` to `False` in the constructor of `TPESampler`, if this independent sampling is intended behavior.\n"
     ]
    },
    {
     "name": "stderr",
     "output_type": "stream",
     "text": [
      "\u001b[33m[W 2022-05-05 02:10:29,858]\u001b[0m The parameter 'gamma' in trial#151 is sampled independently instead of being sampled by multivariate TPE sampler. (optimization performance may be degraded). You can suppress this warning by setting `warn_independent_sampling` to `False` in the constructor of `TPESampler`, if this independent sampling is intended behavior.\u001b[0m\n"
     ]
    },
    {
     "name": "stdout",
     "output_type": "stream",
     "text": [
      "The parameter 'gamma' in trial#151 is sampled independently instead of being sampled by multivariate TPE sampler. (optimization performance may be degraded). You can suppress this warning by setting `warn_independent_sampling` to `False` in the constructor of `TPESampler`, if this independent sampling is intended behavior.\n"
     ]
    },
    {
     "name": "stderr",
     "output_type": "stream",
     "text": [
      "\u001b[33m[W 2022-05-05 02:10:29,903]\u001b[0m The parameter 'grow_policy' in trial#151 is sampled independently instead of being sampled by multivariate TPE sampler. (optimization performance may be degraded). You can suppress this warning by setting `warn_independent_sampling` to `False` in the constructor of `TPESampler`, if this independent sampling is intended behavior.\u001b[0m\n"
     ]
    },
    {
     "name": "stdout",
     "output_type": "stream",
     "text": [
      "The parameter 'grow_policy' in trial#151 is sampled independently instead of being sampled by multivariate TPE sampler. (optimization performance may be degraded). You can suppress this warning by setting `warn_independent_sampling` to `False` in the constructor of `TPESampler`, if this independent sampling is intended behavior.\n"
     ]
    },
    {
     "name": "stderr",
     "output_type": "stream",
     "text": [
      "\u001b[33m[W 2022-05-05 02:10:29,941]\u001b[0m The parameter 'sample_type' in trial#151 is sampled independently instead of being sampled by multivariate TPE sampler. (optimization performance may be degraded). You can suppress this warning by setting `warn_independent_sampling` to `False` in the constructor of `TPESampler`, if this independent sampling is intended behavior.\u001b[0m\n"
     ]
    },
    {
     "name": "stdout",
     "output_type": "stream",
     "text": [
      "The parameter 'sample_type' in trial#151 is sampled independently instead of being sampled by multivariate TPE sampler. (optimization performance may be degraded). You can suppress this warning by setting `warn_independent_sampling` to `False` in the constructor of `TPESampler`, if this independent sampling is intended behavior.\n"
     ]
    },
    {
     "name": "stderr",
     "output_type": "stream",
     "text": [
      "\u001b[33m[W 2022-05-05 02:10:29,983]\u001b[0m The parameter 'normalize_type' in trial#151 is sampled independently instead of being sampled by multivariate TPE sampler. (optimization performance may be degraded). You can suppress this warning by setting `warn_independent_sampling` to `False` in the constructor of `TPESampler`, if this independent sampling is intended behavior.\u001b[0m\n"
     ]
    },
    {
     "name": "stdout",
     "output_type": "stream",
     "text": [
      "The parameter 'normalize_type' in trial#151 is sampled independently instead of being sampled by multivariate TPE sampler. (optimization performance may be degraded). You can suppress this warning by setting `warn_independent_sampling` to `False` in the constructor of `TPESampler`, if this independent sampling is intended behavior.\n"
     ]
    },
    {
     "name": "stderr",
     "output_type": "stream",
     "text": [
      "\u001b[33m[W 2022-05-05 02:10:30,020]\u001b[0m The parameter 'rate_drop' in trial#151 is sampled independently instead of being sampled by multivariate TPE sampler. (optimization performance may be degraded). You can suppress this warning by setting `warn_independent_sampling` to `False` in the constructor of `TPESampler`, if this independent sampling is intended behavior.\u001b[0m\n"
     ]
    },
    {
     "name": "stdout",
     "output_type": "stream",
     "text": [
      "The parameter 'rate_drop' in trial#151 is sampled independently instead of being sampled by multivariate TPE sampler. (optimization performance may be degraded). You can suppress this warning by setting `warn_independent_sampling` to `False` in the constructor of `TPESampler`, if this independent sampling is intended behavior.\n"
     ]
    },
    {
     "name": "stderr",
     "output_type": "stream",
     "text": [
      "\u001b[33m[W 2022-05-05 02:10:30,063]\u001b[0m The parameter 'skip_drop' in trial#151 is sampled independently instead of being sampled by multivariate TPE sampler. (optimization performance may be degraded). You can suppress this warning by setting `warn_independent_sampling` to `False` in the constructor of `TPESampler`, if this independent sampling is intended behavior.\u001b[0m\n"
     ]
    },
    {
     "name": "stdout",
     "output_type": "stream",
     "text": [
      "The parameter 'skip_drop' in trial#151 is sampled independently instead of being sampled by multivariate TPE sampler. (optimization performance may be degraded). You can suppress this warning by setting `warn_independent_sampling` to `False` in the constructor of `TPESampler`, if this independent sampling is intended behavior.\n",
      "\n",
      "===== TRIAL #151 =====\n",
      "Fingerprint: ECFP2\n",
      "Booster: dart\n",
      "Lambda: 0.18158197445232235\n",
      "Alpha: 0.16402729122803048\n"
     ]
    },
    {
     "name": "stderr",
     "output_type": "stream",
     "text": [
      "\u001b[32m[I 2022-05-05 02:13:35,611]\u001b[0m Trial 151 finished with value: 0.914211313949246 and parameters: {'mol_dst': 'ECFP2', 'booster': 'dart', 'lambda': 0.18158197445232235, 'alpha': 0.16402729122803048, 'max_depth': 9, 'eta': 0.13672216786804622, 'gamma': 1.7003080927777646e-08, 'grow_policy': 'depthwise', 'sample_type': 'weighted', 'normalize_type': 'forest', 'rate_drop': 1.2174230294310574e-05, 'skip_drop': 2.091538915839185e-07}. Best is trial 140 with value: 0.9194219521165913.\u001b[0m\n"
     ]
    },
    {
     "name": "stdout",
     "output_type": "stream",
     "text": [
      "Trial 151 finished with value: 0.914211313949246 and parameters: {'mol_dst': 'ECFP2', 'booster': 'dart', 'lambda': 0.18158197445232235, 'alpha': 0.16402729122803048, 'max_depth': 9, 'eta': 0.13672216786804622, 'gamma': 1.7003080927777646e-08, 'grow_policy': 'depthwise', 'sample_type': 'weighted', 'normalize_type': 'forest', 'rate_drop': 1.2174230294310574e-05, 'skip_drop': 2.091538915839185e-07}. Best is trial 140 with value: 0.9194219521165913.\n"
     ]
    },
    {
     "name": "stderr",
     "output_type": "stream",
     "text": [
      "\u001b[33m[W 2022-05-05 02:13:36,164]\u001b[0m The parameter 'max_depth' in trial#152 is sampled independently instead of being sampled by multivariate TPE sampler. (optimization performance may be degraded). You can suppress this warning by setting `warn_independent_sampling` to `False` in the constructor of `TPESampler`, if this independent sampling is intended behavior.\u001b[0m\n"
     ]
    },
    {
     "name": "stdout",
     "output_type": "stream",
     "text": [
      "The parameter 'max_depth' in trial#152 is sampled independently instead of being sampled by multivariate TPE sampler. (optimization performance may be degraded). You can suppress this warning by setting `warn_independent_sampling` to `False` in the constructor of `TPESampler`, if this independent sampling is intended behavior.\n"
     ]
    },
    {
     "name": "stderr",
     "output_type": "stream",
     "text": [
      "\u001b[33m[W 2022-05-05 02:13:36,248]\u001b[0m The parameter 'eta' in trial#152 is sampled independently instead of being sampled by multivariate TPE sampler. (optimization performance may be degraded). You can suppress this warning by setting `warn_independent_sampling` to `False` in the constructor of `TPESampler`, if this independent sampling is intended behavior.\u001b[0m\n"
     ]
    },
    {
     "name": "stdout",
     "output_type": "stream",
     "text": [
      "The parameter 'eta' in trial#152 is sampled independently instead of being sampled by multivariate TPE sampler. (optimization performance may be degraded). You can suppress this warning by setting `warn_independent_sampling` to `False` in the constructor of `TPESampler`, if this independent sampling is intended behavior.\n"
     ]
    },
    {
     "name": "stderr",
     "output_type": "stream",
     "text": [
      "\u001b[33m[W 2022-05-05 02:13:36,331]\u001b[0m The parameter 'gamma' in trial#152 is sampled independently instead of being sampled by multivariate TPE sampler. (optimization performance may be degraded). You can suppress this warning by setting `warn_independent_sampling` to `False` in the constructor of `TPESampler`, if this independent sampling is intended behavior.\u001b[0m\n"
     ]
    },
    {
     "name": "stdout",
     "output_type": "stream",
     "text": [
      "The parameter 'gamma' in trial#152 is sampled independently instead of being sampled by multivariate TPE sampler. (optimization performance may be degraded). You can suppress this warning by setting `warn_independent_sampling` to `False` in the constructor of `TPESampler`, if this independent sampling is intended behavior.\n"
     ]
    },
    {
     "name": "stderr",
     "output_type": "stream",
     "text": [
      "\u001b[33m[W 2022-05-05 02:13:36,413]\u001b[0m The parameter 'grow_policy' in trial#152 is sampled independently instead of being sampled by multivariate TPE sampler. (optimization performance may be degraded). You can suppress this warning by setting `warn_independent_sampling` to `False` in the constructor of `TPESampler`, if this independent sampling is intended behavior.\u001b[0m\n"
     ]
    },
    {
     "name": "stdout",
     "output_type": "stream",
     "text": [
      "The parameter 'grow_policy' in trial#152 is sampled independently instead of being sampled by multivariate TPE sampler. (optimization performance may be degraded). You can suppress this warning by setting `warn_independent_sampling` to `False` in the constructor of `TPESampler`, if this independent sampling is intended behavior.\n"
     ]
    },
    {
     "name": "stderr",
     "output_type": "stream",
     "text": [
      "\u001b[33m[W 2022-05-05 02:13:36,480]\u001b[0m The parameter 'sample_type' in trial#152 is sampled independently instead of being sampled by multivariate TPE sampler. (optimization performance may be degraded). You can suppress this warning by setting `warn_independent_sampling` to `False` in the constructor of `TPESampler`, if this independent sampling is intended behavior.\u001b[0m\n"
     ]
    },
    {
     "name": "stdout",
     "output_type": "stream",
     "text": [
      "The parameter 'sample_type' in trial#152 is sampled independently instead of being sampled by multivariate TPE sampler. (optimization performance may be degraded). You can suppress this warning by setting `warn_independent_sampling` to `False` in the constructor of `TPESampler`, if this independent sampling is intended behavior.\n"
     ]
    },
    {
     "name": "stderr",
     "output_type": "stream",
     "text": [
      "\u001b[33m[W 2022-05-05 02:13:36,551]\u001b[0m The parameter 'normalize_type' in trial#152 is sampled independently instead of being sampled by multivariate TPE sampler. (optimization performance may be degraded). You can suppress this warning by setting `warn_independent_sampling` to `False` in the constructor of `TPESampler`, if this independent sampling is intended behavior.\u001b[0m\n"
     ]
    },
    {
     "name": "stdout",
     "output_type": "stream",
     "text": [
      "The parameter 'normalize_type' in trial#152 is sampled independently instead of being sampled by multivariate TPE sampler. (optimization performance may be degraded). You can suppress this warning by setting `warn_independent_sampling` to `False` in the constructor of `TPESampler`, if this independent sampling is intended behavior.\n"
     ]
    },
    {
     "name": "stderr",
     "output_type": "stream",
     "text": [
      "\u001b[33m[W 2022-05-05 02:13:36,618]\u001b[0m The parameter 'rate_drop' in trial#152 is sampled independently instead of being sampled by multivariate TPE sampler. (optimization performance may be degraded). You can suppress this warning by setting `warn_independent_sampling` to `False` in the constructor of `TPESampler`, if this independent sampling is intended behavior.\u001b[0m\n"
     ]
    },
    {
     "name": "stdout",
     "output_type": "stream",
     "text": [
      "The parameter 'rate_drop' in trial#152 is sampled independently instead of being sampled by multivariate TPE sampler. (optimization performance may be degraded). You can suppress this warning by setting `warn_independent_sampling` to `False` in the constructor of `TPESampler`, if this independent sampling is intended behavior.\n"
     ]
    },
    {
     "name": "stderr",
     "output_type": "stream",
     "text": [
      "\u001b[33m[W 2022-05-05 02:13:36,703]\u001b[0m The parameter 'skip_drop' in trial#152 is sampled independently instead of being sampled by multivariate TPE sampler. (optimization performance may be degraded). You can suppress this warning by setting `warn_independent_sampling` to `False` in the constructor of `TPESampler`, if this independent sampling is intended behavior.\u001b[0m\n"
     ]
    },
    {
     "name": "stdout",
     "output_type": "stream",
     "text": [
      "The parameter 'skip_drop' in trial#152 is sampled independently instead of being sampled by multivariate TPE sampler. (optimization performance may be degraded). You can suppress this warning by setting `warn_independent_sampling` to `False` in the constructor of `TPESampler`, if this independent sampling is intended behavior.\n",
      "\n",
      "===== TRIAL #152 =====\n",
      "Fingerprint: RDKit2D\n",
      "Booster: dart\n",
      "Lambda: 0.004016595087569602\n",
      "Alpha: 0.03710426159647412\n"
     ]
    },
    {
     "name": "stderr",
     "output_type": "stream",
     "text": [
      "\u001b[32m[I 2022-05-05 02:18:37,925]\u001b[0m Trial 152 finished with value: 0.9019536806420021 and parameters: {'mol_dst': 'RDKit2D', 'booster': 'dart', 'lambda': 0.004016595087569602, 'alpha': 0.03710426159647412, 'max_depth': 9, 'eta': 0.015376918334177815, 'gamma': 1.9301532564210515e-08, 'grow_policy': 'depthwise', 'sample_type': 'uniform', 'normalize_type': 'forest', 'rate_drop': 0.0003492341346379726, 'skip_drop': 1.0813747927028513e-08}. Best is trial 140 with value: 0.9194219521165913.\u001b[0m\n"
     ]
    },
    {
     "name": "stdout",
     "output_type": "stream",
     "text": [
      "Trial 152 finished with value: 0.9019536806420021 and parameters: {'mol_dst': 'RDKit2D', 'booster': 'dart', 'lambda': 0.004016595087569602, 'alpha': 0.03710426159647412, 'max_depth': 9, 'eta': 0.015376918334177815, 'gamma': 1.9301532564210515e-08, 'grow_policy': 'depthwise', 'sample_type': 'uniform', 'normalize_type': 'forest', 'rate_drop': 0.0003492341346379726, 'skip_drop': 1.0813747927028513e-08}. Best is trial 140 with value: 0.9194219521165913.\n"
     ]
    },
    {
     "name": "stderr",
     "output_type": "stream",
     "text": [
      "\u001b[33m[W 2022-05-05 02:18:38,309]\u001b[0m The parameter 'max_depth' in trial#153 is sampled independently instead of being sampled by multivariate TPE sampler. (optimization performance may be degraded). You can suppress this warning by setting `warn_independent_sampling` to `False` in the constructor of `TPESampler`, if this independent sampling is intended behavior.\u001b[0m\n"
     ]
    },
    {
     "name": "stdout",
     "output_type": "stream",
     "text": [
      "The parameter 'max_depth' in trial#153 is sampled independently instead of being sampled by multivariate TPE sampler. (optimization performance may be degraded). You can suppress this warning by setting `warn_independent_sampling` to `False` in the constructor of `TPESampler`, if this independent sampling is intended behavior.\n"
     ]
    },
    {
     "name": "stderr",
     "output_type": "stream",
     "text": [
      "\u001b[33m[W 2022-05-05 02:18:38,378]\u001b[0m The parameter 'eta' in trial#153 is sampled independently instead of being sampled by multivariate TPE sampler. (optimization performance may be degraded). You can suppress this warning by setting `warn_independent_sampling` to `False` in the constructor of `TPESampler`, if this independent sampling is intended behavior.\u001b[0m\n"
     ]
    },
    {
     "name": "stdout",
     "output_type": "stream",
     "text": [
      "The parameter 'eta' in trial#153 is sampled independently instead of being sampled by multivariate TPE sampler. (optimization performance may be degraded). You can suppress this warning by setting `warn_independent_sampling` to `False` in the constructor of `TPESampler`, if this independent sampling is intended behavior.\n"
     ]
    },
    {
     "name": "stderr",
     "output_type": "stream",
     "text": [
      "\u001b[33m[W 2022-05-05 02:18:38,441]\u001b[0m The parameter 'gamma' in trial#153 is sampled independently instead of being sampled by multivariate TPE sampler. (optimization performance may be degraded). You can suppress this warning by setting `warn_independent_sampling` to `False` in the constructor of `TPESampler`, if this independent sampling is intended behavior.\u001b[0m\n"
     ]
    },
    {
     "name": "stdout",
     "output_type": "stream",
     "text": [
      "The parameter 'gamma' in trial#153 is sampled independently instead of being sampled by multivariate TPE sampler. (optimization performance may be degraded). You can suppress this warning by setting `warn_independent_sampling` to `False` in the constructor of `TPESampler`, if this independent sampling is intended behavior.\n"
     ]
    },
    {
     "name": "stderr",
     "output_type": "stream",
     "text": [
      "\u001b[33m[W 2022-05-05 02:18:38,503]\u001b[0m The parameter 'grow_policy' in trial#153 is sampled independently instead of being sampled by multivariate TPE sampler. (optimization performance may be degraded). You can suppress this warning by setting `warn_independent_sampling` to `False` in the constructor of `TPESampler`, if this independent sampling is intended behavior.\u001b[0m\n"
     ]
    },
    {
     "name": "stdout",
     "output_type": "stream",
     "text": [
      "The parameter 'grow_policy' in trial#153 is sampled independently instead of being sampled by multivariate TPE sampler. (optimization performance may be degraded). You can suppress this warning by setting `warn_independent_sampling` to `False` in the constructor of `TPESampler`, if this independent sampling is intended behavior.\n"
     ]
    },
    {
     "name": "stderr",
     "output_type": "stream",
     "text": [
      "\u001b[33m[W 2022-05-05 02:18:38,551]\u001b[0m The parameter 'sample_type' in trial#153 is sampled independently instead of being sampled by multivariate TPE sampler. (optimization performance may be degraded). You can suppress this warning by setting `warn_independent_sampling` to `False` in the constructor of `TPESampler`, if this independent sampling is intended behavior.\u001b[0m\n"
     ]
    },
    {
     "name": "stdout",
     "output_type": "stream",
     "text": [
      "The parameter 'sample_type' in trial#153 is sampled independently instead of being sampled by multivariate TPE sampler. (optimization performance may be degraded). You can suppress this warning by setting `warn_independent_sampling` to `False` in the constructor of `TPESampler`, if this independent sampling is intended behavior.\n"
     ]
    },
    {
     "name": "stderr",
     "output_type": "stream",
     "text": [
      "\u001b[33m[W 2022-05-05 02:18:38,602]\u001b[0m The parameter 'normalize_type' in trial#153 is sampled independently instead of being sampled by multivariate TPE sampler. (optimization performance may be degraded). You can suppress this warning by setting `warn_independent_sampling` to `False` in the constructor of `TPESampler`, if this independent sampling is intended behavior.\u001b[0m\n"
     ]
    },
    {
     "name": "stdout",
     "output_type": "stream",
     "text": [
      "The parameter 'normalize_type' in trial#153 is sampled independently instead of being sampled by multivariate TPE sampler. (optimization performance may be degraded). You can suppress this warning by setting `warn_independent_sampling` to `False` in the constructor of `TPESampler`, if this independent sampling is intended behavior.\n"
     ]
    },
    {
     "name": "stderr",
     "output_type": "stream",
     "text": [
      "\u001b[33m[W 2022-05-05 02:18:38,653]\u001b[0m The parameter 'rate_drop' in trial#153 is sampled independently instead of being sampled by multivariate TPE sampler. (optimization performance may be degraded). You can suppress this warning by setting `warn_independent_sampling` to `False` in the constructor of `TPESampler`, if this independent sampling is intended behavior.\u001b[0m\n"
     ]
    },
    {
     "name": "stdout",
     "output_type": "stream",
     "text": [
      "The parameter 'rate_drop' in trial#153 is sampled independently instead of being sampled by multivariate TPE sampler. (optimization performance may be degraded). You can suppress this warning by setting `warn_independent_sampling` to `False` in the constructor of `TPESampler`, if this independent sampling is intended behavior.\n"
     ]
    },
    {
     "name": "stderr",
     "output_type": "stream",
     "text": [
      "\u001b[33m[W 2022-05-05 02:18:38,713]\u001b[0m The parameter 'skip_drop' in trial#153 is sampled independently instead of being sampled by multivariate TPE sampler. (optimization performance may be degraded). You can suppress this warning by setting `warn_independent_sampling` to `False` in the constructor of `TPESampler`, if this independent sampling is intended behavior.\u001b[0m\n"
     ]
    },
    {
     "name": "stdout",
     "output_type": "stream",
     "text": [
      "The parameter 'skip_drop' in trial#153 is sampled independently instead of being sampled by multivariate TPE sampler. (optimization performance may be degraded). You can suppress this warning by setting `warn_independent_sampling` to `False` in the constructor of `TPESampler`, if this independent sampling is intended behavior.\n",
      "\n",
      "===== TRIAL #153 =====\n",
      "Fingerprint: RDKit2D\n",
      "Booster: dart\n",
      "Lambda: 0.06938857714778546\n",
      "Alpha: 0.12580288304890974\n"
     ]
    },
    {
     "name": "stderr",
     "output_type": "stream",
     "text": [
      "\u001b[32m[I 2022-05-05 02:22:34,246]\u001b[0m Trial 153 finished with value: 0.919911132859976 and parameters: {'mol_dst': 'RDKit2D', 'booster': 'dart', 'lambda': 0.06938857714778546, 'alpha': 0.12580288304890974, 'max_depth': 8, 'eta': 0.2041851588470187, 'gamma': 1.1863210641172191e-08, 'grow_policy': 'depthwise', 'sample_type': 'weighted', 'normalize_type': 'forest', 'rate_drop': 1.694743713660247e-05, 'skip_drop': 1.5978768990039328e-07}. Best is trial 153 with value: 0.919911132859976.\u001b[0m\n"
     ]
    },
    {
     "name": "stdout",
     "output_type": "stream",
     "text": [
      "Trial 153 finished with value: 0.919911132859976 and parameters: {'mol_dst': 'RDKit2D', 'booster': 'dart', 'lambda': 0.06938857714778546, 'alpha': 0.12580288304890974, 'max_depth': 8, 'eta': 0.2041851588470187, 'gamma': 1.1863210641172191e-08, 'grow_policy': 'depthwise', 'sample_type': 'weighted', 'normalize_type': 'forest', 'rate_drop': 1.694743713660247e-05, 'skip_drop': 1.5978768990039328e-07}. Best is trial 153 with value: 0.919911132859976.\n"
     ]
    },
    {
     "name": "stderr",
     "output_type": "stream",
     "text": [
      "\u001b[33m[W 2022-05-05 02:22:34,651]\u001b[0m The parameter 'max_depth' in trial#154 is sampled independently instead of being sampled by multivariate TPE sampler. (optimization performance may be degraded). You can suppress this warning by setting `warn_independent_sampling` to `False` in the constructor of `TPESampler`, if this independent sampling is intended behavior.\u001b[0m\n"
     ]
    },
    {
     "name": "stdout",
     "output_type": "stream",
     "text": [
      "The parameter 'max_depth' in trial#154 is sampled independently instead of being sampled by multivariate TPE sampler. (optimization performance may be degraded). You can suppress this warning by setting `warn_independent_sampling` to `False` in the constructor of `TPESampler`, if this independent sampling is intended behavior.\n"
     ]
    },
    {
     "name": "stderr",
     "output_type": "stream",
     "text": [
      "\u001b[33m[W 2022-05-05 02:22:34,708]\u001b[0m The parameter 'eta' in trial#154 is sampled independently instead of being sampled by multivariate TPE sampler. (optimization performance may be degraded). You can suppress this warning by setting `warn_independent_sampling` to `False` in the constructor of `TPESampler`, if this independent sampling is intended behavior.\u001b[0m\n"
     ]
    },
    {
     "name": "stdout",
     "output_type": "stream",
     "text": [
      "The parameter 'eta' in trial#154 is sampled independently instead of being sampled by multivariate TPE sampler. (optimization performance may be degraded). You can suppress this warning by setting `warn_independent_sampling` to `False` in the constructor of `TPESampler`, if this independent sampling is intended behavior.\n"
     ]
    },
    {
     "name": "stderr",
     "output_type": "stream",
     "text": [
      "\u001b[33m[W 2022-05-05 02:22:34,769]\u001b[0m The parameter 'gamma' in trial#154 is sampled independently instead of being sampled by multivariate TPE sampler. (optimization performance may be degraded). You can suppress this warning by setting `warn_independent_sampling` to `False` in the constructor of `TPESampler`, if this independent sampling is intended behavior.\u001b[0m\n"
     ]
    },
    {
     "name": "stdout",
     "output_type": "stream",
     "text": [
      "The parameter 'gamma' in trial#154 is sampled independently instead of being sampled by multivariate TPE sampler. (optimization performance may be degraded). You can suppress this warning by setting `warn_independent_sampling` to `False` in the constructor of `TPESampler`, if this independent sampling is intended behavior.\n"
     ]
    },
    {
     "name": "stderr",
     "output_type": "stream",
     "text": [
      "\u001b[33m[W 2022-05-05 02:22:34,830]\u001b[0m The parameter 'grow_policy' in trial#154 is sampled independently instead of being sampled by multivariate TPE sampler. (optimization performance may be degraded). You can suppress this warning by setting `warn_independent_sampling` to `False` in the constructor of `TPESampler`, if this independent sampling is intended behavior.\u001b[0m\n"
     ]
    },
    {
     "name": "stdout",
     "output_type": "stream",
     "text": [
      "The parameter 'grow_policy' in trial#154 is sampled independently instead of being sampled by multivariate TPE sampler. (optimization performance may be degraded). You can suppress this warning by setting `warn_independent_sampling` to `False` in the constructor of `TPESampler`, if this independent sampling is intended behavior.\n"
     ]
    },
    {
     "name": "stderr",
     "output_type": "stream",
     "text": [
      "\u001b[33m[W 2022-05-05 02:22:34,880]\u001b[0m The parameter 'sample_type' in trial#154 is sampled independently instead of being sampled by multivariate TPE sampler. (optimization performance may be degraded). You can suppress this warning by setting `warn_independent_sampling` to `False` in the constructor of `TPESampler`, if this independent sampling is intended behavior.\u001b[0m\n"
     ]
    },
    {
     "name": "stdout",
     "output_type": "stream",
     "text": [
      "The parameter 'sample_type' in trial#154 is sampled independently instead of being sampled by multivariate TPE sampler. (optimization performance may be degraded). You can suppress this warning by setting `warn_independent_sampling` to `False` in the constructor of `TPESampler`, if this independent sampling is intended behavior.\n"
     ]
    },
    {
     "name": "stderr",
     "output_type": "stream",
     "text": [
      "\u001b[33m[W 2022-05-05 02:22:34,934]\u001b[0m The parameter 'normalize_type' in trial#154 is sampled independently instead of being sampled by multivariate TPE sampler. (optimization performance may be degraded). You can suppress this warning by setting `warn_independent_sampling` to `False` in the constructor of `TPESampler`, if this independent sampling is intended behavior.\u001b[0m\n"
     ]
    },
    {
     "name": "stdout",
     "output_type": "stream",
     "text": [
      "The parameter 'normalize_type' in trial#154 is sampled independently instead of being sampled by multivariate TPE sampler. (optimization performance may be degraded). You can suppress this warning by setting `warn_independent_sampling` to `False` in the constructor of `TPESampler`, if this independent sampling is intended behavior.\n"
     ]
    },
    {
     "name": "stderr",
     "output_type": "stream",
     "text": [
      "\u001b[33m[W 2022-05-05 02:22:34,986]\u001b[0m The parameter 'rate_drop' in trial#154 is sampled independently instead of being sampled by multivariate TPE sampler. (optimization performance may be degraded). You can suppress this warning by setting `warn_independent_sampling` to `False` in the constructor of `TPESampler`, if this independent sampling is intended behavior.\u001b[0m\n"
     ]
    },
    {
     "name": "stdout",
     "output_type": "stream",
     "text": [
      "The parameter 'rate_drop' in trial#154 is sampled independently instead of being sampled by multivariate TPE sampler. (optimization performance may be degraded). You can suppress this warning by setting `warn_independent_sampling` to `False` in the constructor of `TPESampler`, if this independent sampling is intended behavior.\n"
     ]
    },
    {
     "name": "stderr",
     "output_type": "stream",
     "text": [
      "\u001b[33m[W 2022-05-05 02:22:35,061]\u001b[0m The parameter 'skip_drop' in trial#154 is sampled independently instead of being sampled by multivariate TPE sampler. (optimization performance may be degraded). You can suppress this warning by setting `warn_independent_sampling` to `False` in the constructor of `TPESampler`, if this independent sampling is intended behavior.\u001b[0m\n"
     ]
    },
    {
     "name": "stdout",
     "output_type": "stream",
     "text": [
      "The parameter 'skip_drop' in trial#154 is sampled independently instead of being sampled by multivariate TPE sampler. (optimization performance may be degraded). You can suppress this warning by setting `warn_independent_sampling` to `False` in the constructor of `TPESampler`, if this independent sampling is intended behavior.\n",
      "\n",
      "===== TRIAL #154 =====\n",
      "Fingerprint: Daylight\n",
      "Booster: dart\n",
      "Lambda: 0.07746447587052441\n",
      "Alpha: 0.20698852040192298\n"
     ]
    },
    {
     "name": "stderr",
     "output_type": "stream",
     "text": [
      "\u001b[32m[I 2022-05-05 02:30:42,927]\u001b[0m Trial 154 finished with value: 0.876884845603524 and parameters: {'mol_dst': 'Daylight', 'booster': 'dart', 'lambda': 0.07746447587052441, 'alpha': 0.20698852040192298, 'max_depth': 8, 'eta': 0.02499094289673757, 'gamma': 0.00631656024119013, 'grow_policy': 'depthwise', 'sample_type': 'weighted', 'normalize_type': 'forest', 'rate_drop': 2.9878609451483467e-06, 'skip_drop': 8.073088062999617e-07}. Best is trial 153 with value: 0.919911132859976.\u001b[0m\n"
     ]
    },
    {
     "name": "stdout",
     "output_type": "stream",
     "text": [
      "Trial 154 finished with value: 0.876884845603524 and parameters: {'mol_dst': 'Daylight', 'booster': 'dart', 'lambda': 0.07746447587052441, 'alpha': 0.20698852040192298, 'max_depth': 8, 'eta': 0.02499094289673757, 'gamma': 0.00631656024119013, 'grow_policy': 'depthwise', 'sample_type': 'weighted', 'normalize_type': 'forest', 'rate_drop': 2.9878609451483467e-06, 'skip_drop': 8.073088062999617e-07}. Best is trial 153 with value: 0.919911132859976.\n",
      "\n",
      "===== TRIAL #155 =====\n",
      "Fingerprint: RDKit2D\n",
      "Booster: gblinear\n",
      "Lambda: 0.006540315610421202\n",
      "Alpha: 0.01867958678236709\n"
     ]
    },
    {
     "name": "stderr",
     "output_type": "stream",
     "text": [
      "\u001b[32m[I 2022-05-05 02:34:01,279]\u001b[0m Trial 155 finished with value: 0.8572302924450828 and parameters: {'mol_dst': 'RDKit2D', 'booster': 'gblinear', 'lambda': 0.006540315610421202, 'alpha': 0.01867958678236709}. Best is trial 153 with value: 0.919911132859976.\u001b[0m\n"
     ]
    },
    {
     "name": "stdout",
     "output_type": "stream",
     "text": [
      "Trial 155 finished with value: 0.8572302924450828 and parameters: {'mol_dst': 'RDKit2D', 'booster': 'gblinear', 'lambda': 0.006540315610421202, 'alpha': 0.01867958678236709}. Best is trial 153 with value: 0.919911132859976.\n"
     ]
    },
    {
     "name": "stderr",
     "output_type": "stream",
     "text": [
      "\u001b[33m[W 2022-05-05 02:34:01,673]\u001b[0m The parameter 'max_depth' in trial#156 is sampled independently instead of being sampled by multivariate TPE sampler. (optimization performance may be degraded). You can suppress this warning by setting `warn_independent_sampling` to `False` in the constructor of `TPESampler`, if this independent sampling is intended behavior.\u001b[0m\n"
     ]
    },
    {
     "name": "stdout",
     "output_type": "stream",
     "text": [
      "The parameter 'max_depth' in trial#156 is sampled independently instead of being sampled by multivariate TPE sampler. (optimization performance may be degraded). You can suppress this warning by setting `warn_independent_sampling` to `False` in the constructor of `TPESampler`, if this independent sampling is intended behavior.\n"
     ]
    },
    {
     "name": "stderr",
     "output_type": "stream",
     "text": [
      "\u001b[33m[W 2022-05-05 02:34:01,734]\u001b[0m The parameter 'eta' in trial#156 is sampled independently instead of being sampled by multivariate TPE sampler. (optimization performance may be degraded). You can suppress this warning by setting `warn_independent_sampling` to `False` in the constructor of `TPESampler`, if this independent sampling is intended behavior.\u001b[0m\n"
     ]
    },
    {
     "name": "stdout",
     "output_type": "stream",
     "text": [
      "The parameter 'eta' in trial#156 is sampled independently instead of being sampled by multivariate TPE sampler. (optimization performance may be degraded). You can suppress this warning by setting `warn_independent_sampling` to `False` in the constructor of `TPESampler`, if this independent sampling is intended behavior.\n"
     ]
    },
    {
     "name": "stderr",
     "output_type": "stream",
     "text": [
      "\u001b[33m[W 2022-05-05 02:34:01,824]\u001b[0m The parameter 'gamma' in trial#156 is sampled independently instead of being sampled by multivariate TPE sampler. (optimization performance may be degraded). You can suppress this warning by setting `warn_independent_sampling` to `False` in the constructor of `TPESampler`, if this independent sampling is intended behavior.\u001b[0m\n"
     ]
    },
    {
     "name": "stdout",
     "output_type": "stream",
     "text": [
      "The parameter 'gamma' in trial#156 is sampled independently instead of being sampled by multivariate TPE sampler. (optimization performance may be degraded). You can suppress this warning by setting `warn_independent_sampling` to `False` in the constructor of `TPESampler`, if this independent sampling is intended behavior.\n"
     ]
    },
    {
     "name": "stderr",
     "output_type": "stream",
     "text": [
      "\u001b[33m[W 2022-05-05 02:34:01,897]\u001b[0m The parameter 'grow_policy' in trial#156 is sampled independently instead of being sampled by multivariate TPE sampler. (optimization performance may be degraded). You can suppress this warning by setting `warn_independent_sampling` to `False` in the constructor of `TPESampler`, if this independent sampling is intended behavior.\u001b[0m\n"
     ]
    },
    {
     "name": "stdout",
     "output_type": "stream",
     "text": [
      "The parameter 'grow_policy' in trial#156 is sampled independently instead of being sampled by multivariate TPE sampler. (optimization performance may be degraded). You can suppress this warning by setting `warn_independent_sampling` to `False` in the constructor of `TPESampler`, if this independent sampling is intended behavior.\n",
      "\n",
      "===== TRIAL #156 =====\n",
      "Fingerprint: RDKit2D\n",
      "Booster: gbtree\n",
      "Lambda: 0.22824743271781314\n",
      "Alpha: 0.1290953933243105\n"
     ]
    },
    {
     "name": "stderr",
     "output_type": "stream",
     "text": [
      "\u001b[32m[I 2022-05-05 02:37:23,961]\u001b[0m Trial 156 finished with value: 0.9192610431117176 and parameters: {'mol_dst': 'RDKit2D', 'booster': 'gbtree', 'lambda': 0.22824743271781314, 'alpha': 0.1290953933243105, 'max_depth': 7, 'eta': 0.18882239976895623, 'gamma': 0.0002513045351569037, 'grow_policy': 'depthwise'}. Best is trial 153 with value: 0.919911132859976.\u001b[0m\n"
     ]
    },
    {
     "name": "stdout",
     "output_type": "stream",
     "text": [
      "Trial 156 finished with value: 0.9192610431117176 and parameters: {'mol_dst': 'RDKit2D', 'booster': 'gbtree', 'lambda': 0.22824743271781314, 'alpha': 0.1290953933243105, 'max_depth': 7, 'eta': 0.18882239976895623, 'gamma': 0.0002513045351569037, 'grow_policy': 'depthwise'}. Best is trial 153 with value: 0.919911132859976.\n"
     ]
    },
    {
     "name": "stderr",
     "output_type": "stream",
     "text": [
      "\u001b[33m[W 2022-05-05 02:37:24,406]\u001b[0m The parameter 'max_depth' in trial#157 is sampled independently instead of being sampled by multivariate TPE sampler. (optimization performance may be degraded). You can suppress this warning by setting `warn_independent_sampling` to `False` in the constructor of `TPESampler`, if this independent sampling is intended behavior.\u001b[0m\n"
     ]
    },
    {
     "name": "stdout",
     "output_type": "stream",
     "text": [
      "The parameter 'max_depth' in trial#157 is sampled independently instead of being sampled by multivariate TPE sampler. (optimization performance may be degraded). You can suppress this warning by setting `warn_independent_sampling` to `False` in the constructor of `TPESampler`, if this independent sampling is intended behavior.\n"
     ]
    },
    {
     "name": "stderr",
     "output_type": "stream",
     "text": [
      "\u001b[33m[W 2022-05-05 02:37:24,468]\u001b[0m The parameter 'eta' in trial#157 is sampled independently instead of being sampled by multivariate TPE sampler. (optimization performance may be degraded). You can suppress this warning by setting `warn_independent_sampling` to `False` in the constructor of `TPESampler`, if this independent sampling is intended behavior.\u001b[0m\n"
     ]
    },
    {
     "name": "stdout",
     "output_type": "stream",
     "text": [
      "The parameter 'eta' in trial#157 is sampled independently instead of being sampled by multivariate TPE sampler. (optimization performance may be degraded). You can suppress this warning by setting `warn_independent_sampling` to `False` in the constructor of `TPESampler`, if this independent sampling is intended behavior.\n"
     ]
    },
    {
     "name": "stderr",
     "output_type": "stream",
     "text": [
      "\u001b[33m[W 2022-05-05 02:37:24,533]\u001b[0m The parameter 'gamma' in trial#157 is sampled independently instead of being sampled by multivariate TPE sampler. (optimization performance may be degraded). You can suppress this warning by setting `warn_independent_sampling` to `False` in the constructor of `TPESampler`, if this independent sampling is intended behavior.\u001b[0m\n"
     ]
    },
    {
     "name": "stdout",
     "output_type": "stream",
     "text": [
      "The parameter 'gamma' in trial#157 is sampled independently instead of being sampled by multivariate TPE sampler. (optimization performance may be degraded). You can suppress this warning by setting `warn_independent_sampling` to `False` in the constructor of `TPESampler`, if this independent sampling is intended behavior.\n"
     ]
    },
    {
     "name": "stderr",
     "output_type": "stream",
     "text": [
      "\u001b[33m[W 2022-05-05 02:37:24,605]\u001b[0m The parameter 'grow_policy' in trial#157 is sampled independently instead of being sampled by multivariate TPE sampler. (optimization performance may be degraded). You can suppress this warning by setting `warn_independent_sampling` to `False` in the constructor of `TPESampler`, if this independent sampling is intended behavior.\u001b[0m\n"
     ]
    },
    {
     "name": "stdout",
     "output_type": "stream",
     "text": [
      "The parameter 'grow_policy' in trial#157 is sampled independently instead of being sampled by multivariate TPE sampler. (optimization performance may be degraded). You can suppress this warning by setting `warn_independent_sampling` to `False` in the constructor of `TPESampler`, if this independent sampling is intended behavior.\n",
      "\n",
      "===== TRIAL #157 =====\n",
      "Fingerprint: RDKit2D\n",
      "Booster: gbtree\n",
      "Lambda: 0.04275229448537253\n",
      "Alpha: 0.11195627785895508\n"
     ]
    },
    {
     "name": "stderr",
     "output_type": "stream",
     "text": [
      "\u001b[32m[I 2022-05-05 02:40:50,709]\u001b[0m Trial 157 finished with value: 0.9045211811981637 and parameters: {'mol_dst': 'RDKit2D', 'booster': 'gbtree', 'lambda': 0.04275229448537253, 'alpha': 0.11195627785895508, 'max_depth': 6, 'eta': 0.6904779134463643, 'gamma': 7.004626077547825e-05, 'grow_policy': 'depthwise'}. Best is trial 153 with value: 0.919911132859976.\u001b[0m\n"
     ]
    },
    {
     "name": "stdout",
     "output_type": "stream",
     "text": [
      "Trial 157 finished with value: 0.9045211811981637 and parameters: {'mol_dst': 'RDKit2D', 'booster': 'gbtree', 'lambda': 0.04275229448537253, 'alpha': 0.11195627785895508, 'max_depth': 6, 'eta': 0.6904779134463643, 'gamma': 7.004626077547825e-05, 'grow_policy': 'depthwise'}. Best is trial 153 with value: 0.919911132859976.\n"
     ]
    },
    {
     "name": "stderr",
     "output_type": "stream",
     "text": [
      "\u001b[33m[W 2022-05-05 02:40:51,127]\u001b[0m The parameter 'max_depth' in trial#158 is sampled independently instead of being sampled by multivariate TPE sampler. (optimization performance may be degraded). You can suppress this warning by setting `warn_independent_sampling` to `False` in the constructor of `TPESampler`, if this independent sampling is intended behavior.\u001b[0m\n"
     ]
    },
    {
     "name": "stdout",
     "output_type": "stream",
     "text": [
      "The parameter 'max_depth' in trial#158 is sampled independently instead of being sampled by multivariate TPE sampler. (optimization performance may be degraded). You can suppress this warning by setting `warn_independent_sampling` to `False` in the constructor of `TPESampler`, if this independent sampling is intended behavior.\n"
     ]
    },
    {
     "name": "stderr",
     "output_type": "stream",
     "text": [
      "\u001b[33m[W 2022-05-05 02:40:51,186]\u001b[0m The parameter 'eta' in trial#158 is sampled independently instead of being sampled by multivariate TPE sampler. (optimization performance may be degraded). You can suppress this warning by setting `warn_independent_sampling` to `False` in the constructor of `TPESampler`, if this independent sampling is intended behavior.\u001b[0m\n"
     ]
    },
    {
     "name": "stdout",
     "output_type": "stream",
     "text": [
      "The parameter 'eta' in trial#158 is sampled independently instead of being sampled by multivariate TPE sampler. (optimization performance may be degraded). You can suppress this warning by setting `warn_independent_sampling` to `False` in the constructor of `TPESampler`, if this independent sampling is intended behavior.\n"
     ]
    },
    {
     "name": "stderr",
     "output_type": "stream",
     "text": [
      "\u001b[33m[W 2022-05-05 02:40:51,261]\u001b[0m The parameter 'gamma' in trial#158 is sampled independently instead of being sampled by multivariate TPE sampler. (optimization performance may be degraded). You can suppress this warning by setting `warn_independent_sampling` to `False` in the constructor of `TPESampler`, if this independent sampling is intended behavior.\u001b[0m\n"
     ]
    },
    {
     "name": "stdout",
     "output_type": "stream",
     "text": [
      "The parameter 'gamma' in trial#158 is sampled independently instead of being sampled by multivariate TPE sampler. (optimization performance may be degraded). You can suppress this warning by setting `warn_independent_sampling` to `False` in the constructor of `TPESampler`, if this independent sampling is intended behavior.\n"
     ]
    },
    {
     "name": "stderr",
     "output_type": "stream",
     "text": [
      "\u001b[33m[W 2022-05-05 02:40:51,323]\u001b[0m The parameter 'grow_policy' in trial#158 is sampled independently instead of being sampled by multivariate TPE sampler. (optimization performance may be degraded). You can suppress this warning by setting `warn_independent_sampling` to `False` in the constructor of `TPESampler`, if this independent sampling is intended behavior.\u001b[0m\n"
     ]
    },
    {
     "name": "stdout",
     "output_type": "stream",
     "text": [
      "The parameter 'grow_policy' in trial#158 is sampled independently instead of being sampled by multivariate TPE sampler. (optimization performance may be degraded). You can suppress this warning by setting `warn_independent_sampling` to `False` in the constructor of `TPESampler`, if this independent sampling is intended behavior.\n"
     ]
    },
    {
     "name": "stderr",
     "output_type": "stream",
     "text": [
      "\u001b[33m[W 2022-05-05 02:40:51,378]\u001b[0m The parameter 'sample_type' in trial#158 is sampled independently instead of being sampled by multivariate TPE sampler. (optimization performance may be degraded). You can suppress this warning by setting `warn_independent_sampling` to `False` in the constructor of `TPESampler`, if this independent sampling is intended behavior.\u001b[0m\n"
     ]
    },
    {
     "name": "stdout",
     "output_type": "stream",
     "text": [
      "The parameter 'sample_type' in trial#158 is sampled independently instead of being sampled by multivariate TPE sampler. (optimization performance may be degraded). You can suppress this warning by setting `warn_independent_sampling` to `False` in the constructor of `TPESampler`, if this independent sampling is intended behavior.\n"
     ]
    },
    {
     "name": "stderr",
     "output_type": "stream",
     "text": [
      "\u001b[33m[W 2022-05-05 02:40:51,435]\u001b[0m The parameter 'normalize_type' in trial#158 is sampled independently instead of being sampled by multivariate TPE sampler. (optimization performance may be degraded). You can suppress this warning by setting `warn_independent_sampling` to `False` in the constructor of `TPESampler`, if this independent sampling is intended behavior.\u001b[0m\n"
     ]
    },
    {
     "name": "stdout",
     "output_type": "stream",
     "text": [
      "The parameter 'normalize_type' in trial#158 is sampled independently instead of being sampled by multivariate TPE sampler. (optimization performance may be degraded). You can suppress this warning by setting `warn_independent_sampling` to `False` in the constructor of `TPESampler`, if this independent sampling is intended behavior.\n"
     ]
    },
    {
     "name": "stderr",
     "output_type": "stream",
     "text": [
      "\u001b[33m[W 2022-05-05 02:40:51,492]\u001b[0m The parameter 'rate_drop' in trial#158 is sampled independently instead of being sampled by multivariate TPE sampler. (optimization performance may be degraded). You can suppress this warning by setting `warn_independent_sampling` to `False` in the constructor of `TPESampler`, if this independent sampling is intended behavior.\u001b[0m\n"
     ]
    },
    {
     "name": "stdout",
     "output_type": "stream",
     "text": [
      "The parameter 'rate_drop' in trial#158 is sampled independently instead of being sampled by multivariate TPE sampler. (optimization performance may be degraded). You can suppress this warning by setting `warn_independent_sampling` to `False` in the constructor of `TPESampler`, if this independent sampling is intended behavior.\n"
     ]
    },
    {
     "name": "stderr",
     "output_type": "stream",
     "text": [
      "\u001b[33m[W 2022-05-05 02:40:51,559]\u001b[0m The parameter 'skip_drop' in trial#158 is sampled independently instead of being sampled by multivariate TPE sampler. (optimization performance may be degraded). You can suppress this warning by setting `warn_independent_sampling` to `False` in the constructor of `TPESampler`, if this independent sampling is intended behavior.\u001b[0m\n"
     ]
    },
    {
     "name": "stdout",
     "output_type": "stream",
     "text": [
      "The parameter 'skip_drop' in trial#158 is sampled independently instead of being sampled by multivariate TPE sampler. (optimization performance may be degraded). You can suppress this warning by setting `warn_independent_sampling` to `False` in the constructor of `TPESampler`, if this independent sampling is intended behavior.\n",
      "\n",
      "===== TRIAL #158 =====\n",
      "Fingerprint: ECFP4\n",
      "Booster: dart\n",
      "Lambda: 0.00016041393774996704\n",
      "Alpha: 0.0796016804606285\n"
     ]
    },
    {
     "name": "stderr",
     "output_type": "stream",
     "text": [
      "\u001b[32m[I 2022-05-05 02:49:03,304]\u001b[0m Trial 158 finished with value: 0.8947036621256791 and parameters: {'mol_dst': 'ECFP4', 'booster': 'dart', 'lambda': 0.00016041393774996704, 'alpha': 0.0796016804606285, 'max_depth': 8, 'eta': 0.9980480403073826, 'gamma': 1.2705887345912864e-08, 'grow_policy': 'depthwise', 'sample_type': 'weighted', 'normalize_type': 'forest', 'rate_drop': 5.6827939228912114e-06, 'skip_drop': 9.983218360370666e-07}. Best is trial 153 with value: 0.919911132859976.\u001b[0m\n"
     ]
    },
    {
     "name": "stdout",
     "output_type": "stream",
     "text": [
      "Trial 158 finished with value: 0.8947036621256791 and parameters: {'mol_dst': 'ECFP4', 'booster': 'dart', 'lambda': 0.00016041393774996704, 'alpha': 0.0796016804606285, 'max_depth': 8, 'eta': 0.9980480403073826, 'gamma': 1.2705887345912864e-08, 'grow_policy': 'depthwise', 'sample_type': 'weighted', 'normalize_type': 'forest', 'rate_drop': 5.6827939228912114e-06, 'skip_drop': 9.983218360370666e-07}. Best is trial 153 with value: 0.919911132859976.\n"
     ]
    },
    {
     "name": "stderr",
     "output_type": "stream",
     "text": [
      "\u001b[33m[W 2022-05-05 02:49:03,757]\u001b[0m The parameter 'max_depth' in trial#159 is sampled independently instead of being sampled by multivariate TPE sampler. (optimization performance may be degraded). You can suppress this warning by setting `warn_independent_sampling` to `False` in the constructor of `TPESampler`, if this independent sampling is intended behavior.\u001b[0m\n"
     ]
    },
    {
     "name": "stdout",
     "output_type": "stream",
     "text": [
      "The parameter 'max_depth' in trial#159 is sampled independently instead of being sampled by multivariate TPE sampler. (optimization performance may be degraded). You can suppress this warning by setting `warn_independent_sampling` to `False` in the constructor of `TPESampler`, if this independent sampling is intended behavior.\n"
     ]
    },
    {
     "name": "stderr",
     "output_type": "stream",
     "text": [
      "\u001b[33m[W 2022-05-05 02:49:03,821]\u001b[0m The parameter 'eta' in trial#159 is sampled independently instead of being sampled by multivariate TPE sampler. (optimization performance may be degraded). You can suppress this warning by setting `warn_independent_sampling` to `False` in the constructor of `TPESampler`, if this independent sampling is intended behavior.\u001b[0m\n"
     ]
    },
    {
     "name": "stdout",
     "output_type": "stream",
     "text": [
      "The parameter 'eta' in trial#159 is sampled independently instead of being sampled by multivariate TPE sampler. (optimization performance may be degraded). You can suppress this warning by setting `warn_independent_sampling` to `False` in the constructor of `TPESampler`, if this independent sampling is intended behavior.\n"
     ]
    },
    {
     "name": "stderr",
     "output_type": "stream",
     "text": [
      "\u001b[33m[W 2022-05-05 02:49:03,893]\u001b[0m The parameter 'gamma' in trial#159 is sampled independently instead of being sampled by multivariate TPE sampler. (optimization performance may be degraded). You can suppress this warning by setting `warn_independent_sampling` to `False` in the constructor of `TPESampler`, if this independent sampling is intended behavior.\u001b[0m\n"
     ]
    },
    {
     "name": "stdout",
     "output_type": "stream",
     "text": [
      "The parameter 'gamma' in trial#159 is sampled independently instead of being sampled by multivariate TPE sampler. (optimization performance may be degraded). You can suppress this warning by setting `warn_independent_sampling` to `False` in the constructor of `TPESampler`, if this independent sampling is intended behavior.\n"
     ]
    },
    {
     "name": "stderr",
     "output_type": "stream",
     "text": [
      "\u001b[33m[W 2022-05-05 02:49:03,963]\u001b[0m The parameter 'grow_policy' in trial#159 is sampled independently instead of being sampled by multivariate TPE sampler. (optimization performance may be degraded). You can suppress this warning by setting `warn_independent_sampling` to `False` in the constructor of `TPESampler`, if this independent sampling is intended behavior.\u001b[0m\n"
     ]
    },
    {
     "name": "stdout",
     "output_type": "stream",
     "text": [
      "The parameter 'grow_policy' in trial#159 is sampled independently instead of being sampled by multivariate TPE sampler. (optimization performance may be degraded). You can suppress this warning by setting `warn_independent_sampling` to `False` in the constructor of `TPESampler`, if this independent sampling is intended behavior.\n",
      "\n",
      "===== TRIAL #159 =====\n",
      "Fingerprint: RDKit2D\n",
      "Booster: gbtree\n",
      "Lambda: 0.11681753227386843\n",
      "Alpha: 0.21755408645302388\n"
     ]
    },
    {
     "name": "stderr",
     "output_type": "stream",
     "text": [
      "\u001b[32m[I 2022-05-05 02:52:31,472]\u001b[0m Trial 159 finished with value: 0.918465877172765 and parameters: {'mol_dst': 'RDKit2D', 'booster': 'gbtree', 'lambda': 0.11681753227386843, 'alpha': 0.21755408645302388, 'max_depth': 6, 'eta': 0.06914944695583157, 'gamma': 0.00014706887073050206, 'grow_policy': 'lossguide'}. Best is trial 153 with value: 0.919911132859976.\u001b[0m\n"
     ]
    },
    {
     "name": "stdout",
     "output_type": "stream",
     "text": [
      "Trial 159 finished with value: 0.918465877172765 and parameters: {'mol_dst': 'RDKit2D', 'booster': 'gbtree', 'lambda': 0.11681753227386843, 'alpha': 0.21755408645302388, 'max_depth': 6, 'eta': 0.06914944695583157, 'gamma': 0.00014706887073050206, 'grow_policy': 'lossguide'}. Best is trial 153 with value: 0.919911132859976.\n"
     ]
    },
    {
     "name": "stderr",
     "output_type": "stream",
     "text": [
      "\u001b[33m[W 2022-05-05 02:52:31,912]\u001b[0m The parameter 'max_depth' in trial#160 is sampled independently instead of being sampled by multivariate TPE sampler. (optimization performance may be degraded). You can suppress this warning by setting `warn_independent_sampling` to `False` in the constructor of `TPESampler`, if this independent sampling is intended behavior.\u001b[0m\n"
     ]
    },
    {
     "name": "stdout",
     "output_type": "stream",
     "text": [
      "The parameter 'max_depth' in trial#160 is sampled independently instead of being sampled by multivariate TPE sampler. (optimization performance may be degraded). You can suppress this warning by setting `warn_independent_sampling` to `False` in the constructor of `TPESampler`, if this independent sampling is intended behavior.\n"
     ]
    },
    {
     "name": "stderr",
     "output_type": "stream",
     "text": [
      "\u001b[33m[W 2022-05-05 02:52:31,974]\u001b[0m The parameter 'eta' in trial#160 is sampled independently instead of being sampled by multivariate TPE sampler. (optimization performance may be degraded). You can suppress this warning by setting `warn_independent_sampling` to `False` in the constructor of `TPESampler`, if this independent sampling is intended behavior.\u001b[0m\n"
     ]
    },
    {
     "name": "stdout",
     "output_type": "stream",
     "text": [
      "The parameter 'eta' in trial#160 is sampled independently instead of being sampled by multivariate TPE sampler. (optimization performance may be degraded). You can suppress this warning by setting `warn_independent_sampling` to `False` in the constructor of `TPESampler`, if this independent sampling is intended behavior.\n"
     ]
    },
    {
     "name": "stderr",
     "output_type": "stream",
     "text": [
      "\u001b[33m[W 2022-05-05 02:52:32,063]\u001b[0m The parameter 'gamma' in trial#160 is sampled independently instead of being sampled by multivariate TPE sampler. (optimization performance may be degraded). You can suppress this warning by setting `warn_independent_sampling` to `False` in the constructor of `TPESampler`, if this independent sampling is intended behavior.\u001b[0m\n"
     ]
    },
    {
     "name": "stdout",
     "output_type": "stream",
     "text": [
      "The parameter 'gamma' in trial#160 is sampled independently instead of being sampled by multivariate TPE sampler. (optimization performance may be degraded). You can suppress this warning by setting `warn_independent_sampling` to `False` in the constructor of `TPESampler`, if this independent sampling is intended behavior.\n"
     ]
    },
    {
     "name": "stderr",
     "output_type": "stream",
     "text": [
      "\u001b[33m[W 2022-05-05 02:52:32,134]\u001b[0m The parameter 'grow_policy' in trial#160 is sampled independently instead of being sampled by multivariate TPE sampler. (optimization performance may be degraded). You can suppress this warning by setting `warn_independent_sampling` to `False` in the constructor of `TPESampler`, if this independent sampling is intended behavior.\u001b[0m\n"
     ]
    },
    {
     "name": "stdout",
     "output_type": "stream",
     "text": [
      "The parameter 'grow_policy' in trial#160 is sampled independently instead of being sampled by multivariate TPE sampler. (optimization performance may be degraded). You can suppress this warning by setting `warn_independent_sampling` to `False` in the constructor of `TPESampler`, if this independent sampling is intended behavior.\n",
      "\n",
      "===== TRIAL #160 =====\n",
      "Fingerprint: MACCS\n",
      "Booster: gbtree\n",
      "Lambda: 0.06894016093926947\n",
      "Alpha: 0.3629023385528285\n"
     ]
    },
    {
     "name": "stderr",
     "output_type": "stream",
     "text": [
      "\u001b[32m[I 2022-05-05 02:52:46,162]\u001b[0m Trial 160 finished with value: 0.9059381307944209 and parameters: {'mol_dst': 'MACCS', 'booster': 'gbtree', 'lambda': 0.06894016093926947, 'alpha': 0.3629023385528285, 'max_depth': 6, 'eta': 0.08524503158232158, 'gamma': 0.00010252301724159144, 'grow_policy': 'depthwise'}. Best is trial 153 with value: 0.919911132859976.\u001b[0m\n"
     ]
    },
    {
     "name": "stdout",
     "output_type": "stream",
     "text": [
      "Trial 160 finished with value: 0.9059381307944209 and parameters: {'mol_dst': 'MACCS', 'booster': 'gbtree', 'lambda': 0.06894016093926947, 'alpha': 0.3629023385528285, 'max_depth': 6, 'eta': 0.08524503158232158, 'gamma': 0.00010252301724159144, 'grow_policy': 'depthwise'}. Best is trial 153 with value: 0.919911132859976.\n"
     ]
    },
    {
     "name": "stderr",
     "output_type": "stream",
     "text": [
      "\u001b[33m[W 2022-05-05 02:52:46,567]\u001b[0m The parameter 'max_depth' in trial#161 is sampled independently instead of being sampled by multivariate TPE sampler. (optimization performance may be degraded). You can suppress this warning by setting `warn_independent_sampling` to `False` in the constructor of `TPESampler`, if this independent sampling is intended behavior.\u001b[0m\n"
     ]
    },
    {
     "name": "stdout",
     "output_type": "stream",
     "text": [
      "The parameter 'max_depth' in trial#161 is sampled independently instead of being sampled by multivariate TPE sampler. (optimization performance may be degraded). You can suppress this warning by setting `warn_independent_sampling` to `False` in the constructor of `TPESampler`, if this independent sampling is intended behavior.\n"
     ]
    },
    {
     "name": "stderr",
     "output_type": "stream",
     "text": [
      "\u001b[33m[W 2022-05-05 02:52:46,625]\u001b[0m The parameter 'eta' in trial#161 is sampled independently instead of being sampled by multivariate TPE sampler. (optimization performance may be degraded). You can suppress this warning by setting `warn_independent_sampling` to `False` in the constructor of `TPESampler`, if this independent sampling is intended behavior.\u001b[0m\n"
     ]
    },
    {
     "name": "stdout",
     "output_type": "stream",
     "text": [
      "The parameter 'eta' in trial#161 is sampled independently instead of being sampled by multivariate TPE sampler. (optimization performance may be degraded). You can suppress this warning by setting `warn_independent_sampling` to `False` in the constructor of `TPESampler`, if this independent sampling is intended behavior.\n"
     ]
    },
    {
     "name": "stderr",
     "output_type": "stream",
     "text": [
      "\u001b[33m[W 2022-05-05 02:52:46,696]\u001b[0m The parameter 'gamma' in trial#161 is sampled independently instead of being sampled by multivariate TPE sampler. (optimization performance may be degraded). You can suppress this warning by setting `warn_independent_sampling` to `False` in the constructor of `TPESampler`, if this independent sampling is intended behavior.\u001b[0m\n"
     ]
    },
    {
     "name": "stdout",
     "output_type": "stream",
     "text": [
      "The parameter 'gamma' in trial#161 is sampled independently instead of being sampled by multivariate TPE sampler. (optimization performance may be degraded). You can suppress this warning by setting `warn_independent_sampling` to `False` in the constructor of `TPESampler`, if this independent sampling is intended behavior.\n"
     ]
    },
    {
     "name": "stderr",
     "output_type": "stream",
     "text": [
      "\u001b[33m[W 2022-05-05 02:52:46,772]\u001b[0m The parameter 'grow_policy' in trial#161 is sampled independently instead of being sampled by multivariate TPE sampler. (optimization performance may be degraded). You can suppress this warning by setting `warn_independent_sampling` to `False` in the constructor of `TPESampler`, if this independent sampling is intended behavior.\u001b[0m\n"
     ]
    },
    {
     "name": "stdout",
     "output_type": "stream",
     "text": [
      "The parameter 'grow_policy' in trial#161 is sampled independently instead of being sampled by multivariate TPE sampler. (optimization performance may be degraded). You can suppress this warning by setting `warn_independent_sampling` to `False` in the constructor of `TPESampler`, if this independent sampling is intended behavior.\n",
      "\n",
      "===== TRIAL #161 =====\n",
      "Fingerprint: RDKit2D\n",
      "Booster: gbtree\n",
      "Lambda: 0.022306550338357337\n",
      "Alpha: 0.47416289613625057\n"
     ]
    },
    {
     "name": "stderr",
     "output_type": "stream",
     "text": [
      "\u001b[32m[I 2022-05-05 02:56:25,731]\u001b[0m Trial 161 finished with value: 0.9180940315566524 and parameters: {'mol_dst': 'RDKit2D', 'booster': 'gbtree', 'lambda': 0.022306550338357337, 'alpha': 0.47416289613625057, 'max_depth': 5, 'eta': 0.07790558256597795, 'gamma': 6.666449726626205e-05, 'grow_policy': 'lossguide'}. Best is trial 153 with value: 0.919911132859976.\u001b[0m\n"
     ]
    },
    {
     "name": "stdout",
     "output_type": "stream",
     "text": [
      "Trial 161 finished with value: 0.9180940315566524 and parameters: {'mol_dst': 'RDKit2D', 'booster': 'gbtree', 'lambda': 0.022306550338357337, 'alpha': 0.47416289613625057, 'max_depth': 5, 'eta': 0.07790558256597795, 'gamma': 6.666449726626205e-05, 'grow_policy': 'lossguide'}. Best is trial 153 with value: 0.919911132859976.\n"
     ]
    },
    {
     "name": "stderr",
     "output_type": "stream",
     "text": [
      "\u001b[33m[W 2022-05-05 02:56:26,111]\u001b[0m The parameter 'max_depth' in trial#162 is sampled independently instead of being sampled by multivariate TPE sampler. (optimization performance may be degraded). You can suppress this warning by setting `warn_independent_sampling` to `False` in the constructor of `TPESampler`, if this independent sampling is intended behavior.\u001b[0m\n"
     ]
    },
    {
     "name": "stdout",
     "output_type": "stream",
     "text": [
      "The parameter 'max_depth' in trial#162 is sampled independently instead of being sampled by multivariate TPE sampler. (optimization performance may be degraded). You can suppress this warning by setting `warn_independent_sampling` to `False` in the constructor of `TPESampler`, if this independent sampling is intended behavior.\n"
     ]
    },
    {
     "name": "stderr",
     "output_type": "stream",
     "text": [
      "\u001b[33m[W 2022-05-05 02:56:26,171]\u001b[0m The parameter 'eta' in trial#162 is sampled independently instead of being sampled by multivariate TPE sampler. (optimization performance may be degraded). You can suppress this warning by setting `warn_independent_sampling` to `False` in the constructor of `TPESampler`, if this independent sampling is intended behavior.\u001b[0m\n"
     ]
    },
    {
     "name": "stdout",
     "output_type": "stream",
     "text": [
      "The parameter 'eta' in trial#162 is sampled independently instead of being sampled by multivariate TPE sampler. (optimization performance may be degraded). You can suppress this warning by setting `warn_independent_sampling` to `False` in the constructor of `TPESampler`, if this independent sampling is intended behavior.\n"
     ]
    },
    {
     "name": "stderr",
     "output_type": "stream",
     "text": [
      "\u001b[33m[W 2022-05-05 02:56:26,230]\u001b[0m The parameter 'gamma' in trial#162 is sampled independently instead of being sampled by multivariate TPE sampler. (optimization performance may be degraded). You can suppress this warning by setting `warn_independent_sampling` to `False` in the constructor of `TPESampler`, if this independent sampling is intended behavior.\u001b[0m\n"
     ]
    },
    {
     "name": "stdout",
     "output_type": "stream",
     "text": [
      "The parameter 'gamma' in trial#162 is sampled independently instead of being sampled by multivariate TPE sampler. (optimization performance may be degraded). You can suppress this warning by setting `warn_independent_sampling` to `False` in the constructor of `TPESampler`, if this independent sampling is intended behavior.\n"
     ]
    },
    {
     "name": "stderr",
     "output_type": "stream",
     "text": [
      "\u001b[33m[W 2022-05-05 02:56:26,292]\u001b[0m The parameter 'grow_policy' in trial#162 is sampled independently instead of being sampled by multivariate TPE sampler. (optimization performance may be degraded). You can suppress this warning by setting `warn_independent_sampling` to `False` in the constructor of `TPESampler`, if this independent sampling is intended behavior.\u001b[0m\n"
     ]
    },
    {
     "name": "stdout",
     "output_type": "stream",
     "text": [
      "The parameter 'grow_policy' in trial#162 is sampled independently instead of being sampled by multivariate TPE sampler. (optimization performance may be degraded). You can suppress this warning by setting `warn_independent_sampling` to `False` in the constructor of `TPESampler`, if this independent sampling is intended behavior.\n",
      "\n",
      "===== TRIAL #162 =====\n",
      "Fingerprint: RDKit2D\n",
      "Booster: gbtree\n",
      "Lambda: 0.07467993740666626\n",
      "Alpha: 0.017396233786135657\n"
     ]
    },
    {
     "name": "stderr",
     "output_type": "stream",
     "text": [
      "\u001b[32m[I 2022-05-05 02:59:48,061]\u001b[0m Trial 162 finished with value: 0.8908624239951871 and parameters: {'mol_dst': 'RDKit2D', 'booster': 'gbtree', 'lambda': 0.07467993740666626, 'alpha': 0.017396233786135657, 'max_depth': 4, 'eta': 0.011476403731885397, 'gamma': 2.7746836883629556e-05, 'grow_policy': 'lossguide'}. Best is trial 153 with value: 0.919911132859976.\u001b[0m\n"
     ]
    },
    {
     "name": "stdout",
     "output_type": "stream",
     "text": [
      "Trial 162 finished with value: 0.8908624239951871 and parameters: {'mol_dst': 'RDKit2D', 'booster': 'gbtree', 'lambda': 0.07467993740666626, 'alpha': 0.017396233786135657, 'max_depth': 4, 'eta': 0.011476403731885397, 'gamma': 2.7746836883629556e-05, 'grow_policy': 'lossguide'}. Best is trial 153 with value: 0.919911132859976.\n"
     ]
    },
    {
     "name": "stderr",
     "output_type": "stream",
     "text": [
      "\u001b[33m[W 2022-05-05 02:59:48,504]\u001b[0m The parameter 'max_depth' in trial#163 is sampled independently instead of being sampled by multivariate TPE sampler. (optimization performance may be degraded). You can suppress this warning by setting `warn_independent_sampling` to `False` in the constructor of `TPESampler`, if this independent sampling is intended behavior.\u001b[0m\n"
     ]
    },
    {
     "name": "stdout",
     "output_type": "stream",
     "text": [
      "The parameter 'max_depth' in trial#163 is sampled independently instead of being sampled by multivariate TPE sampler. (optimization performance may be degraded). You can suppress this warning by setting `warn_independent_sampling` to `False` in the constructor of `TPESampler`, if this independent sampling is intended behavior.\n"
     ]
    },
    {
     "name": "stderr",
     "output_type": "stream",
     "text": [
      "\u001b[33m[W 2022-05-05 02:59:48,572]\u001b[0m The parameter 'eta' in trial#163 is sampled independently instead of being sampled by multivariate TPE sampler. (optimization performance may be degraded). You can suppress this warning by setting `warn_independent_sampling` to `False` in the constructor of `TPESampler`, if this independent sampling is intended behavior.\u001b[0m\n"
     ]
    },
    {
     "name": "stdout",
     "output_type": "stream",
     "text": [
      "The parameter 'eta' in trial#163 is sampled independently instead of being sampled by multivariate TPE sampler. (optimization performance may be degraded). You can suppress this warning by setting `warn_independent_sampling` to `False` in the constructor of `TPESampler`, if this independent sampling is intended behavior.\n"
     ]
    },
    {
     "name": "stderr",
     "output_type": "stream",
     "text": [
      "\u001b[33m[W 2022-05-05 02:59:48,652]\u001b[0m The parameter 'gamma' in trial#163 is sampled independently instead of being sampled by multivariate TPE sampler. (optimization performance may be degraded). You can suppress this warning by setting `warn_independent_sampling` to `False` in the constructor of `TPESampler`, if this independent sampling is intended behavior.\u001b[0m\n"
     ]
    },
    {
     "name": "stdout",
     "output_type": "stream",
     "text": [
      "The parameter 'gamma' in trial#163 is sampled independently instead of being sampled by multivariate TPE sampler. (optimization performance may be degraded). You can suppress this warning by setting `warn_independent_sampling` to `False` in the constructor of `TPESampler`, if this independent sampling is intended behavior.\n"
     ]
    },
    {
     "name": "stderr",
     "output_type": "stream",
     "text": [
      "\u001b[33m[W 2022-05-05 02:59:48,730]\u001b[0m The parameter 'grow_policy' in trial#163 is sampled independently instead of being sampled by multivariate TPE sampler. (optimization performance may be degraded). You can suppress this warning by setting `warn_independent_sampling` to `False` in the constructor of `TPESampler`, if this independent sampling is intended behavior.\u001b[0m\n"
     ]
    },
    {
     "name": "stdout",
     "output_type": "stream",
     "text": [
      "The parameter 'grow_policy' in trial#163 is sampled independently instead of being sampled by multivariate TPE sampler. (optimization performance may be degraded). You can suppress this warning by setting `warn_independent_sampling` to `False` in the constructor of `TPESampler`, if this independent sampling is intended behavior.\n",
      "\n",
      "===== TRIAL #163 =====\n",
      "Fingerprint: RDKit2D\n",
      "Booster: gbtree\n",
      "Lambda: 0.028312588162324036\n",
      "Alpha: 0.04550290152051114\n"
     ]
    },
    {
     "name": "stderr",
     "output_type": "stream",
     "text": [
      "\u001b[32m[I 2022-05-05 03:03:10,696]\u001b[0m Trial 163 finished with value: 0.9128497306090818 and parameters: {'mol_dst': 'RDKit2D', 'booster': 'gbtree', 'lambda': 0.028312588162324036, 'alpha': 0.04550290152051114, 'max_depth': 5, 'eta': 0.06701207204826597, 'gamma': 5.414183737810861e-05, 'grow_policy': 'lossguide'}. Best is trial 153 with value: 0.919911132859976.\u001b[0m\n"
     ]
    },
    {
     "name": "stdout",
     "output_type": "stream",
     "text": [
      "Trial 163 finished with value: 0.9128497306090818 and parameters: {'mol_dst': 'RDKit2D', 'booster': 'gbtree', 'lambda': 0.028312588162324036, 'alpha': 0.04550290152051114, 'max_depth': 5, 'eta': 0.06701207204826597, 'gamma': 5.414183737810861e-05, 'grow_policy': 'lossguide'}. Best is trial 153 with value: 0.919911132859976.\n"
     ]
    },
    {
     "name": "stderr",
     "output_type": "stream",
     "text": [
      "\u001b[33m[W 2022-05-05 03:03:11,091]\u001b[0m The parameter 'max_depth' in trial#164 is sampled independently instead of being sampled by multivariate TPE sampler. (optimization performance may be degraded). You can suppress this warning by setting `warn_independent_sampling` to `False` in the constructor of `TPESampler`, if this independent sampling is intended behavior.\u001b[0m\n"
     ]
    },
    {
     "name": "stdout",
     "output_type": "stream",
     "text": [
      "The parameter 'max_depth' in trial#164 is sampled independently instead of being sampled by multivariate TPE sampler. (optimization performance may be degraded). You can suppress this warning by setting `warn_independent_sampling` to `False` in the constructor of `TPESampler`, if this independent sampling is intended behavior.\n"
     ]
    },
    {
     "name": "stderr",
     "output_type": "stream",
     "text": [
      "\u001b[33m[W 2022-05-05 03:03:11,155]\u001b[0m The parameter 'eta' in trial#164 is sampled independently instead of being sampled by multivariate TPE sampler. (optimization performance may be degraded). You can suppress this warning by setting `warn_independent_sampling` to `False` in the constructor of `TPESampler`, if this independent sampling is intended behavior.\u001b[0m\n"
     ]
    },
    {
     "name": "stdout",
     "output_type": "stream",
     "text": [
      "The parameter 'eta' in trial#164 is sampled independently instead of being sampled by multivariate TPE sampler. (optimization performance may be degraded). You can suppress this warning by setting `warn_independent_sampling` to `False` in the constructor of `TPESampler`, if this independent sampling is intended behavior.\n"
     ]
    },
    {
     "name": "stderr",
     "output_type": "stream",
     "text": [
      "\u001b[33m[W 2022-05-05 03:03:11,224]\u001b[0m The parameter 'gamma' in trial#164 is sampled independently instead of being sampled by multivariate TPE sampler. (optimization performance may be degraded). You can suppress this warning by setting `warn_independent_sampling` to `False` in the constructor of `TPESampler`, if this independent sampling is intended behavior.\u001b[0m\n"
     ]
    },
    {
     "name": "stdout",
     "output_type": "stream",
     "text": [
      "The parameter 'gamma' in trial#164 is sampled independently instead of being sampled by multivariate TPE sampler. (optimization performance may be degraded). You can suppress this warning by setting `warn_independent_sampling` to `False` in the constructor of `TPESampler`, if this independent sampling is intended behavior.\n"
     ]
    },
    {
     "name": "stderr",
     "output_type": "stream",
     "text": [
      "\u001b[33m[W 2022-05-05 03:03:11,292]\u001b[0m The parameter 'grow_policy' in trial#164 is sampled independently instead of being sampled by multivariate TPE sampler. (optimization performance may be degraded). You can suppress this warning by setting `warn_independent_sampling` to `False` in the constructor of `TPESampler`, if this independent sampling is intended behavior.\u001b[0m\n"
     ]
    },
    {
     "name": "stdout",
     "output_type": "stream",
     "text": [
      "The parameter 'grow_policy' in trial#164 is sampled independently instead of being sampled by multivariate TPE sampler. (optimization performance may be degraded). You can suppress this warning by setting `warn_independent_sampling` to `False` in the constructor of `TPESampler`, if this independent sampling is intended behavior.\n",
      "\n",
      "===== TRIAL #164 =====\n",
      "Fingerprint: RDKit2D\n",
      "Booster: gbtree\n",
      "Lambda: 0.12138094664611912\n",
      "Alpha: 0.8963401567251075\n"
     ]
    },
    {
     "name": "stderr",
     "output_type": "stream",
     "text": [
      "\u001b[32m[I 2022-05-05 03:06:32,899]\u001b[0m Trial 164 finished with value: 0.9190203536786689 and parameters: {'mol_dst': 'RDKit2D', 'booster': 'gbtree', 'lambda': 0.12138094664611912, 'alpha': 0.8963401567251075, 'max_depth': 5, 'eta': 0.06831833811199937, 'gamma': 1.4667579384584303e-05, 'grow_policy': 'lossguide'}. Best is trial 153 with value: 0.919911132859976.\u001b[0m\n"
     ]
    },
    {
     "name": "stdout",
     "output_type": "stream",
     "text": [
      "Trial 164 finished with value: 0.9190203536786689 and parameters: {'mol_dst': 'RDKit2D', 'booster': 'gbtree', 'lambda': 0.12138094664611912, 'alpha': 0.8963401567251075, 'max_depth': 5, 'eta': 0.06831833811199937, 'gamma': 1.4667579384584303e-05, 'grow_policy': 'lossguide'}. Best is trial 153 with value: 0.919911132859976.\n"
     ]
    },
    {
     "name": "stderr",
     "output_type": "stream",
     "text": [
      "\u001b[33m[W 2022-05-05 03:06:33,497]\u001b[0m The parameter 'max_depth' in trial#165 is sampled independently instead of being sampled by multivariate TPE sampler. (optimization performance may be degraded). You can suppress this warning by setting `warn_independent_sampling` to `False` in the constructor of `TPESampler`, if this independent sampling is intended behavior.\u001b[0m\n"
     ]
    },
    {
     "name": "stdout",
     "output_type": "stream",
     "text": [
      "The parameter 'max_depth' in trial#165 is sampled independently instead of being sampled by multivariate TPE sampler. (optimization performance may be degraded). You can suppress this warning by setting `warn_independent_sampling` to `False` in the constructor of `TPESampler`, if this independent sampling is intended behavior.\n"
     ]
    },
    {
     "name": "stderr",
     "output_type": "stream",
     "text": [
      "\u001b[33m[W 2022-05-05 03:06:33,579]\u001b[0m The parameter 'eta' in trial#165 is sampled independently instead of being sampled by multivariate TPE sampler. (optimization performance may be degraded). You can suppress this warning by setting `warn_independent_sampling` to `False` in the constructor of `TPESampler`, if this independent sampling is intended behavior.\u001b[0m\n"
     ]
    },
    {
     "name": "stdout",
     "output_type": "stream",
     "text": [
      "The parameter 'eta' in trial#165 is sampled independently instead of being sampled by multivariate TPE sampler. (optimization performance may be degraded). You can suppress this warning by setting `warn_independent_sampling` to `False` in the constructor of `TPESampler`, if this independent sampling is intended behavior.\n"
     ]
    },
    {
     "name": "stderr",
     "output_type": "stream",
     "text": [
      "\u001b[33m[W 2022-05-05 03:06:33,640]\u001b[0m The parameter 'gamma' in trial#165 is sampled independently instead of being sampled by multivariate TPE sampler. (optimization performance may be degraded). You can suppress this warning by setting `warn_independent_sampling` to `False` in the constructor of `TPESampler`, if this independent sampling is intended behavior.\u001b[0m\n"
     ]
    },
    {
     "name": "stdout",
     "output_type": "stream",
     "text": [
      "The parameter 'gamma' in trial#165 is sampled independently instead of being sampled by multivariate TPE sampler. (optimization performance may be degraded). You can suppress this warning by setting `warn_independent_sampling` to `False` in the constructor of `TPESampler`, if this independent sampling is intended behavior.\n"
     ]
    },
    {
     "name": "stderr",
     "output_type": "stream",
     "text": [
      "\u001b[33m[W 2022-05-05 03:06:33,702]\u001b[0m The parameter 'grow_policy' in trial#165 is sampled independently instead of being sampled by multivariate TPE sampler. (optimization performance may be degraded). You can suppress this warning by setting `warn_independent_sampling` to `False` in the constructor of `TPESampler`, if this independent sampling is intended behavior.\u001b[0m\n"
     ]
    },
    {
     "name": "stdout",
     "output_type": "stream",
     "text": [
      "The parameter 'grow_policy' in trial#165 is sampled independently instead of being sampled by multivariate TPE sampler. (optimization performance may be degraded). You can suppress this warning by setting `warn_independent_sampling` to `False` in the constructor of `TPESampler`, if this independent sampling is intended behavior.\n",
      "\n",
      "===== TRIAL #165 =====\n",
      "Fingerprint: RDKit2D\n",
      "Booster: gbtree\n",
      "Lambda: 0.00923839924010538\n",
      "Alpha: 0.5363021069221001\n"
     ]
    },
    {
     "name": "stderr",
     "output_type": "stream",
     "text": [
      "\u001b[32m[I 2022-05-05 03:09:59,231]\u001b[0m Trial 165 finished with value: 0.9124943316389696 and parameters: {'mol_dst': 'RDKit2D', 'booster': 'gbtree', 'lambda': 0.00923839924010538, 'alpha': 0.5363021069221001, 'max_depth': 4, 'eta': 0.10648766390429609, 'gamma': 2.411406418960464e-05, 'grow_policy': 'lossguide'}. Best is trial 153 with value: 0.919911132859976.\u001b[0m\n"
     ]
    },
    {
     "name": "stdout",
     "output_type": "stream",
     "text": [
      "Trial 165 finished with value: 0.9124943316389696 and parameters: {'mol_dst': 'RDKit2D', 'booster': 'gbtree', 'lambda': 0.00923839924010538, 'alpha': 0.5363021069221001, 'max_depth': 4, 'eta': 0.10648766390429609, 'gamma': 2.411406418960464e-05, 'grow_policy': 'lossguide'}. Best is trial 153 with value: 0.919911132859976.\n"
     ]
    },
    {
     "name": "stderr",
     "output_type": "stream",
     "text": [
      "\u001b[33m[W 2022-05-05 03:09:59,642]\u001b[0m The parameter 'max_depth' in trial#166 is sampled independently instead of being sampled by multivariate TPE sampler. (optimization performance may be degraded). You can suppress this warning by setting `warn_independent_sampling` to `False` in the constructor of `TPESampler`, if this independent sampling is intended behavior.\u001b[0m\n"
     ]
    },
    {
     "name": "stdout",
     "output_type": "stream",
     "text": [
      "The parameter 'max_depth' in trial#166 is sampled independently instead of being sampled by multivariate TPE sampler. (optimization performance may be degraded). You can suppress this warning by setting `warn_independent_sampling` to `False` in the constructor of `TPESampler`, if this independent sampling is intended behavior.\n"
     ]
    },
    {
     "name": "stderr",
     "output_type": "stream",
     "text": [
      "\u001b[33m[W 2022-05-05 03:09:59,706]\u001b[0m The parameter 'eta' in trial#166 is sampled independently instead of being sampled by multivariate TPE sampler. (optimization performance may be degraded). You can suppress this warning by setting `warn_independent_sampling` to `False` in the constructor of `TPESampler`, if this independent sampling is intended behavior.\u001b[0m\n"
     ]
    },
    {
     "name": "stdout",
     "output_type": "stream",
     "text": [
      "The parameter 'eta' in trial#166 is sampled independently instead of being sampled by multivariate TPE sampler. (optimization performance may be degraded). You can suppress this warning by setting `warn_independent_sampling` to `False` in the constructor of `TPESampler`, if this independent sampling is intended behavior.\n"
     ]
    },
    {
     "name": "stderr",
     "output_type": "stream",
     "text": [
      "\u001b[33m[W 2022-05-05 03:09:59,773]\u001b[0m The parameter 'gamma' in trial#166 is sampled independently instead of being sampled by multivariate TPE sampler. (optimization performance may be degraded). You can suppress this warning by setting `warn_independent_sampling` to `False` in the constructor of `TPESampler`, if this independent sampling is intended behavior.\u001b[0m\n"
     ]
    },
    {
     "name": "stdout",
     "output_type": "stream",
     "text": [
      "The parameter 'gamma' in trial#166 is sampled independently instead of being sampled by multivariate TPE sampler. (optimization performance may be degraded). You can suppress this warning by setting `warn_independent_sampling` to `False` in the constructor of `TPESampler`, if this independent sampling is intended behavior.\n"
     ]
    },
    {
     "name": "stderr",
     "output_type": "stream",
     "text": [
      "\u001b[33m[W 2022-05-05 03:09:59,839]\u001b[0m The parameter 'grow_policy' in trial#166 is sampled independently instead of being sampled by multivariate TPE sampler. (optimization performance may be degraded). You can suppress this warning by setting `warn_independent_sampling` to `False` in the constructor of `TPESampler`, if this independent sampling is intended behavior.\u001b[0m\n"
     ]
    },
    {
     "name": "stdout",
     "output_type": "stream",
     "text": [
      "The parameter 'grow_policy' in trial#166 is sampled independently instead of being sampled by multivariate TPE sampler. (optimization performance may be degraded). You can suppress this warning by setting `warn_independent_sampling` to `False` in the constructor of `TPESampler`, if this independent sampling is intended behavior.\n",
      "\n",
      "===== TRIAL #166 =====\n",
      "Fingerprint: Daylight\n",
      "Booster: gbtree\n",
      "Lambda: 0.24109833934443997\n",
      "Alpha: 0.11205189057144829\n"
     ]
    },
    {
     "name": "stderr",
     "output_type": "stream",
     "text": [
      "\u001b[32m[I 2022-05-05 03:10:53,090]\u001b[0m Trial 166 finished with value: 0.8962314285810811 and parameters: {'mol_dst': 'Daylight', 'booster': 'gbtree', 'lambda': 0.24109833934443997, 'alpha': 0.11205189057144829, 'max_depth': 5, 'eta': 0.1323824078784065, 'gamma': 9.321733815235152e-06, 'grow_policy': 'lossguide'}. Best is trial 153 with value: 0.919911132859976.\u001b[0m\n"
     ]
    },
    {
     "name": "stdout",
     "output_type": "stream",
     "text": [
      "Trial 166 finished with value: 0.8962314285810811 and parameters: {'mol_dst': 'Daylight', 'booster': 'gbtree', 'lambda': 0.24109833934443997, 'alpha': 0.11205189057144829, 'max_depth': 5, 'eta': 0.1323824078784065, 'gamma': 9.321733815235152e-06, 'grow_policy': 'lossguide'}. Best is trial 153 with value: 0.919911132859976.\n"
     ]
    },
    {
     "name": "stderr",
     "output_type": "stream",
     "text": [
      "\u001b[33m[W 2022-05-05 03:10:53,497]\u001b[0m The parameter 'max_depth' in trial#167 is sampled independently instead of being sampled by multivariate TPE sampler. (optimization performance may be degraded). You can suppress this warning by setting `warn_independent_sampling` to `False` in the constructor of `TPESampler`, if this independent sampling is intended behavior.\u001b[0m\n"
     ]
    },
    {
     "name": "stdout",
     "output_type": "stream",
     "text": [
      "The parameter 'max_depth' in trial#167 is sampled independently instead of being sampled by multivariate TPE sampler. (optimization performance may be degraded). You can suppress this warning by setting `warn_independent_sampling` to `False` in the constructor of `TPESampler`, if this independent sampling is intended behavior.\n"
     ]
    },
    {
     "name": "stderr",
     "output_type": "stream",
     "text": [
      "\u001b[33m[W 2022-05-05 03:10:53,560]\u001b[0m The parameter 'eta' in trial#167 is sampled independently instead of being sampled by multivariate TPE sampler. (optimization performance may be degraded). You can suppress this warning by setting `warn_independent_sampling` to `False` in the constructor of `TPESampler`, if this independent sampling is intended behavior.\u001b[0m\n"
     ]
    },
    {
     "name": "stdout",
     "output_type": "stream",
     "text": [
      "The parameter 'eta' in trial#167 is sampled independently instead of being sampled by multivariate TPE sampler. (optimization performance may be degraded). You can suppress this warning by setting `warn_independent_sampling` to `False` in the constructor of `TPESampler`, if this independent sampling is intended behavior.\n"
     ]
    },
    {
     "name": "stderr",
     "output_type": "stream",
     "text": [
      "\u001b[33m[W 2022-05-05 03:10:53,633]\u001b[0m The parameter 'gamma' in trial#167 is sampled independently instead of being sampled by multivariate TPE sampler. (optimization performance may be degraded). You can suppress this warning by setting `warn_independent_sampling` to `False` in the constructor of `TPESampler`, if this independent sampling is intended behavior.\u001b[0m\n"
     ]
    },
    {
     "name": "stdout",
     "output_type": "stream",
     "text": [
      "The parameter 'gamma' in trial#167 is sampled independently instead of being sampled by multivariate TPE sampler. (optimization performance may be degraded). You can suppress this warning by setting `warn_independent_sampling` to `False` in the constructor of `TPESampler`, if this independent sampling is intended behavior.\n"
     ]
    },
    {
     "name": "stderr",
     "output_type": "stream",
     "text": [
      "\u001b[33m[W 2022-05-05 03:10:53,696]\u001b[0m The parameter 'grow_policy' in trial#167 is sampled independently instead of being sampled by multivariate TPE sampler. (optimization performance may be degraded). You can suppress this warning by setting `warn_independent_sampling` to `False` in the constructor of `TPESampler`, if this independent sampling is intended behavior.\u001b[0m\n"
     ]
    },
    {
     "name": "stdout",
     "output_type": "stream",
     "text": [
      "The parameter 'grow_policy' in trial#167 is sampled independently instead of being sampled by multivariate TPE sampler. (optimization performance may be degraded). You can suppress this warning by setting `warn_independent_sampling` to `False` in the constructor of `TPESampler`, if this independent sampling is intended behavior.\n",
      "\n",
      "===== TRIAL #167 =====\n",
      "Fingerprint: ECFP4\n",
      "Booster: gbtree\n",
      "Lambda: 0.17975046901363237\n",
      "Alpha: 0.058682512775413524\n"
     ]
    },
    {
     "name": "stderr",
     "output_type": "stream",
     "text": [
      "\u001b[32m[I 2022-05-05 03:11:39,441]\u001b[0m Trial 167 finished with value: 0.905750296500843 and parameters: {'mol_dst': 'ECFP4', 'booster': 'gbtree', 'lambda': 0.17975046901363237, 'alpha': 0.058682512775413524, 'max_depth': 5, 'eta': 0.10191564842414957, 'gamma': 5.7587526695442274e-05, 'grow_policy': 'lossguide'}. Best is trial 153 with value: 0.919911132859976.\u001b[0m\n"
     ]
    },
    {
     "name": "stdout",
     "output_type": "stream",
     "text": [
      "Trial 167 finished with value: 0.905750296500843 and parameters: {'mol_dst': 'ECFP4', 'booster': 'gbtree', 'lambda': 0.17975046901363237, 'alpha': 0.058682512775413524, 'max_depth': 5, 'eta': 0.10191564842414957, 'gamma': 5.7587526695442274e-05, 'grow_policy': 'lossguide'}. Best is trial 153 with value: 0.919911132859976.\n"
     ]
    },
    {
     "name": "stderr",
     "output_type": "stream",
     "text": [
      "\u001b[33m[W 2022-05-05 03:11:39,884]\u001b[0m The parameter 'max_depth' in trial#168 is sampled independently instead of being sampled by multivariate TPE sampler. (optimization performance may be degraded). You can suppress this warning by setting `warn_independent_sampling` to `False` in the constructor of `TPESampler`, if this independent sampling is intended behavior.\u001b[0m\n"
     ]
    },
    {
     "name": "stdout",
     "output_type": "stream",
     "text": [
      "The parameter 'max_depth' in trial#168 is sampled independently instead of being sampled by multivariate TPE sampler. (optimization performance may be degraded). You can suppress this warning by setting `warn_independent_sampling` to `False` in the constructor of `TPESampler`, if this independent sampling is intended behavior.\n"
     ]
    },
    {
     "name": "stderr",
     "output_type": "stream",
     "text": [
      "\u001b[33m[W 2022-05-05 03:11:39,950]\u001b[0m The parameter 'eta' in trial#168 is sampled independently instead of being sampled by multivariate TPE sampler. (optimization performance may be degraded). You can suppress this warning by setting `warn_independent_sampling` to `False` in the constructor of `TPESampler`, if this independent sampling is intended behavior.\u001b[0m\n"
     ]
    },
    {
     "name": "stdout",
     "output_type": "stream",
     "text": [
      "The parameter 'eta' in trial#168 is sampled independently instead of being sampled by multivariate TPE sampler. (optimization performance may be degraded). You can suppress this warning by setting `warn_independent_sampling` to `False` in the constructor of `TPESampler`, if this independent sampling is intended behavior.\n"
     ]
    },
    {
     "name": "stderr",
     "output_type": "stream",
     "text": [
      "\u001b[33m[W 2022-05-05 03:11:40,025]\u001b[0m The parameter 'gamma' in trial#168 is sampled independently instead of being sampled by multivariate TPE sampler. (optimization performance may be degraded). You can suppress this warning by setting `warn_independent_sampling` to `False` in the constructor of `TPESampler`, if this independent sampling is intended behavior.\u001b[0m\n"
     ]
    },
    {
     "name": "stdout",
     "output_type": "stream",
     "text": [
      "The parameter 'gamma' in trial#168 is sampled independently instead of being sampled by multivariate TPE sampler. (optimization performance may be degraded). You can suppress this warning by setting `warn_independent_sampling` to `False` in the constructor of `TPESampler`, if this independent sampling is intended behavior.\n"
     ]
    },
    {
     "name": "stderr",
     "output_type": "stream",
     "text": [
      "\u001b[33m[W 2022-05-05 03:11:40,092]\u001b[0m The parameter 'grow_policy' in trial#168 is sampled independently instead of being sampled by multivariate TPE sampler. (optimization performance may be degraded). You can suppress this warning by setting `warn_independent_sampling` to `False` in the constructor of `TPESampler`, if this independent sampling is intended behavior.\u001b[0m\n"
     ]
    },
    {
     "name": "stdout",
     "output_type": "stream",
     "text": [
      "The parameter 'grow_policy' in trial#168 is sampled independently instead of being sampled by multivariate TPE sampler. (optimization performance may be degraded). You can suppress this warning by setting `warn_independent_sampling` to `False` in the constructor of `TPESampler`, if this independent sampling is intended behavior.\n",
      "\n",
      "===== TRIAL #168 =====\n",
      "Fingerprint: RDKit2D\n",
      "Booster: gbtree\n",
      "Lambda: 0.7645182870997195\n",
      "Alpha: 0.9873593197198502\n"
     ]
    },
    {
     "name": "stderr",
     "output_type": "stream",
     "text": [
      "\u001b[32m[I 2022-05-05 03:15:04,023]\u001b[0m Trial 168 finished with value: 0.8746835020947842 and parameters: {'mol_dst': 'RDKit2D', 'booster': 'gbtree', 'lambda': 0.7645182870997195, 'alpha': 0.9873593197198502, 'max_depth': 5, 'eta': 0.006636052909791238, 'gamma': 2.0874326282106063e-05, 'grow_policy': 'lossguide'}. Best is trial 153 with value: 0.919911132859976.\u001b[0m\n"
     ]
    },
    {
     "name": "stdout",
     "output_type": "stream",
     "text": [
      "Trial 168 finished with value: 0.8746835020947842 and parameters: {'mol_dst': 'RDKit2D', 'booster': 'gbtree', 'lambda': 0.7645182870997195, 'alpha': 0.9873593197198502, 'max_depth': 5, 'eta': 0.006636052909791238, 'gamma': 2.0874326282106063e-05, 'grow_policy': 'lossguide'}. Best is trial 153 with value: 0.919911132859976.\n"
     ]
    },
    {
     "name": "stderr",
     "output_type": "stream",
     "text": [
      "\u001b[33m[W 2022-05-05 03:15:04,431]\u001b[0m The parameter 'max_depth' in trial#169 is sampled independently instead of being sampled by multivariate TPE sampler. (optimization performance may be degraded). You can suppress this warning by setting `warn_independent_sampling` to `False` in the constructor of `TPESampler`, if this independent sampling is intended behavior.\u001b[0m\n"
     ]
    },
    {
     "name": "stdout",
     "output_type": "stream",
     "text": [
      "The parameter 'max_depth' in trial#169 is sampled independently instead of being sampled by multivariate TPE sampler. (optimization performance may be degraded). You can suppress this warning by setting `warn_independent_sampling` to `False` in the constructor of `TPESampler`, if this independent sampling is intended behavior.\n"
     ]
    },
    {
     "name": "stderr",
     "output_type": "stream",
     "text": [
      "\u001b[33m[W 2022-05-05 03:15:04,493]\u001b[0m The parameter 'eta' in trial#169 is sampled independently instead of being sampled by multivariate TPE sampler. (optimization performance may be degraded). You can suppress this warning by setting `warn_independent_sampling` to `False` in the constructor of `TPESampler`, if this independent sampling is intended behavior.\u001b[0m\n"
     ]
    },
    {
     "name": "stdout",
     "output_type": "stream",
     "text": [
      "The parameter 'eta' in trial#169 is sampled independently instead of being sampled by multivariate TPE sampler. (optimization performance may be degraded). You can suppress this warning by setting `warn_independent_sampling` to `False` in the constructor of `TPESampler`, if this independent sampling is intended behavior.\n"
     ]
    },
    {
     "name": "stderr",
     "output_type": "stream",
     "text": [
      "\u001b[33m[W 2022-05-05 03:15:04,557]\u001b[0m The parameter 'gamma' in trial#169 is sampled independently instead of being sampled by multivariate TPE sampler. (optimization performance may be degraded). You can suppress this warning by setting `warn_independent_sampling` to `False` in the constructor of `TPESampler`, if this independent sampling is intended behavior.\u001b[0m\n"
     ]
    },
    {
     "name": "stdout",
     "output_type": "stream",
     "text": [
      "The parameter 'gamma' in trial#169 is sampled independently instead of being sampled by multivariate TPE sampler. (optimization performance may be degraded). You can suppress this warning by setting `warn_independent_sampling` to `False` in the constructor of `TPESampler`, if this independent sampling is intended behavior.\n"
     ]
    },
    {
     "name": "stderr",
     "output_type": "stream",
     "text": [
      "\u001b[33m[W 2022-05-05 03:15:04,627]\u001b[0m The parameter 'grow_policy' in trial#169 is sampled independently instead of being sampled by multivariate TPE sampler. (optimization performance may be degraded). You can suppress this warning by setting `warn_independent_sampling` to `False` in the constructor of `TPESampler`, if this independent sampling is intended behavior.\u001b[0m\n"
     ]
    },
    {
     "name": "stdout",
     "output_type": "stream",
     "text": [
      "The parameter 'grow_policy' in trial#169 is sampled independently instead of being sampled by multivariate TPE sampler. (optimization performance may be degraded). You can suppress this warning by setting `warn_independent_sampling` to `False` in the constructor of `TPESampler`, if this independent sampling is intended behavior.\n",
      "\n",
      "===== TRIAL #169 =====\n",
      "Fingerprint: RDKit2D\n",
      "Booster: gbtree\n",
      "Lambda: 0.08685341234034427\n",
      "Alpha: 0.7494956953716801\n"
     ]
    },
    {
     "name": "stderr",
     "output_type": "stream",
     "text": [
      "\u001b[32m[I 2022-05-05 03:18:25,190]\u001b[0m Trial 169 finished with value: 0.9012562118373191 and parameters: {'mol_dst': 'RDKit2D', 'booster': 'gbtree', 'lambda': 0.08685341234034427, 'alpha': 0.7494956953716801, 'max_depth': 5, 'eta': 0.7967476379119784, 'gamma': 0.0002755010493893463, 'grow_policy': 'lossguide'}. Best is trial 153 with value: 0.919911132859976.\u001b[0m\n"
     ]
    },
    {
     "name": "stdout",
     "output_type": "stream",
     "text": [
      "Trial 169 finished with value: 0.9012562118373191 and parameters: {'mol_dst': 'RDKit2D', 'booster': 'gbtree', 'lambda': 0.08685341234034427, 'alpha': 0.7494956953716801, 'max_depth': 5, 'eta': 0.7967476379119784, 'gamma': 0.0002755010493893463, 'grow_policy': 'lossguide'}. Best is trial 153 with value: 0.919911132859976.\n"
     ]
    },
    {
     "name": "stderr",
     "output_type": "stream",
     "text": [
      "\u001b[33m[W 2022-05-05 03:18:25,614]\u001b[0m The parameter 'max_depth' in trial#170 is sampled independently instead of being sampled by multivariate TPE sampler. (optimization performance may be degraded). You can suppress this warning by setting `warn_independent_sampling` to `False` in the constructor of `TPESampler`, if this independent sampling is intended behavior.\u001b[0m\n"
     ]
    },
    {
     "name": "stdout",
     "output_type": "stream",
     "text": [
      "The parameter 'max_depth' in trial#170 is sampled independently instead of being sampled by multivariate TPE sampler. (optimization performance may be degraded). You can suppress this warning by setting `warn_independent_sampling` to `False` in the constructor of `TPESampler`, if this independent sampling is intended behavior.\n"
     ]
    },
    {
     "name": "stderr",
     "output_type": "stream",
     "text": [
      "\u001b[33m[W 2022-05-05 03:18:25,682]\u001b[0m The parameter 'eta' in trial#170 is sampled independently instead of being sampled by multivariate TPE sampler. (optimization performance may be degraded). You can suppress this warning by setting `warn_independent_sampling` to `False` in the constructor of `TPESampler`, if this independent sampling is intended behavior.\u001b[0m\n"
     ]
    },
    {
     "name": "stdout",
     "output_type": "stream",
     "text": [
      "The parameter 'eta' in trial#170 is sampled independently instead of being sampled by multivariate TPE sampler. (optimization performance may be degraded). You can suppress this warning by setting `warn_independent_sampling` to `False` in the constructor of `TPESampler`, if this independent sampling is intended behavior.\n"
     ]
    },
    {
     "name": "stderr",
     "output_type": "stream",
     "text": [
      "\u001b[33m[W 2022-05-05 03:18:25,750]\u001b[0m The parameter 'gamma' in trial#170 is sampled independently instead of being sampled by multivariate TPE sampler. (optimization performance may be degraded). You can suppress this warning by setting `warn_independent_sampling` to `False` in the constructor of `TPESampler`, if this independent sampling is intended behavior.\u001b[0m\n"
     ]
    },
    {
     "name": "stdout",
     "output_type": "stream",
     "text": [
      "The parameter 'gamma' in trial#170 is sampled independently instead of being sampled by multivariate TPE sampler. (optimization performance may be degraded). You can suppress this warning by setting `warn_independent_sampling` to `False` in the constructor of `TPESampler`, if this independent sampling is intended behavior.\n"
     ]
    },
    {
     "name": "stderr",
     "output_type": "stream",
     "text": [
      "\u001b[33m[W 2022-05-05 03:18:25,818]\u001b[0m The parameter 'grow_policy' in trial#170 is sampled independently instead of being sampled by multivariate TPE sampler. (optimization performance may be degraded). You can suppress this warning by setting `warn_independent_sampling` to `False` in the constructor of `TPESampler`, if this independent sampling is intended behavior.\u001b[0m\n"
     ]
    },
    {
     "name": "stdout",
     "output_type": "stream",
     "text": [
      "The parameter 'grow_policy' in trial#170 is sampled independently instead of being sampled by multivariate TPE sampler. (optimization performance may be degraded). You can suppress this warning by setting `warn_independent_sampling` to `False` in the constructor of `TPESampler`, if this independent sampling is intended behavior.\n",
      "\n",
      "===== TRIAL #170 =====\n",
      "Fingerprint: ECFP2\n",
      "Booster: gbtree\n",
      "Lambda: 0.10655687583880412\n",
      "Alpha: 0.0036448326145376085\n"
     ]
    },
    {
     "name": "stderr",
     "output_type": "stream",
     "text": [
      "\u001b[32m[I 2022-05-05 03:19:30,878]\u001b[0m Trial 170 finished with value: 0.8821921177531366 and parameters: {'mol_dst': 'ECFP2', 'booster': 'gbtree', 'lambda': 0.10655687583880412, 'alpha': 0.0036448326145376085, 'max_depth': 6, 'eta': 0.015428766081876216, 'gamma': 3.3748729059446115e-06, 'grow_policy': 'lossguide'}. Best is trial 153 with value: 0.919911132859976.\u001b[0m\n"
     ]
    },
    {
     "name": "stdout",
     "output_type": "stream",
     "text": [
      "Trial 170 finished with value: 0.8821921177531366 and parameters: {'mol_dst': 'ECFP2', 'booster': 'gbtree', 'lambda': 0.10655687583880412, 'alpha': 0.0036448326145376085, 'max_depth': 6, 'eta': 0.015428766081876216, 'gamma': 3.3748729059446115e-06, 'grow_policy': 'lossguide'}. Best is trial 153 with value: 0.919911132859976.\n"
     ]
    },
    {
     "name": "stderr",
     "output_type": "stream",
     "text": [
      "\u001b[33m[W 2022-05-05 03:19:31,341]\u001b[0m The parameter 'max_depth' in trial#171 is sampled independently instead of being sampled by multivariate TPE sampler. (optimization performance may be degraded). You can suppress this warning by setting `warn_independent_sampling` to `False` in the constructor of `TPESampler`, if this independent sampling is intended behavior.\u001b[0m\n"
     ]
    },
    {
     "name": "stdout",
     "output_type": "stream",
     "text": [
      "The parameter 'max_depth' in trial#171 is sampled independently instead of being sampled by multivariate TPE sampler. (optimization performance may be degraded). You can suppress this warning by setting `warn_independent_sampling` to `False` in the constructor of `TPESampler`, if this independent sampling is intended behavior.\n"
     ]
    },
    {
     "name": "stderr",
     "output_type": "stream",
     "text": [
      "\u001b[33m[W 2022-05-05 03:19:31,407]\u001b[0m The parameter 'eta' in trial#171 is sampled independently instead of being sampled by multivariate TPE sampler. (optimization performance may be degraded). You can suppress this warning by setting `warn_independent_sampling` to `False` in the constructor of `TPESampler`, if this independent sampling is intended behavior.\u001b[0m\n"
     ]
    },
    {
     "name": "stdout",
     "output_type": "stream",
     "text": [
      "The parameter 'eta' in trial#171 is sampled independently instead of being sampled by multivariate TPE sampler. (optimization performance may be degraded). You can suppress this warning by setting `warn_independent_sampling` to `False` in the constructor of `TPESampler`, if this independent sampling is intended behavior.\n"
     ]
    },
    {
     "name": "stderr",
     "output_type": "stream",
     "text": [
      "\u001b[33m[W 2022-05-05 03:19:31,476]\u001b[0m The parameter 'gamma' in trial#171 is sampled independently instead of being sampled by multivariate TPE sampler. (optimization performance may be degraded). You can suppress this warning by setting `warn_independent_sampling` to `False` in the constructor of `TPESampler`, if this independent sampling is intended behavior.\u001b[0m\n"
     ]
    },
    {
     "name": "stdout",
     "output_type": "stream",
     "text": [
      "The parameter 'gamma' in trial#171 is sampled independently instead of being sampled by multivariate TPE sampler. (optimization performance may be degraded). You can suppress this warning by setting `warn_independent_sampling` to `False` in the constructor of `TPESampler`, if this independent sampling is intended behavior.\n"
     ]
    },
    {
     "name": "stderr",
     "output_type": "stream",
     "text": [
      "\u001b[33m[W 2022-05-05 03:19:31,547]\u001b[0m The parameter 'grow_policy' in trial#171 is sampled independently instead of being sampled by multivariate TPE sampler. (optimization performance may be degraded). You can suppress this warning by setting `warn_independent_sampling` to `False` in the constructor of `TPESampler`, if this independent sampling is intended behavior.\u001b[0m\n"
     ]
    },
    {
     "name": "stdout",
     "output_type": "stream",
     "text": [
      "The parameter 'grow_policy' in trial#171 is sampled independently instead of being sampled by multivariate TPE sampler. (optimization performance may be degraded). You can suppress this warning by setting `warn_independent_sampling` to `False` in the constructor of `TPESampler`, if this independent sampling is intended behavior.\n",
      "\n",
      "===== TRIAL #171 =====\n",
      "Fingerprint: RDKit2D\n",
      "Booster: gbtree\n",
      "Lambda: 0.00010787396637467622\n",
      "Alpha: 0.08332853043377433\n"
     ]
    },
    {
     "name": "stderr",
     "output_type": "stream",
     "text": [
      "\u001b[32m[I 2022-05-05 03:23:07,252]\u001b[0m Trial 171 finished with value: 0.9166526174323557 and parameters: {'mol_dst': 'RDKit2D', 'booster': 'gbtree', 'lambda': 0.00010787396637467622, 'alpha': 0.08332853043377433, 'max_depth': 7, 'eta': 0.04520375802414205, 'gamma': 0.00014409544960932382, 'grow_policy': 'lossguide'}. Best is trial 153 with value: 0.919911132859976.\u001b[0m\n"
     ]
    },
    {
     "name": "stdout",
     "output_type": "stream",
     "text": [
      "Trial 171 finished with value: 0.9166526174323557 and parameters: {'mol_dst': 'RDKit2D', 'booster': 'gbtree', 'lambda': 0.00010787396637467622, 'alpha': 0.08332853043377433, 'max_depth': 7, 'eta': 0.04520375802414205, 'gamma': 0.00014409544960932382, 'grow_policy': 'lossguide'}. Best is trial 153 with value: 0.919911132859976.\n"
     ]
    },
    {
     "name": "stderr",
     "output_type": "stream",
     "text": [
      "\u001b[33m[W 2022-05-05 03:23:07,672]\u001b[0m The parameter 'max_depth' in trial#172 is sampled independently instead of being sampled by multivariate TPE sampler. (optimization performance may be degraded). You can suppress this warning by setting `warn_independent_sampling` to `False` in the constructor of `TPESampler`, if this independent sampling is intended behavior.\u001b[0m\n"
     ]
    },
    {
     "name": "stdout",
     "output_type": "stream",
     "text": [
      "The parameter 'max_depth' in trial#172 is sampled independently instead of being sampled by multivariate TPE sampler. (optimization performance may be degraded). You can suppress this warning by setting `warn_independent_sampling` to `False` in the constructor of `TPESampler`, if this independent sampling is intended behavior.\n"
     ]
    },
    {
     "name": "stderr",
     "output_type": "stream",
     "text": [
      "\u001b[33m[W 2022-05-05 03:23:07,743]\u001b[0m The parameter 'eta' in trial#172 is sampled independently instead of being sampled by multivariate TPE sampler. (optimization performance may be degraded). You can suppress this warning by setting `warn_independent_sampling` to `False` in the constructor of `TPESampler`, if this independent sampling is intended behavior.\u001b[0m\n"
     ]
    },
    {
     "name": "stdout",
     "output_type": "stream",
     "text": [
      "The parameter 'eta' in trial#172 is sampled independently instead of being sampled by multivariate TPE sampler. (optimization performance may be degraded). You can suppress this warning by setting `warn_independent_sampling` to `False` in the constructor of `TPESampler`, if this independent sampling is intended behavior.\n"
     ]
    },
    {
     "name": "stderr",
     "output_type": "stream",
     "text": [
      "\u001b[33m[W 2022-05-05 03:23:07,831]\u001b[0m The parameter 'gamma' in trial#172 is sampled independently instead of being sampled by multivariate TPE sampler. (optimization performance may be degraded). You can suppress this warning by setting `warn_independent_sampling` to `False` in the constructor of `TPESampler`, if this independent sampling is intended behavior.\u001b[0m\n"
     ]
    },
    {
     "name": "stdout",
     "output_type": "stream",
     "text": [
      "The parameter 'gamma' in trial#172 is sampled independently instead of being sampled by multivariate TPE sampler. (optimization performance may be degraded). You can suppress this warning by setting `warn_independent_sampling` to `False` in the constructor of `TPESampler`, if this independent sampling is intended behavior.\n"
     ]
    },
    {
     "name": "stderr",
     "output_type": "stream",
     "text": [
      "\u001b[33m[W 2022-05-05 03:23:07,906]\u001b[0m The parameter 'grow_policy' in trial#172 is sampled independently instead of being sampled by multivariate TPE sampler. (optimization performance may be degraded). You can suppress this warning by setting `warn_independent_sampling` to `False` in the constructor of `TPESampler`, if this independent sampling is intended behavior.\u001b[0m\n"
     ]
    },
    {
     "name": "stdout",
     "output_type": "stream",
     "text": [
      "The parameter 'grow_policy' in trial#172 is sampled independently instead of being sampled by multivariate TPE sampler. (optimization performance may be degraded). You can suppress this warning by setting `warn_independent_sampling` to `False` in the constructor of `TPESampler`, if this independent sampling is intended behavior.\n",
      "\n",
      "===== TRIAL #172 =====\n",
      "Fingerprint: ECFP2\n",
      "Booster: gbtree\n",
      "Lambda: 0.49534752292586187\n",
      "Alpha: 0.2669750821898311\n"
     ]
    },
    {
     "name": "stderr",
     "output_type": "stream",
     "text": [
      "\u001b[32m[I 2022-05-05 03:24:11,810]\u001b[0m Trial 172 finished with value: 0.9103679069892028 and parameters: {'mol_dst': 'ECFP2', 'booster': 'gbtree', 'lambda': 0.49534752292586187, 'alpha': 0.2669750821898311, 'max_depth': 6, 'eta': 0.047168128023132326, 'gamma': 3.2248933710213735e-07, 'grow_policy': 'lossguide'}. Best is trial 153 with value: 0.919911132859976.\u001b[0m\n"
     ]
    },
    {
     "name": "stdout",
     "output_type": "stream",
     "text": [
      "Trial 172 finished with value: 0.9103679069892028 and parameters: {'mol_dst': 'ECFP2', 'booster': 'gbtree', 'lambda': 0.49534752292586187, 'alpha': 0.2669750821898311, 'max_depth': 6, 'eta': 0.047168128023132326, 'gamma': 3.2248933710213735e-07, 'grow_policy': 'lossguide'}. Best is trial 153 with value: 0.919911132859976.\n"
     ]
    },
    {
     "name": "stderr",
     "output_type": "stream",
     "text": [
      "\u001b[33m[W 2022-05-05 03:24:12,305]\u001b[0m The parameter 'max_depth' in trial#173 is sampled independently instead of being sampled by multivariate TPE sampler. (optimization performance may be degraded). You can suppress this warning by setting `warn_independent_sampling` to `False` in the constructor of `TPESampler`, if this independent sampling is intended behavior.\u001b[0m\n"
     ]
    },
    {
     "name": "stdout",
     "output_type": "stream",
     "text": [
      "The parameter 'max_depth' in trial#173 is sampled independently instead of being sampled by multivariate TPE sampler. (optimization performance may be degraded). You can suppress this warning by setting `warn_independent_sampling` to `False` in the constructor of `TPESampler`, if this independent sampling is intended behavior.\n"
     ]
    },
    {
     "name": "stderr",
     "output_type": "stream",
     "text": [
      "\u001b[33m[W 2022-05-05 03:24:12,373]\u001b[0m The parameter 'eta' in trial#173 is sampled independently instead of being sampled by multivariate TPE sampler. (optimization performance may be degraded). You can suppress this warning by setting `warn_independent_sampling` to `False` in the constructor of `TPESampler`, if this independent sampling is intended behavior.\u001b[0m\n"
     ]
    },
    {
     "name": "stdout",
     "output_type": "stream",
     "text": [
      "The parameter 'eta' in trial#173 is sampled independently instead of being sampled by multivariate TPE sampler. (optimization performance may be degraded). You can suppress this warning by setting `warn_independent_sampling` to `False` in the constructor of `TPESampler`, if this independent sampling is intended behavior.\n"
     ]
    },
    {
     "name": "stderr",
     "output_type": "stream",
     "text": [
      "\u001b[33m[W 2022-05-05 03:24:12,443]\u001b[0m The parameter 'gamma' in trial#173 is sampled independently instead of being sampled by multivariate TPE sampler. (optimization performance may be degraded). You can suppress this warning by setting `warn_independent_sampling` to `False` in the constructor of `TPESampler`, if this independent sampling is intended behavior.\u001b[0m\n"
     ]
    },
    {
     "name": "stdout",
     "output_type": "stream",
     "text": [
      "The parameter 'gamma' in trial#173 is sampled independently instead of being sampled by multivariate TPE sampler. (optimization performance may be degraded). You can suppress this warning by setting `warn_independent_sampling` to `False` in the constructor of `TPESampler`, if this independent sampling is intended behavior.\n"
     ]
    },
    {
     "name": "stderr",
     "output_type": "stream",
     "text": [
      "\u001b[33m[W 2022-05-05 03:24:12,514]\u001b[0m The parameter 'grow_policy' in trial#173 is sampled independently instead of being sampled by multivariate TPE sampler. (optimization performance may be degraded). You can suppress this warning by setting `warn_independent_sampling` to `False` in the constructor of `TPESampler`, if this independent sampling is intended behavior.\u001b[0m\n"
     ]
    },
    {
     "name": "stdout",
     "output_type": "stream",
     "text": [
      "The parameter 'grow_policy' in trial#173 is sampled independently instead of being sampled by multivariate TPE sampler. (optimization performance may be degraded). You can suppress this warning by setting `warn_independent_sampling` to `False` in the constructor of `TPESampler`, if this independent sampling is intended behavior.\n",
      "\n",
      "===== TRIAL #173 =====\n",
      "Fingerprint: RDKit2D\n",
      "Booster: gbtree\n",
      "Lambda: 0.00011506948966323159\n",
      "Alpha: 0.8129020908113438\n"
     ]
    },
    {
     "name": "stderr",
     "output_type": "stream",
     "text": [
      "\u001b[32m[I 2022-05-05 03:27:41,903]\u001b[0m Trial 173 finished with value: 0.9189827832643965 and parameters: {'mol_dst': 'RDKit2D', 'booster': 'gbtree', 'lambda': 0.00011506948966323159, 'alpha': 0.8129020908113438, 'max_depth': 7, 'eta': 0.08522322175865986, 'gamma': 0.00012279651170329852, 'grow_policy': 'lossguide'}. Best is trial 153 with value: 0.919911132859976.\u001b[0m\n"
     ]
    },
    {
     "name": "stdout",
     "output_type": "stream",
     "text": [
      "Trial 173 finished with value: 0.9189827832643965 and parameters: {'mol_dst': 'RDKit2D', 'booster': 'gbtree', 'lambda': 0.00011506948966323159, 'alpha': 0.8129020908113438, 'max_depth': 7, 'eta': 0.08522322175865986, 'gamma': 0.00012279651170329852, 'grow_policy': 'lossguide'}. Best is trial 153 with value: 0.919911132859976.\n"
     ]
    },
    {
     "name": "stderr",
     "output_type": "stream",
     "text": [
      "\u001b[33m[W 2022-05-05 03:27:42,302]\u001b[0m The parameter 'max_depth' in trial#174 is sampled independently instead of being sampled by multivariate TPE sampler. (optimization performance may be degraded). You can suppress this warning by setting `warn_independent_sampling` to `False` in the constructor of `TPESampler`, if this independent sampling is intended behavior.\u001b[0m\n"
     ]
    },
    {
     "name": "stdout",
     "output_type": "stream",
     "text": [
      "The parameter 'max_depth' in trial#174 is sampled independently instead of being sampled by multivariate TPE sampler. (optimization performance may be degraded). You can suppress this warning by setting `warn_independent_sampling` to `False` in the constructor of `TPESampler`, if this independent sampling is intended behavior.\n"
     ]
    },
    {
     "name": "stderr",
     "output_type": "stream",
     "text": [
      "\u001b[33m[W 2022-05-05 03:27:42,359]\u001b[0m The parameter 'eta' in trial#174 is sampled independently instead of being sampled by multivariate TPE sampler. (optimization performance may be degraded). You can suppress this warning by setting `warn_independent_sampling` to `False` in the constructor of `TPESampler`, if this independent sampling is intended behavior.\u001b[0m\n"
     ]
    },
    {
     "name": "stdout",
     "output_type": "stream",
     "text": [
      "The parameter 'eta' in trial#174 is sampled independently instead of being sampled by multivariate TPE sampler. (optimization performance may be degraded). You can suppress this warning by setting `warn_independent_sampling` to `False` in the constructor of `TPESampler`, if this independent sampling is intended behavior.\n"
     ]
    },
    {
     "name": "stderr",
     "output_type": "stream",
     "text": [
      "\u001b[33m[W 2022-05-05 03:27:42,420]\u001b[0m The parameter 'gamma' in trial#174 is sampled independently instead of being sampled by multivariate TPE sampler. (optimization performance may be degraded). You can suppress this warning by setting `warn_independent_sampling` to `False` in the constructor of `TPESampler`, if this independent sampling is intended behavior.\u001b[0m\n"
     ]
    },
    {
     "name": "stdout",
     "output_type": "stream",
     "text": [
      "The parameter 'gamma' in trial#174 is sampled independently instead of being sampled by multivariate TPE sampler. (optimization performance may be degraded). You can suppress this warning by setting `warn_independent_sampling` to `False` in the constructor of `TPESampler`, if this independent sampling is intended behavior.\n"
     ]
    },
    {
     "name": "stderr",
     "output_type": "stream",
     "text": [
      "\u001b[33m[W 2022-05-05 03:27:42,486]\u001b[0m The parameter 'grow_policy' in trial#174 is sampled independently instead of being sampled by multivariate TPE sampler. (optimization performance may be degraded). You can suppress this warning by setting `warn_independent_sampling` to `False` in the constructor of `TPESampler`, if this independent sampling is intended behavior.\u001b[0m\n"
     ]
    },
    {
     "name": "stdout",
     "output_type": "stream",
     "text": [
      "The parameter 'grow_policy' in trial#174 is sampled independently instead of being sampled by multivariate TPE sampler. (optimization performance may be degraded). You can suppress this warning by setting `warn_independent_sampling` to `False` in the constructor of `TPESampler`, if this independent sampling is intended behavior.\n",
      "\n",
      "===== TRIAL #174 =====\n",
      "Fingerprint: RDKit2D\n",
      "Booster: gbtree\n",
      "Lambda: 1.034237529043582e-05\n",
      "Alpha: 0.8454030230126912\n"
     ]
    },
    {
     "name": "stderr",
     "output_type": "stream",
     "text": [
      "\u001b[32m[I 2022-05-05 03:31:05,829]\u001b[0m Trial 174 finished with value: 0.9160197936122749 and parameters: {'mol_dst': 'RDKit2D', 'booster': 'gbtree', 'lambda': 1.034237529043582e-05, 'alpha': 0.8454030230126912, 'max_depth': 6, 'eta': 0.1529804753823335, 'gamma': 6.902146764783636e-05, 'grow_policy': 'lossguide'}. Best is trial 153 with value: 0.919911132859976.\u001b[0m\n"
     ]
    },
    {
     "name": "stdout",
     "output_type": "stream",
     "text": [
      "Trial 174 finished with value: 0.9160197936122749 and parameters: {'mol_dst': 'RDKit2D', 'booster': 'gbtree', 'lambda': 1.034237529043582e-05, 'alpha': 0.8454030230126912, 'max_depth': 6, 'eta': 0.1529804753823335, 'gamma': 6.902146764783636e-05, 'grow_policy': 'lossguide'}. Best is trial 153 with value: 0.919911132859976.\n"
     ]
    },
    {
     "name": "stderr",
     "output_type": "stream",
     "text": [
      "\u001b[33m[W 2022-05-05 03:31:06,287]\u001b[0m The parameter 'max_depth' in trial#175 is sampled independently instead of being sampled by multivariate TPE sampler. (optimization performance may be degraded). You can suppress this warning by setting `warn_independent_sampling` to `False` in the constructor of `TPESampler`, if this independent sampling is intended behavior.\u001b[0m\n"
     ]
    },
    {
     "name": "stdout",
     "output_type": "stream",
     "text": [
      "The parameter 'max_depth' in trial#175 is sampled independently instead of being sampled by multivariate TPE sampler. (optimization performance may be degraded). You can suppress this warning by setting `warn_independent_sampling` to `False` in the constructor of `TPESampler`, if this independent sampling is intended behavior.\n"
     ]
    },
    {
     "name": "stderr",
     "output_type": "stream",
     "text": [
      "\u001b[33m[W 2022-05-05 03:31:06,461]\u001b[0m The parameter 'eta' in trial#175 is sampled independently instead of being sampled by multivariate TPE sampler. (optimization performance may be degraded). You can suppress this warning by setting `warn_independent_sampling` to `False` in the constructor of `TPESampler`, if this independent sampling is intended behavior.\u001b[0m\n"
     ]
    },
    {
     "name": "stdout",
     "output_type": "stream",
     "text": [
      "The parameter 'eta' in trial#175 is sampled independently instead of being sampled by multivariate TPE sampler. (optimization performance may be degraded). You can suppress this warning by setting `warn_independent_sampling` to `False` in the constructor of `TPESampler`, if this independent sampling is intended behavior.\n"
     ]
    },
    {
     "name": "stderr",
     "output_type": "stream",
     "text": [
      "\u001b[33m[W 2022-05-05 03:31:06,522]\u001b[0m The parameter 'gamma' in trial#175 is sampled independently instead of being sampled by multivariate TPE sampler. (optimization performance may be degraded). You can suppress this warning by setting `warn_independent_sampling` to `False` in the constructor of `TPESampler`, if this independent sampling is intended behavior.\u001b[0m\n"
     ]
    },
    {
     "name": "stdout",
     "output_type": "stream",
     "text": [
      "The parameter 'gamma' in trial#175 is sampled independently instead of being sampled by multivariate TPE sampler. (optimization performance may be degraded). You can suppress this warning by setting `warn_independent_sampling` to `False` in the constructor of `TPESampler`, if this independent sampling is intended behavior.\n"
     ]
    },
    {
     "name": "stderr",
     "output_type": "stream",
     "text": [
      "\u001b[33m[W 2022-05-05 03:31:06,584]\u001b[0m The parameter 'grow_policy' in trial#175 is sampled independently instead of being sampled by multivariate TPE sampler. (optimization performance may be degraded). You can suppress this warning by setting `warn_independent_sampling` to `False` in the constructor of `TPESampler`, if this independent sampling is intended behavior.\u001b[0m\n"
     ]
    },
    {
     "name": "stdout",
     "output_type": "stream",
     "text": [
      "The parameter 'grow_policy' in trial#175 is sampled independently instead of being sampled by multivariate TPE sampler. (optimization performance may be degraded). You can suppress this warning by setting `warn_independent_sampling` to `False` in the constructor of `TPESampler`, if this independent sampling is intended behavior.\n",
      "\n",
      "===== TRIAL #175 =====\n",
      "Fingerprint: Morgan\n",
      "Booster: gbtree\n",
      "Lambda: 0.007223133181837215\n",
      "Alpha: 0.23866303465643768\n"
     ]
    },
    {
     "name": "stderr",
     "output_type": "stream",
     "text": [
      "\u001b[32m[I 2022-05-05 03:31:28,493]\u001b[0m Trial 175 finished with value: 0.9018515270619257 and parameters: {'mol_dst': 'Morgan', 'booster': 'gbtree', 'lambda': 0.007223133181837215, 'alpha': 0.23866303465643768, 'max_depth': 8, 'eta': 0.16406167394224536, 'gamma': 0.0002745693933404244, 'grow_policy': 'lossguide'}. Best is trial 153 with value: 0.919911132859976.\u001b[0m\n"
     ]
    },
    {
     "name": "stdout",
     "output_type": "stream",
     "text": [
      "Trial 175 finished with value: 0.9018515270619257 and parameters: {'mol_dst': 'Morgan', 'booster': 'gbtree', 'lambda': 0.007223133181837215, 'alpha': 0.23866303465643768, 'max_depth': 8, 'eta': 0.16406167394224536, 'gamma': 0.0002745693933404244, 'grow_policy': 'lossguide'}. Best is trial 153 with value: 0.919911132859976.\n"
     ]
    },
    {
     "name": "stderr",
     "output_type": "stream",
     "text": [
      "\u001b[33m[W 2022-05-05 03:31:28,897]\u001b[0m The parameter 'max_depth' in trial#176 is sampled independently instead of being sampled by multivariate TPE sampler. (optimization performance may be degraded). You can suppress this warning by setting `warn_independent_sampling` to `False` in the constructor of `TPESampler`, if this independent sampling is intended behavior.\u001b[0m\n"
     ]
    },
    {
     "name": "stdout",
     "output_type": "stream",
     "text": [
      "The parameter 'max_depth' in trial#176 is sampled independently instead of being sampled by multivariate TPE sampler. (optimization performance may be degraded). You can suppress this warning by setting `warn_independent_sampling` to `False` in the constructor of `TPESampler`, if this independent sampling is intended behavior.\n"
     ]
    },
    {
     "name": "stderr",
     "output_type": "stream",
     "text": [
      "\u001b[33m[W 2022-05-05 03:31:28,961]\u001b[0m The parameter 'eta' in trial#176 is sampled independently instead of being sampled by multivariate TPE sampler. (optimization performance may be degraded). You can suppress this warning by setting `warn_independent_sampling` to `False` in the constructor of `TPESampler`, if this independent sampling is intended behavior.\u001b[0m\n"
     ]
    },
    {
     "name": "stdout",
     "output_type": "stream",
     "text": [
      "The parameter 'eta' in trial#176 is sampled independently instead of being sampled by multivariate TPE sampler. (optimization performance may be degraded). You can suppress this warning by setting `warn_independent_sampling` to `False` in the constructor of `TPESampler`, if this independent sampling is intended behavior.\n"
     ]
    },
    {
     "name": "stderr",
     "output_type": "stream",
     "text": [
      "\u001b[33m[W 2022-05-05 03:31:29,022]\u001b[0m The parameter 'gamma' in trial#176 is sampled independently instead of being sampled by multivariate TPE sampler. (optimization performance may be degraded). You can suppress this warning by setting `warn_independent_sampling` to `False` in the constructor of `TPESampler`, if this independent sampling is intended behavior.\u001b[0m\n"
     ]
    },
    {
     "name": "stdout",
     "output_type": "stream",
     "text": [
      "The parameter 'gamma' in trial#176 is sampled independently instead of being sampled by multivariate TPE sampler. (optimization performance may be degraded). You can suppress this warning by setting `warn_independent_sampling` to `False` in the constructor of `TPESampler`, if this independent sampling is intended behavior.\n"
     ]
    },
    {
     "name": "stderr",
     "output_type": "stream",
     "text": [
      "\u001b[33m[W 2022-05-05 03:31:29,094]\u001b[0m The parameter 'grow_policy' in trial#176 is sampled independently instead of being sampled by multivariate TPE sampler. (optimization performance may be degraded). You can suppress this warning by setting `warn_independent_sampling` to `False` in the constructor of `TPESampler`, if this independent sampling is intended behavior.\u001b[0m\n"
     ]
    },
    {
     "name": "stdout",
     "output_type": "stream",
     "text": [
      "The parameter 'grow_policy' in trial#176 is sampled independently instead of being sampled by multivariate TPE sampler. (optimization performance may be degraded). You can suppress this warning by setting `warn_independent_sampling` to `False` in the constructor of `TPESampler`, if this independent sampling is intended behavior.\n",
      "\n",
      "===== TRIAL #176 =====\n",
      "Fingerprint: ECFP2\n",
      "Booster: gbtree\n",
      "Lambda: 0.0003889477478689228\n",
      "Alpha: 0.06057995404181744\n"
     ]
    },
    {
     "name": "stderr",
     "output_type": "stream",
     "text": [
      "\u001b[32m[I 2022-05-05 03:32:17,298]\u001b[0m Trial 176 finished with value: 0.9127321826146539 and parameters: {'mol_dst': 'ECFP2', 'booster': 'gbtree', 'lambda': 0.0003889477478689228, 'alpha': 0.06057995404181744, 'max_depth': 7, 'eta': 0.09766349453271407, 'gamma': 0.00012178337657398606, 'grow_policy': 'lossguide'}. Best is trial 153 with value: 0.919911132859976.\u001b[0m\n"
     ]
    },
    {
     "name": "stdout",
     "output_type": "stream",
     "text": [
      "Trial 176 finished with value: 0.9127321826146539 and parameters: {'mol_dst': 'ECFP2', 'booster': 'gbtree', 'lambda': 0.0003889477478689228, 'alpha': 0.06057995404181744, 'max_depth': 7, 'eta': 0.09766349453271407, 'gamma': 0.00012178337657398606, 'grow_policy': 'lossguide'}. Best is trial 153 with value: 0.919911132859976.\n"
     ]
    },
    {
     "name": "stderr",
     "output_type": "stream",
     "text": [
      "\u001b[33m[W 2022-05-05 03:32:17,689]\u001b[0m The parameter 'max_depth' in trial#177 is sampled independently instead of being sampled by multivariate TPE sampler. (optimization performance may be degraded). You can suppress this warning by setting `warn_independent_sampling` to `False` in the constructor of `TPESampler`, if this independent sampling is intended behavior.\u001b[0m\n"
     ]
    },
    {
     "name": "stdout",
     "output_type": "stream",
     "text": [
      "The parameter 'max_depth' in trial#177 is sampled independently instead of being sampled by multivariate TPE sampler. (optimization performance may be degraded). You can suppress this warning by setting `warn_independent_sampling` to `False` in the constructor of `TPESampler`, if this independent sampling is intended behavior.\n"
     ]
    },
    {
     "name": "stderr",
     "output_type": "stream",
     "text": [
      "\u001b[33m[W 2022-05-05 03:32:17,743]\u001b[0m The parameter 'eta' in trial#177 is sampled independently instead of being sampled by multivariate TPE sampler. (optimization performance may be degraded). You can suppress this warning by setting `warn_independent_sampling` to `False` in the constructor of `TPESampler`, if this independent sampling is intended behavior.\u001b[0m\n"
     ]
    },
    {
     "name": "stdout",
     "output_type": "stream",
     "text": [
      "The parameter 'eta' in trial#177 is sampled independently instead of being sampled by multivariate TPE sampler. (optimization performance may be degraded). You can suppress this warning by setting `warn_independent_sampling` to `False` in the constructor of `TPESampler`, if this independent sampling is intended behavior.\n"
     ]
    },
    {
     "name": "stderr",
     "output_type": "stream",
     "text": [
      "\u001b[33m[W 2022-05-05 03:32:17,806]\u001b[0m The parameter 'gamma' in trial#177 is sampled independently instead of being sampled by multivariate TPE sampler. (optimization performance may be degraded). You can suppress this warning by setting `warn_independent_sampling` to `False` in the constructor of `TPESampler`, if this independent sampling is intended behavior.\u001b[0m\n"
     ]
    },
    {
     "name": "stdout",
     "output_type": "stream",
     "text": [
      "The parameter 'gamma' in trial#177 is sampled independently instead of being sampled by multivariate TPE sampler. (optimization performance may be degraded). You can suppress this warning by setting `warn_independent_sampling` to `False` in the constructor of `TPESampler`, if this independent sampling is intended behavior.\n"
     ]
    },
    {
     "name": "stderr",
     "output_type": "stream",
     "text": [
      "\u001b[33m[W 2022-05-05 03:32:17,872]\u001b[0m The parameter 'grow_policy' in trial#177 is sampled independently instead of being sampled by multivariate TPE sampler. (optimization performance may be degraded). You can suppress this warning by setting `warn_independent_sampling` to `False` in the constructor of `TPESampler`, if this independent sampling is intended behavior.\u001b[0m\n"
     ]
    },
    {
     "name": "stdout",
     "output_type": "stream",
     "text": [
      "The parameter 'grow_policy' in trial#177 is sampled independently instead of being sampled by multivariate TPE sampler. (optimization performance may be degraded). You can suppress this warning by setting `warn_independent_sampling` to `False` in the constructor of `TPESampler`, if this independent sampling is intended behavior.\n"
     ]
    },
    {
     "name": "stderr",
     "output_type": "stream",
     "text": [
      "\u001b[33m[W 2022-05-05 03:32:17,926]\u001b[0m The parameter 'sample_type' in trial#177 is sampled independently instead of being sampled by multivariate TPE sampler. (optimization performance may be degraded). You can suppress this warning by setting `warn_independent_sampling` to `False` in the constructor of `TPESampler`, if this independent sampling is intended behavior.\u001b[0m\n"
     ]
    },
    {
     "name": "stdout",
     "output_type": "stream",
     "text": [
      "The parameter 'sample_type' in trial#177 is sampled independently instead of being sampled by multivariate TPE sampler. (optimization performance may be degraded). You can suppress this warning by setting `warn_independent_sampling` to `False` in the constructor of `TPESampler`, if this independent sampling is intended behavior.\n"
     ]
    },
    {
     "name": "stderr",
     "output_type": "stream",
     "text": [
      "\u001b[33m[W 2022-05-05 03:32:17,983]\u001b[0m The parameter 'normalize_type' in trial#177 is sampled independently instead of being sampled by multivariate TPE sampler. (optimization performance may be degraded). You can suppress this warning by setting `warn_independent_sampling` to `False` in the constructor of `TPESampler`, if this independent sampling is intended behavior.\u001b[0m\n"
     ]
    },
    {
     "name": "stdout",
     "output_type": "stream",
     "text": [
      "The parameter 'normalize_type' in trial#177 is sampled independently instead of being sampled by multivariate TPE sampler. (optimization performance may be degraded). You can suppress this warning by setting `warn_independent_sampling` to `False` in the constructor of `TPESampler`, if this independent sampling is intended behavior.\n"
     ]
    },
    {
     "name": "stderr",
     "output_type": "stream",
     "text": [
      "\u001b[33m[W 2022-05-05 03:32:18,033]\u001b[0m The parameter 'rate_drop' in trial#177 is sampled independently instead of being sampled by multivariate TPE sampler. (optimization performance may be degraded). You can suppress this warning by setting `warn_independent_sampling` to `False` in the constructor of `TPESampler`, if this independent sampling is intended behavior.\u001b[0m\n"
     ]
    },
    {
     "name": "stdout",
     "output_type": "stream",
     "text": [
      "The parameter 'rate_drop' in trial#177 is sampled independently instead of being sampled by multivariate TPE sampler. (optimization performance may be degraded). You can suppress this warning by setting `warn_independent_sampling` to `False` in the constructor of `TPESampler`, if this independent sampling is intended behavior.\n"
     ]
    },
    {
     "name": "stderr",
     "output_type": "stream",
     "text": [
      "\u001b[33m[W 2022-05-05 03:32:18,129]\u001b[0m The parameter 'skip_drop' in trial#177 is sampled independently instead of being sampled by multivariate TPE sampler. (optimization performance may be degraded). You can suppress this warning by setting `warn_independent_sampling` to `False` in the constructor of `TPESampler`, if this independent sampling is intended behavior.\u001b[0m\n"
     ]
    },
    {
     "name": "stdout",
     "output_type": "stream",
     "text": [
      "The parameter 'skip_drop' in trial#177 is sampled independently instead of being sampled by multivariate TPE sampler. (optimization performance may be degraded). You can suppress this warning by setting `warn_independent_sampling` to `False` in the constructor of `TPESampler`, if this independent sampling is intended behavior.\n",
      "\n",
      "===== TRIAL #177 =====\n",
      "Fingerprint: RDKit2D\n",
      "Booster: dart\n",
      "Lambda: 1.913450544974986e-08\n",
      "Alpha: 0.00011252559369582911\n"
     ]
    },
    {
     "name": "stderr",
     "output_type": "stream",
     "text": [
      "\u001b[32m[I 2022-05-05 03:36:39,408]\u001b[0m Trial 177 finished with value: 0.8783895801380049 and parameters: {'mol_dst': 'RDKit2D', 'booster': 'dart', 'lambda': 1.913450544974986e-08, 'alpha': 0.00011252559369582911, 'max_depth': 5, 'eta': 0.007600391897101455, 'gamma': 1.5484995266759435e-05, 'grow_policy': 'lossguide', 'sample_type': 'weighted', 'normalize_type': 'forest', 'rate_drop': 1.4583905802302118e-08, 'skip_drop': 0.17958242231236907}. Best is trial 153 with value: 0.919911132859976.\u001b[0m\n"
     ]
    },
    {
     "name": "stdout",
     "output_type": "stream",
     "text": [
      "Trial 177 finished with value: 0.8783895801380049 and parameters: {'mol_dst': 'RDKit2D', 'booster': 'dart', 'lambda': 1.913450544974986e-08, 'alpha': 0.00011252559369582911, 'max_depth': 5, 'eta': 0.007600391897101455, 'gamma': 1.5484995266759435e-05, 'grow_policy': 'lossguide', 'sample_type': 'weighted', 'normalize_type': 'forest', 'rate_drop': 1.4583905802302118e-08, 'skip_drop': 0.17958242231236907}. Best is trial 153 with value: 0.919911132859976.\n"
     ]
    },
    {
     "name": "stderr",
     "output_type": "stream",
     "text": [
      "\u001b[33m[W 2022-05-05 03:36:39,813]\u001b[0m The parameter 'max_depth' in trial#178 is sampled independently instead of being sampled by multivariate TPE sampler. (optimization performance may be degraded). You can suppress this warning by setting `warn_independent_sampling` to `False` in the constructor of `TPESampler`, if this independent sampling is intended behavior.\u001b[0m\n"
     ]
    },
    {
     "name": "stdout",
     "output_type": "stream",
     "text": [
      "The parameter 'max_depth' in trial#178 is sampled independently instead of being sampled by multivariate TPE sampler. (optimization performance may be degraded). You can suppress this warning by setting `warn_independent_sampling` to `False` in the constructor of `TPESampler`, if this independent sampling is intended behavior.\n"
     ]
    },
    {
     "name": "stderr",
     "output_type": "stream",
     "text": [
      "\u001b[33m[W 2022-05-05 03:36:39,876]\u001b[0m The parameter 'eta' in trial#178 is sampled independently instead of being sampled by multivariate TPE sampler. (optimization performance may be degraded). You can suppress this warning by setting `warn_independent_sampling` to `False` in the constructor of `TPESampler`, if this independent sampling is intended behavior.\u001b[0m\n"
     ]
    },
    {
     "name": "stdout",
     "output_type": "stream",
     "text": [
      "The parameter 'eta' in trial#178 is sampled independently instead of being sampled by multivariate TPE sampler. (optimization performance may be degraded). You can suppress this warning by setting `warn_independent_sampling` to `False` in the constructor of `TPESampler`, if this independent sampling is intended behavior.\n"
     ]
    },
    {
     "name": "stderr",
     "output_type": "stream",
     "text": [
      "\u001b[33m[W 2022-05-05 03:36:39,962]\u001b[0m The parameter 'gamma' in trial#178 is sampled independently instead of being sampled by multivariate TPE sampler. (optimization performance may be degraded). You can suppress this warning by setting `warn_independent_sampling` to `False` in the constructor of `TPESampler`, if this independent sampling is intended behavior.\u001b[0m\n"
     ]
    },
    {
     "name": "stdout",
     "output_type": "stream",
     "text": [
      "The parameter 'gamma' in trial#178 is sampled independently instead of being sampled by multivariate TPE sampler. (optimization performance may be degraded). You can suppress this warning by setting `warn_independent_sampling` to `False` in the constructor of `TPESampler`, if this independent sampling is intended behavior.\n"
     ]
    },
    {
     "name": "stderr",
     "output_type": "stream",
     "text": [
      "\u001b[33m[W 2022-05-05 03:36:40,032]\u001b[0m The parameter 'grow_policy' in trial#178 is sampled independently instead of being sampled by multivariate TPE sampler. (optimization performance may be degraded). You can suppress this warning by setting `warn_independent_sampling` to `False` in the constructor of `TPESampler`, if this independent sampling is intended behavior.\u001b[0m\n"
     ]
    },
    {
     "name": "stdout",
     "output_type": "stream",
     "text": [
      "The parameter 'grow_policy' in trial#178 is sampled independently instead of being sampled by multivariate TPE sampler. (optimization performance may be degraded). You can suppress this warning by setting `warn_independent_sampling` to `False` in the constructor of `TPESampler`, if this independent sampling is intended behavior.\n",
      "\n",
      "===== TRIAL #178 =====\n",
      "Fingerprint: RDKit2D\n",
      "Booster: gbtree\n",
      "Lambda: 0.8489999661592541\n",
      "Alpha: 0.011123792011477595\n"
     ]
    },
    {
     "name": "stderr",
     "output_type": "stream",
     "text": [
      "\u001b[32m[I 2022-05-05 03:40:16,429]\u001b[0m Trial 178 finished with value: 0.9156313606965597 and parameters: {'mol_dst': 'RDKit2D', 'booster': 'gbtree', 'lambda': 0.8489999661592541, 'alpha': 0.011123792011477595, 'max_depth': 6, 'eta': 0.19682903812932687, 'gamma': 0.00017261612179793692, 'grow_policy': 'lossguide'}. Best is trial 153 with value: 0.919911132859976.\u001b[0m\n"
     ]
    },
    {
     "name": "stdout",
     "output_type": "stream",
     "text": [
      "Trial 178 finished with value: 0.9156313606965597 and parameters: {'mol_dst': 'RDKit2D', 'booster': 'gbtree', 'lambda': 0.8489999661592541, 'alpha': 0.011123792011477595, 'max_depth': 6, 'eta': 0.19682903812932687, 'gamma': 0.00017261612179793692, 'grow_policy': 'lossguide'}. Best is trial 153 with value: 0.919911132859976.\n"
     ]
    },
    {
     "name": "stderr",
     "output_type": "stream",
     "text": [
      "\u001b[33m[W 2022-05-05 03:40:16,831]\u001b[0m The parameter 'max_depth' in trial#179 is sampled independently instead of being sampled by multivariate TPE sampler. (optimization performance may be degraded). You can suppress this warning by setting `warn_independent_sampling` to `False` in the constructor of `TPESampler`, if this independent sampling is intended behavior.\u001b[0m\n"
     ]
    },
    {
     "name": "stdout",
     "output_type": "stream",
     "text": [
      "The parameter 'max_depth' in trial#179 is sampled independently instead of being sampled by multivariate TPE sampler. (optimization performance may be degraded). You can suppress this warning by setting `warn_independent_sampling` to `False` in the constructor of `TPESampler`, if this independent sampling is intended behavior.\n"
     ]
    },
    {
     "name": "stderr",
     "output_type": "stream",
     "text": [
      "\u001b[33m[W 2022-05-05 03:40:16,890]\u001b[0m The parameter 'eta' in trial#179 is sampled independently instead of being sampled by multivariate TPE sampler. (optimization performance may be degraded). You can suppress this warning by setting `warn_independent_sampling` to `False` in the constructor of `TPESampler`, if this independent sampling is intended behavior.\u001b[0m\n"
     ]
    },
    {
     "name": "stdout",
     "output_type": "stream",
     "text": [
      "The parameter 'eta' in trial#179 is sampled independently instead of being sampled by multivariate TPE sampler. (optimization performance may be degraded). You can suppress this warning by setting `warn_independent_sampling` to `False` in the constructor of `TPESampler`, if this independent sampling is intended behavior.\n"
     ]
    },
    {
     "name": "stderr",
     "output_type": "stream",
     "text": [
      "\u001b[33m[W 2022-05-05 03:40:16,956]\u001b[0m The parameter 'gamma' in trial#179 is sampled independently instead of being sampled by multivariate TPE sampler. (optimization performance may be degraded). You can suppress this warning by setting `warn_independent_sampling` to `False` in the constructor of `TPESampler`, if this independent sampling is intended behavior.\u001b[0m\n"
     ]
    },
    {
     "name": "stdout",
     "output_type": "stream",
     "text": [
      "The parameter 'gamma' in trial#179 is sampled independently instead of being sampled by multivariate TPE sampler. (optimization performance may be degraded). You can suppress this warning by setting `warn_independent_sampling` to `False` in the constructor of `TPESampler`, if this independent sampling is intended behavior.\n"
     ]
    },
    {
     "name": "stderr",
     "output_type": "stream",
     "text": [
      "\u001b[33m[W 2022-05-05 03:40:17,017]\u001b[0m The parameter 'grow_policy' in trial#179 is sampled independently instead of being sampled by multivariate TPE sampler. (optimization performance may be degraded). You can suppress this warning by setting `warn_independent_sampling` to `False` in the constructor of `TPESampler`, if this independent sampling is intended behavior.\u001b[0m\n"
     ]
    },
    {
     "name": "stdout",
     "output_type": "stream",
     "text": [
      "The parameter 'grow_policy' in trial#179 is sampled independently instead of being sampled by multivariate TPE sampler. (optimization performance may be degraded). You can suppress this warning by setting `warn_independent_sampling` to `False` in the constructor of `TPESampler`, if this independent sampling is intended behavior.\n",
      "\n",
      "===== TRIAL #179 =====\n",
      "Fingerprint: RDKit2D\n",
      "Booster: gbtree\n",
      "Lambda: 0.0007008066301524346\n",
      "Alpha: 0.6550364355067708\n"
     ]
    },
    {
     "name": "stderr",
     "output_type": "stream",
     "text": [
      "\u001b[32m[I 2022-05-05 03:43:42,565]\u001b[0m Trial 179 finished with value: 0.9142024096713062 and parameters: {'mol_dst': 'RDKit2D', 'booster': 'gbtree', 'lambda': 0.0007008066301524346, 'alpha': 0.6550364355067708, 'max_depth': 8, 'eta': 0.029586716266161408, 'gamma': 0.0002022026098585008, 'grow_policy': 'lossguide'}. Best is trial 153 with value: 0.919911132859976.\u001b[0m\n"
     ]
    },
    {
     "name": "stdout",
     "output_type": "stream",
     "text": [
      "Trial 179 finished with value: 0.9142024096713062 and parameters: {'mol_dst': 'RDKit2D', 'booster': 'gbtree', 'lambda': 0.0007008066301524346, 'alpha': 0.6550364355067708, 'max_depth': 8, 'eta': 0.029586716266161408, 'gamma': 0.0002022026098585008, 'grow_policy': 'lossguide'}. Best is trial 153 with value: 0.919911132859976.\n",
      "\n",
      "===== TRIAL #180 =====\n",
      "Fingerprint: MACCS\n",
      "Booster: gblinear\n",
      "Lambda: 0.23570077078676016\n",
      "Alpha: 0.16495195907016763\n"
     ]
    },
    {
     "name": "stderr",
     "output_type": "stream",
     "text": [
      "\u001b[32m[I 2022-05-05 03:43:54,936]\u001b[0m Trial 180 finished with value: 0.5 and parameters: {'mol_dst': 'MACCS', 'booster': 'gblinear', 'lambda': 0.23570077078676016, 'alpha': 0.16495195907016763}. Best is trial 153 with value: 0.919911132859976.\u001b[0m\n"
     ]
    },
    {
     "name": "stdout",
     "output_type": "stream",
     "text": [
      "Trial 180 finished with value: 0.5 and parameters: {'mol_dst': 'MACCS', 'booster': 'gblinear', 'lambda': 0.23570077078676016, 'alpha': 0.16495195907016763}. Best is trial 153 with value: 0.919911132859976.\n"
     ]
    },
    {
     "name": "stderr",
     "output_type": "stream",
     "text": [
      "\u001b[33m[W 2022-05-05 03:43:55,342]\u001b[0m The parameter 'max_depth' in trial#181 is sampled independently instead of being sampled by multivariate TPE sampler. (optimization performance may be degraded). You can suppress this warning by setting `warn_independent_sampling` to `False` in the constructor of `TPESampler`, if this independent sampling is intended behavior.\u001b[0m\n"
     ]
    },
    {
     "name": "stdout",
     "output_type": "stream",
     "text": [
      "The parameter 'max_depth' in trial#181 is sampled independently instead of being sampled by multivariate TPE sampler. (optimization performance may be degraded). You can suppress this warning by setting `warn_independent_sampling` to `False` in the constructor of `TPESampler`, if this independent sampling is intended behavior.\n"
     ]
    },
    {
     "name": "stderr",
     "output_type": "stream",
     "text": [
      "\u001b[33m[W 2022-05-05 03:43:55,401]\u001b[0m The parameter 'eta' in trial#181 is sampled independently instead of being sampled by multivariate TPE sampler. (optimization performance may be degraded). You can suppress this warning by setting `warn_independent_sampling` to `False` in the constructor of `TPESampler`, if this independent sampling is intended behavior.\u001b[0m\n"
     ]
    },
    {
     "name": "stdout",
     "output_type": "stream",
     "text": [
      "The parameter 'eta' in trial#181 is sampled independently instead of being sampled by multivariate TPE sampler. (optimization performance may be degraded). You can suppress this warning by setting `warn_independent_sampling` to `False` in the constructor of `TPESampler`, if this independent sampling is intended behavior.\n"
     ]
    },
    {
     "name": "stderr",
     "output_type": "stream",
     "text": [
      "\u001b[33m[W 2022-05-05 03:43:55,464]\u001b[0m The parameter 'gamma' in trial#181 is sampled independently instead of being sampled by multivariate TPE sampler. (optimization performance may be degraded). You can suppress this warning by setting `warn_independent_sampling` to `False` in the constructor of `TPESampler`, if this independent sampling is intended behavior.\u001b[0m\n"
     ]
    },
    {
     "name": "stdout",
     "output_type": "stream",
     "text": [
      "The parameter 'gamma' in trial#181 is sampled independently instead of being sampled by multivariate TPE sampler. (optimization performance may be degraded). You can suppress this warning by setting `warn_independent_sampling` to `False` in the constructor of `TPESampler`, if this independent sampling is intended behavior.\n"
     ]
    },
    {
     "name": "stderr",
     "output_type": "stream",
     "text": [
      "\u001b[33m[W 2022-05-05 03:43:55,535]\u001b[0m The parameter 'grow_policy' in trial#181 is sampled independently instead of being sampled by multivariate TPE sampler. (optimization performance may be degraded). You can suppress this warning by setting `warn_independent_sampling` to `False` in the constructor of `TPESampler`, if this independent sampling is intended behavior.\u001b[0m\n"
     ]
    },
    {
     "name": "stdout",
     "output_type": "stream",
     "text": [
      "The parameter 'grow_policy' in trial#181 is sampled independently instead of being sampled by multivariate TPE sampler. (optimization performance may be degraded). You can suppress this warning by setting `warn_independent_sampling` to `False` in the constructor of `TPESampler`, if this independent sampling is intended behavior.\n",
      "\n",
      "===== TRIAL #181 =====\n",
      "Fingerprint: RDKit2D\n",
      "Booster: gbtree\n",
      "Lambda: 2.9400820343074516e-05\n",
      "Alpha: 0.26748883232189524\n"
     ]
    },
    {
     "name": "stderr",
     "output_type": "stream",
     "text": [
      "\u001b[32m[I 2022-05-05 03:47:34,931]\u001b[0m Trial 181 finished with value: 0.9064743346150866 and parameters: {'mol_dst': 'RDKit2D', 'booster': 'gbtree', 'lambda': 2.9400820343074516e-05, 'alpha': 0.26748883232189524, 'max_depth': 7, 'eta': 0.016614592699946747, 'gamma': 0.3343029055691571, 'grow_policy': 'lossguide'}. Best is trial 153 with value: 0.919911132859976.\u001b[0m\n"
     ]
    },
    {
     "name": "stdout",
     "output_type": "stream",
     "text": [
      "Trial 181 finished with value: 0.9064743346150866 and parameters: {'mol_dst': 'RDKit2D', 'booster': 'gbtree', 'lambda': 2.9400820343074516e-05, 'alpha': 0.26748883232189524, 'max_depth': 7, 'eta': 0.016614592699946747, 'gamma': 0.3343029055691571, 'grow_policy': 'lossguide'}. Best is trial 153 with value: 0.919911132859976.\n",
      "\n",
      "===== TRIAL #182 =====\n",
      "Fingerprint: RDKit2D\n",
      "Booster: gblinear\n",
      "Lambda: 0.15356964567154535\n",
      "Alpha: 0.3093241487750715\n"
     ]
    },
    {
     "name": "stderr",
     "output_type": "stream",
     "text": [
      "\u001b[32m[I 2022-05-05 03:50:53,606]\u001b[0m Trial 182 finished with value: 0.5 and parameters: {'mol_dst': 'RDKit2D', 'booster': 'gblinear', 'lambda': 0.15356964567154535, 'alpha': 0.3093241487750715}. Best is trial 153 with value: 0.919911132859976.\u001b[0m\n"
     ]
    },
    {
     "name": "stdout",
     "output_type": "stream",
     "text": [
      "Trial 182 finished with value: 0.5 and parameters: {'mol_dst': 'RDKit2D', 'booster': 'gblinear', 'lambda': 0.15356964567154535, 'alpha': 0.3093241487750715}. Best is trial 153 with value: 0.919911132859976.\n"
     ]
    },
    {
     "name": "stderr",
     "output_type": "stream",
     "text": [
      "\u001b[33m[W 2022-05-05 03:50:54,073]\u001b[0m The parameter 'max_depth' in trial#183 is sampled independently instead of being sampled by multivariate TPE sampler. (optimization performance may be degraded). You can suppress this warning by setting `warn_independent_sampling` to `False` in the constructor of `TPESampler`, if this independent sampling is intended behavior.\u001b[0m\n"
     ]
    },
    {
     "name": "stdout",
     "output_type": "stream",
     "text": [
      "The parameter 'max_depth' in trial#183 is sampled independently instead of being sampled by multivariate TPE sampler. (optimization performance may be degraded). You can suppress this warning by setting `warn_independent_sampling` to `False` in the constructor of `TPESampler`, if this independent sampling is intended behavior.\n"
     ]
    },
    {
     "name": "stderr",
     "output_type": "stream",
     "text": [
      "\u001b[33m[W 2022-05-05 03:50:54,133]\u001b[0m The parameter 'eta' in trial#183 is sampled independently instead of being sampled by multivariate TPE sampler. (optimization performance may be degraded). You can suppress this warning by setting `warn_independent_sampling` to `False` in the constructor of `TPESampler`, if this independent sampling is intended behavior.\u001b[0m\n"
     ]
    },
    {
     "name": "stdout",
     "output_type": "stream",
     "text": [
      "The parameter 'eta' in trial#183 is sampled independently instead of being sampled by multivariate TPE sampler. (optimization performance may be degraded). You can suppress this warning by setting `warn_independent_sampling` to `False` in the constructor of `TPESampler`, if this independent sampling is intended behavior.\n"
     ]
    },
    {
     "name": "stderr",
     "output_type": "stream",
     "text": [
      "\u001b[33m[W 2022-05-05 03:50:54,195]\u001b[0m The parameter 'gamma' in trial#183 is sampled independently instead of being sampled by multivariate TPE sampler. (optimization performance may be degraded). You can suppress this warning by setting `warn_independent_sampling` to `False` in the constructor of `TPESampler`, if this independent sampling is intended behavior.\u001b[0m\n"
     ]
    },
    {
     "name": "stdout",
     "output_type": "stream",
     "text": [
      "The parameter 'gamma' in trial#183 is sampled independently instead of being sampled by multivariate TPE sampler. (optimization performance may be degraded). You can suppress this warning by setting `warn_independent_sampling` to `False` in the constructor of `TPESampler`, if this independent sampling is intended behavior.\n"
     ]
    },
    {
     "name": "stderr",
     "output_type": "stream",
     "text": [
      "\u001b[33m[W 2022-05-05 03:50:54,262]\u001b[0m The parameter 'grow_policy' in trial#183 is sampled independently instead of being sampled by multivariate TPE sampler. (optimization performance may be degraded). You can suppress this warning by setting `warn_independent_sampling` to `False` in the constructor of `TPESampler`, if this independent sampling is intended behavior.\u001b[0m\n"
     ]
    },
    {
     "name": "stdout",
     "output_type": "stream",
     "text": [
      "The parameter 'grow_policy' in trial#183 is sampled independently instead of being sampled by multivariate TPE sampler. (optimization performance may be degraded). You can suppress this warning by setting `warn_independent_sampling` to `False` in the constructor of `TPESampler`, if this independent sampling is intended behavior.\n",
      "\n",
      "===== TRIAL #183 =====\n",
      "Fingerprint: ECFP4\n",
      "Booster: gbtree\n",
      "Lambda: 0.00041635396039597786\n",
      "Alpha: 0.41089874066160703\n"
     ]
    },
    {
     "name": "stderr",
     "output_type": "stream",
     "text": [
      "\u001b[32m[I 2022-05-05 03:51:55,956]\u001b[0m Trial 183 finished with value: 0.9090377455828937 and parameters: {'mol_dst': 'ECFP4', 'booster': 'gbtree', 'lambda': 0.00041635396039597786, 'alpha': 0.41089874066160703, 'max_depth': 7, 'eta': 0.08698436446434642, 'gamma': 2.264063213486782e-07, 'grow_policy': 'lossguide'}. Best is trial 153 with value: 0.919911132859976.\u001b[0m\n"
     ]
    },
    {
     "name": "stdout",
     "output_type": "stream",
     "text": [
      "Trial 183 finished with value: 0.9090377455828937 and parameters: {'mol_dst': 'ECFP4', 'booster': 'gbtree', 'lambda': 0.00041635396039597786, 'alpha': 0.41089874066160703, 'max_depth': 7, 'eta': 0.08698436446434642, 'gamma': 2.264063213486782e-07, 'grow_policy': 'lossguide'}. Best is trial 153 with value: 0.919911132859976.\n"
     ]
    },
    {
     "name": "stderr",
     "output_type": "stream",
     "text": [
      "\u001b[33m[W 2022-05-05 03:51:56,360]\u001b[0m The parameter 'max_depth' in trial#184 is sampled independently instead of being sampled by multivariate TPE sampler. (optimization performance may be degraded). You can suppress this warning by setting `warn_independent_sampling` to `False` in the constructor of `TPESampler`, if this independent sampling is intended behavior.\u001b[0m\n"
     ]
    },
    {
     "name": "stdout",
     "output_type": "stream",
     "text": [
      "The parameter 'max_depth' in trial#184 is sampled independently instead of being sampled by multivariate TPE sampler. (optimization performance may be degraded). You can suppress this warning by setting `warn_independent_sampling` to `False` in the constructor of `TPESampler`, if this independent sampling is intended behavior.\n"
     ]
    },
    {
     "name": "stderr",
     "output_type": "stream",
     "text": [
      "\u001b[33m[W 2022-05-05 03:51:56,424]\u001b[0m The parameter 'eta' in trial#184 is sampled independently instead of being sampled by multivariate TPE sampler. (optimization performance may be degraded). You can suppress this warning by setting `warn_independent_sampling` to `False` in the constructor of `TPESampler`, if this independent sampling is intended behavior.\u001b[0m\n"
     ]
    },
    {
     "name": "stdout",
     "output_type": "stream",
     "text": [
      "The parameter 'eta' in trial#184 is sampled independently instead of being sampled by multivariate TPE sampler. (optimization performance may be degraded). You can suppress this warning by setting `warn_independent_sampling` to `False` in the constructor of `TPESampler`, if this independent sampling is intended behavior.\n"
     ]
    },
    {
     "name": "stderr",
     "output_type": "stream",
     "text": [
      "\u001b[33m[W 2022-05-05 03:51:56,489]\u001b[0m The parameter 'gamma' in trial#184 is sampled independently instead of being sampled by multivariate TPE sampler. (optimization performance may be degraded). You can suppress this warning by setting `warn_independent_sampling` to `False` in the constructor of `TPESampler`, if this independent sampling is intended behavior.\u001b[0m\n"
     ]
    },
    {
     "name": "stdout",
     "output_type": "stream",
     "text": [
      "The parameter 'gamma' in trial#184 is sampled independently instead of being sampled by multivariate TPE sampler. (optimization performance may be degraded). You can suppress this warning by setting `warn_independent_sampling` to `False` in the constructor of `TPESampler`, if this independent sampling is intended behavior.\n"
     ]
    },
    {
     "name": "stderr",
     "output_type": "stream",
     "text": [
      "\u001b[33m[W 2022-05-05 03:51:56,566]\u001b[0m The parameter 'grow_policy' in trial#184 is sampled independently instead of being sampled by multivariate TPE sampler. (optimization performance may be degraded). You can suppress this warning by setting `warn_independent_sampling` to `False` in the constructor of `TPESampler`, if this independent sampling is intended behavior.\u001b[0m\n"
     ]
    },
    {
     "name": "stdout",
     "output_type": "stream",
     "text": [
      "The parameter 'grow_policy' in trial#184 is sampled independently instead of being sampled by multivariate TPE sampler. (optimization performance may be degraded). You can suppress this warning by setting `warn_independent_sampling` to `False` in the constructor of `TPESampler`, if this independent sampling is intended behavior.\n",
      "\n",
      "===== TRIAL #184 =====\n",
      "Fingerprint: RDKit2D\n",
      "Booster: gbtree\n",
      "Lambda: 0.0003885930539241691\n",
      "Alpha: 0.00542152649906708\n"
     ]
    },
    {
     "name": "stderr",
     "output_type": "stream",
     "text": [
      "\u001b[32m[I 2022-05-05 03:55:31,821]\u001b[0m Trial 184 finished with value: 0.9107085292761099 and parameters: {'mol_dst': 'RDKit2D', 'booster': 'gbtree', 'lambda': 0.0003885930539241691, 'alpha': 0.00542152649906708, 'max_depth': 7, 'eta': 0.029443685881533982, 'gamma': 1.0300719678668721e-05, 'grow_policy': 'lossguide'}. Best is trial 153 with value: 0.919911132859976.\u001b[0m\n"
     ]
    },
    {
     "name": "stdout",
     "output_type": "stream",
     "text": [
      "Trial 184 finished with value: 0.9107085292761099 and parameters: {'mol_dst': 'RDKit2D', 'booster': 'gbtree', 'lambda': 0.0003885930539241691, 'alpha': 0.00542152649906708, 'max_depth': 7, 'eta': 0.029443685881533982, 'gamma': 1.0300719678668721e-05, 'grow_policy': 'lossguide'}. Best is trial 153 with value: 0.919911132859976.\n"
     ]
    },
    {
     "name": "stderr",
     "output_type": "stream",
     "text": [
      "\u001b[33m[W 2022-05-05 03:55:32,242]\u001b[0m The parameter 'max_depth' in trial#185 is sampled independently instead of being sampled by multivariate TPE sampler. (optimization performance may be degraded). You can suppress this warning by setting `warn_independent_sampling` to `False` in the constructor of `TPESampler`, if this independent sampling is intended behavior.\u001b[0m\n"
     ]
    },
    {
     "name": "stdout",
     "output_type": "stream",
     "text": [
      "The parameter 'max_depth' in trial#185 is sampled independently instead of being sampled by multivariate TPE sampler. (optimization performance may be degraded). You can suppress this warning by setting `warn_independent_sampling` to `False` in the constructor of `TPESampler`, if this independent sampling is intended behavior.\n"
     ]
    },
    {
     "name": "stderr",
     "output_type": "stream",
     "text": [
      "\u001b[33m[W 2022-05-05 03:55:32,303]\u001b[0m The parameter 'eta' in trial#185 is sampled independently instead of being sampled by multivariate TPE sampler. (optimization performance may be degraded). You can suppress this warning by setting `warn_independent_sampling` to `False` in the constructor of `TPESampler`, if this independent sampling is intended behavior.\u001b[0m\n"
     ]
    },
    {
     "name": "stdout",
     "output_type": "stream",
     "text": [
      "The parameter 'eta' in trial#185 is sampled independently instead of being sampled by multivariate TPE sampler. (optimization performance may be degraded). You can suppress this warning by setting `warn_independent_sampling` to `False` in the constructor of `TPESampler`, if this independent sampling is intended behavior.\n"
     ]
    },
    {
     "name": "stderr",
     "output_type": "stream",
     "text": [
      "\u001b[33m[W 2022-05-05 03:55:32,367]\u001b[0m The parameter 'gamma' in trial#185 is sampled independently instead of being sampled by multivariate TPE sampler. (optimization performance may be degraded). You can suppress this warning by setting `warn_independent_sampling` to `False` in the constructor of `TPESampler`, if this independent sampling is intended behavior.\u001b[0m\n"
     ]
    },
    {
     "name": "stdout",
     "output_type": "stream",
     "text": [
      "The parameter 'gamma' in trial#185 is sampled independently instead of being sampled by multivariate TPE sampler. (optimization performance may be degraded). You can suppress this warning by setting `warn_independent_sampling` to `False` in the constructor of `TPESampler`, if this independent sampling is intended behavior.\n"
     ]
    },
    {
     "name": "stderr",
     "output_type": "stream",
     "text": [
      "\u001b[33m[W 2022-05-05 03:55:32,432]\u001b[0m The parameter 'grow_policy' in trial#185 is sampled independently instead of being sampled by multivariate TPE sampler. (optimization performance may be degraded). You can suppress this warning by setting `warn_independent_sampling` to `False` in the constructor of `TPESampler`, if this independent sampling is intended behavior.\u001b[0m\n"
     ]
    },
    {
     "name": "stdout",
     "output_type": "stream",
     "text": [
      "The parameter 'grow_policy' in trial#185 is sampled independently instead of being sampled by multivariate TPE sampler. (optimization performance may be degraded). You can suppress this warning by setting `warn_independent_sampling` to `False` in the constructor of `TPESampler`, if this independent sampling is intended behavior.\n",
      "\n",
      "===== TRIAL #185 =====\n",
      "Fingerprint: RDKit2D\n",
      "Booster: gbtree\n",
      "Lambda: 2.6827787154753682e-08\n",
      "Alpha: 1.9920701258167667e-06\n"
     ]
    },
    {
     "name": "stderr",
     "output_type": "stream",
     "text": [
      "\u001b[32m[I 2022-05-05 03:58:52,398]\u001b[0m Trial 185 finished with value: 0.9067229583259907 and parameters: {'mol_dst': 'RDKit2D', 'booster': 'gbtree', 'lambda': 2.6827787154753682e-08, 'alpha': 1.9920701258167667e-06, 'max_depth': 6, 'eta': 0.20142215288278753, 'gamma': 8.575533482547521e-08, 'grow_policy': 'depthwise'}. Best is trial 153 with value: 0.919911132859976.\u001b[0m\n"
     ]
    },
    {
     "name": "stdout",
     "output_type": "stream",
     "text": [
      "Trial 185 finished with value: 0.9067229583259907 and parameters: {'mol_dst': 'RDKit2D', 'booster': 'gbtree', 'lambda': 2.6827787154753682e-08, 'alpha': 1.9920701258167667e-06, 'max_depth': 6, 'eta': 0.20142215288278753, 'gamma': 8.575533482547521e-08, 'grow_policy': 'depthwise'}. Best is trial 153 with value: 0.919911132859976.\n"
     ]
    },
    {
     "name": "stderr",
     "output_type": "stream",
     "text": [
      "\u001b[33m[W 2022-05-05 03:58:52,805]\u001b[0m The parameter 'max_depth' in trial#186 is sampled independently instead of being sampled by multivariate TPE sampler. (optimization performance may be degraded). You can suppress this warning by setting `warn_independent_sampling` to `False` in the constructor of `TPESampler`, if this independent sampling is intended behavior.\u001b[0m\n"
     ]
    },
    {
     "name": "stdout",
     "output_type": "stream",
     "text": [
      "The parameter 'max_depth' in trial#186 is sampled independently instead of being sampled by multivariate TPE sampler. (optimization performance may be degraded). You can suppress this warning by setting `warn_independent_sampling` to `False` in the constructor of `TPESampler`, if this independent sampling is intended behavior.\n"
     ]
    },
    {
     "name": "stderr",
     "output_type": "stream",
     "text": [
      "\u001b[33m[W 2022-05-05 03:58:52,871]\u001b[0m The parameter 'eta' in trial#186 is sampled independently instead of being sampled by multivariate TPE sampler. (optimization performance may be degraded). You can suppress this warning by setting `warn_independent_sampling` to `False` in the constructor of `TPESampler`, if this independent sampling is intended behavior.\u001b[0m\n"
     ]
    },
    {
     "name": "stdout",
     "output_type": "stream",
     "text": [
      "The parameter 'eta' in trial#186 is sampled independently instead of being sampled by multivariate TPE sampler. (optimization performance may be degraded). You can suppress this warning by setting `warn_independent_sampling` to `False` in the constructor of `TPESampler`, if this independent sampling is intended behavior.\n"
     ]
    },
    {
     "name": "stderr",
     "output_type": "stream",
     "text": [
      "\u001b[33m[W 2022-05-05 03:58:52,939]\u001b[0m The parameter 'gamma' in trial#186 is sampled independently instead of being sampled by multivariate TPE sampler. (optimization performance may be degraded). You can suppress this warning by setting `warn_independent_sampling` to `False` in the constructor of `TPESampler`, if this independent sampling is intended behavior.\u001b[0m\n"
     ]
    },
    {
     "name": "stdout",
     "output_type": "stream",
     "text": [
      "The parameter 'gamma' in trial#186 is sampled independently instead of being sampled by multivariate TPE sampler. (optimization performance may be degraded). You can suppress this warning by setting `warn_independent_sampling` to `False` in the constructor of `TPESampler`, if this independent sampling is intended behavior.\n"
     ]
    },
    {
     "name": "stderr",
     "output_type": "stream",
     "text": [
      "\u001b[33m[W 2022-05-05 03:58:53,004]\u001b[0m The parameter 'grow_policy' in trial#186 is sampled independently instead of being sampled by multivariate TPE sampler. (optimization performance may be degraded). You can suppress this warning by setting `warn_independent_sampling` to `False` in the constructor of `TPESampler`, if this independent sampling is intended behavior.\u001b[0m\n"
     ]
    },
    {
     "name": "stdout",
     "output_type": "stream",
     "text": [
      "The parameter 'grow_policy' in trial#186 is sampled independently instead of being sampled by multivariate TPE sampler. (optimization performance may be degraded). You can suppress this warning by setting `warn_independent_sampling` to `False` in the constructor of `TPESampler`, if this independent sampling is intended behavior.\n"
     ]
    },
    {
     "name": "stderr",
     "output_type": "stream",
     "text": [
      "\u001b[33m[W 2022-05-05 03:58:53,063]\u001b[0m The parameter 'sample_type' in trial#186 is sampled independently instead of being sampled by multivariate TPE sampler. (optimization performance may be degraded). You can suppress this warning by setting `warn_independent_sampling` to `False` in the constructor of `TPESampler`, if this independent sampling is intended behavior.\u001b[0m\n"
     ]
    },
    {
     "name": "stdout",
     "output_type": "stream",
     "text": [
      "The parameter 'sample_type' in trial#186 is sampled independently instead of being sampled by multivariate TPE sampler. (optimization performance may be degraded). You can suppress this warning by setting `warn_independent_sampling` to `False` in the constructor of `TPESampler`, if this independent sampling is intended behavior.\n"
     ]
    },
    {
     "name": "stderr",
     "output_type": "stream",
     "text": [
      "\u001b[33m[W 2022-05-05 03:58:53,120]\u001b[0m The parameter 'normalize_type' in trial#186 is sampled independently instead of being sampled by multivariate TPE sampler. (optimization performance may be degraded). You can suppress this warning by setting `warn_independent_sampling` to `False` in the constructor of `TPESampler`, if this independent sampling is intended behavior.\u001b[0m\n"
     ]
    },
    {
     "name": "stdout",
     "output_type": "stream",
     "text": [
      "The parameter 'normalize_type' in trial#186 is sampled independently instead of being sampled by multivariate TPE sampler. (optimization performance may be degraded). You can suppress this warning by setting `warn_independent_sampling` to `False` in the constructor of `TPESampler`, if this independent sampling is intended behavior.\n"
     ]
    },
    {
     "name": "stderr",
     "output_type": "stream",
     "text": [
      "\u001b[33m[W 2022-05-05 03:58:53,175]\u001b[0m The parameter 'rate_drop' in trial#186 is sampled independently instead of being sampled by multivariate TPE sampler. (optimization performance may be degraded). You can suppress this warning by setting `warn_independent_sampling` to `False` in the constructor of `TPESampler`, if this independent sampling is intended behavior.\u001b[0m\n"
     ]
    },
    {
     "name": "stdout",
     "output_type": "stream",
     "text": [
      "The parameter 'rate_drop' in trial#186 is sampled independently instead of being sampled by multivariate TPE sampler. (optimization performance may be degraded). You can suppress this warning by setting `warn_independent_sampling` to `False` in the constructor of `TPESampler`, if this independent sampling is intended behavior.\n"
     ]
    },
    {
     "name": "stderr",
     "output_type": "stream",
     "text": [
      "\u001b[33m[W 2022-05-05 03:58:53,240]\u001b[0m The parameter 'skip_drop' in trial#186 is sampled independently instead of being sampled by multivariate TPE sampler. (optimization performance may be degraded). You can suppress this warning by setting `warn_independent_sampling` to `False` in the constructor of `TPESampler`, if this independent sampling is intended behavior.\u001b[0m\n"
     ]
    },
    {
     "name": "stdout",
     "output_type": "stream",
     "text": [
      "The parameter 'skip_drop' in trial#186 is sampled independently instead of being sampled by multivariate TPE sampler. (optimization performance may be degraded). You can suppress this warning by setting `warn_independent_sampling` to `False` in the constructor of `TPESampler`, if this independent sampling is intended behavior.\n",
      "\n",
      "===== TRIAL #186 =====\n",
      "Fingerprint: RDKit2D\n",
      "Booster: dart\n",
      "Lambda: 1.4333228401488672e-08\n",
      "Alpha: 5.634355387884143e-05\n"
     ]
    },
    {
     "name": "stderr",
     "output_type": "stream",
     "text": [
      "\u001b[32m[I 2022-05-05 04:02:27,916]\u001b[0m Trial 186 finished with value: 0.8117949284464533 and parameters: {'mol_dst': 'RDKit2D', 'booster': 'dart', 'lambda': 1.4333228401488672e-08, 'alpha': 5.634355387884143e-05, 'max_depth': 8, 'eta': 0.0022532292084147722, 'gamma': 0.062210903283526485, 'grow_policy': 'lossguide', 'sample_type': 'weighted', 'normalize_type': 'forest', 'rate_drop': 3.122710549578795e-05, 'skip_drop': 1.0422559942389348e-07}. Best is trial 153 with value: 0.919911132859976.\u001b[0m\n"
     ]
    },
    {
     "name": "stdout",
     "output_type": "stream",
     "text": [
      "Trial 186 finished with value: 0.8117949284464533 and parameters: {'mol_dst': 'RDKit2D', 'booster': 'dart', 'lambda': 1.4333228401488672e-08, 'alpha': 5.634355387884143e-05, 'max_depth': 8, 'eta': 0.0022532292084147722, 'gamma': 0.062210903283526485, 'grow_policy': 'lossguide', 'sample_type': 'weighted', 'normalize_type': 'forest', 'rate_drop': 3.122710549578795e-05, 'skip_drop': 1.0422559942389348e-07}. Best is trial 153 with value: 0.919911132859976.\n"
     ]
    },
    {
     "name": "stderr",
     "output_type": "stream",
     "text": [
      "\u001b[33m[W 2022-05-05 04:02:28,327]\u001b[0m The parameter 'max_depth' in trial#187 is sampled independently instead of being sampled by multivariate TPE sampler. (optimization performance may be degraded). You can suppress this warning by setting `warn_independent_sampling` to `False` in the constructor of `TPESampler`, if this independent sampling is intended behavior.\u001b[0m\n"
     ]
    },
    {
     "name": "stdout",
     "output_type": "stream",
     "text": [
      "The parameter 'max_depth' in trial#187 is sampled independently instead of being sampled by multivariate TPE sampler. (optimization performance may be degraded). You can suppress this warning by setting `warn_independent_sampling` to `False` in the constructor of `TPESampler`, if this independent sampling is intended behavior.\n"
     ]
    },
    {
     "name": "stderr",
     "output_type": "stream",
     "text": [
      "\u001b[33m[W 2022-05-05 04:02:28,394]\u001b[0m The parameter 'eta' in trial#187 is sampled independently instead of being sampled by multivariate TPE sampler. (optimization performance may be degraded). You can suppress this warning by setting `warn_independent_sampling` to `False` in the constructor of `TPESampler`, if this independent sampling is intended behavior.\u001b[0m\n"
     ]
    },
    {
     "name": "stdout",
     "output_type": "stream",
     "text": [
      "The parameter 'eta' in trial#187 is sampled independently instead of being sampled by multivariate TPE sampler. (optimization performance may be degraded). You can suppress this warning by setting `warn_independent_sampling` to `False` in the constructor of `TPESampler`, if this independent sampling is intended behavior.\n"
     ]
    },
    {
     "name": "stderr",
     "output_type": "stream",
     "text": [
      "\u001b[33m[W 2022-05-05 04:02:28,456]\u001b[0m The parameter 'gamma' in trial#187 is sampled independently instead of being sampled by multivariate TPE sampler. (optimization performance may be degraded). You can suppress this warning by setting `warn_independent_sampling` to `False` in the constructor of `TPESampler`, if this independent sampling is intended behavior.\u001b[0m\n"
     ]
    },
    {
     "name": "stdout",
     "output_type": "stream",
     "text": [
      "The parameter 'gamma' in trial#187 is sampled independently instead of being sampled by multivariate TPE sampler. (optimization performance may be degraded). You can suppress this warning by setting `warn_independent_sampling` to `False` in the constructor of `TPESampler`, if this independent sampling is intended behavior.\n"
     ]
    },
    {
     "name": "stderr",
     "output_type": "stream",
     "text": [
      "\u001b[33m[W 2022-05-05 04:02:28,523]\u001b[0m The parameter 'grow_policy' in trial#187 is sampled independently instead of being sampled by multivariate TPE sampler. (optimization performance may be degraded). You can suppress this warning by setting `warn_independent_sampling` to `False` in the constructor of `TPESampler`, if this independent sampling is intended behavior.\u001b[0m\n"
     ]
    },
    {
     "name": "stdout",
     "output_type": "stream",
     "text": [
      "The parameter 'grow_policy' in trial#187 is sampled independently instead of being sampled by multivariate TPE sampler. (optimization performance may be degraded). You can suppress this warning by setting `warn_independent_sampling` to `False` in the constructor of `TPESampler`, if this independent sampling is intended behavior.\n",
      "\n",
      "===== TRIAL #187 =====\n",
      "Fingerprint: RDKit2D\n",
      "Booster: gbtree\n",
      "Lambda: 0.00019197177606628527\n",
      "Alpha: 0.029524707698527816\n"
     ]
    },
    {
     "name": "stderr",
     "output_type": "stream",
     "text": [
      "\u001b[32m[I 2022-05-05 04:05:53,346]\u001b[0m Trial 187 finished with value: 0.8907121668508111 and parameters: {'mol_dst': 'RDKit2D', 'booster': 'gbtree', 'lambda': 0.00019197177606628527, 'alpha': 0.029524707698527816, 'max_depth': 3, 'eta': 0.8656551509185841, 'gamma': 0.0007371439731897763, 'grow_policy': 'depthwise'}. Best is trial 153 with value: 0.919911132859976.\u001b[0m\n"
     ]
    },
    {
     "name": "stdout",
     "output_type": "stream",
     "text": [
      "Trial 187 finished with value: 0.8907121668508111 and parameters: {'mol_dst': 'RDKit2D', 'booster': 'gbtree', 'lambda': 0.00019197177606628527, 'alpha': 0.029524707698527816, 'max_depth': 3, 'eta': 0.8656551509185841, 'gamma': 0.0007371439731897763, 'grow_policy': 'depthwise'}. Best is trial 153 with value: 0.919911132859976.\n"
     ]
    },
    {
     "name": "stderr",
     "output_type": "stream",
     "text": [
      "\u001b[33m[W 2022-05-05 04:05:53,844]\u001b[0m The parameter 'max_depth' in trial#188 is sampled independently instead of being sampled by multivariate TPE sampler. (optimization performance may be degraded). You can suppress this warning by setting `warn_independent_sampling` to `False` in the constructor of `TPESampler`, if this independent sampling is intended behavior.\u001b[0m\n"
     ]
    },
    {
     "name": "stdout",
     "output_type": "stream",
     "text": [
      "The parameter 'max_depth' in trial#188 is sampled independently instead of being sampled by multivariate TPE sampler. (optimization performance may be degraded). You can suppress this warning by setting `warn_independent_sampling` to `False` in the constructor of `TPESampler`, if this independent sampling is intended behavior.\n"
     ]
    },
    {
     "name": "stderr",
     "output_type": "stream",
     "text": [
      "\u001b[33m[W 2022-05-05 04:05:54,007]\u001b[0m The parameter 'eta' in trial#188 is sampled independently instead of being sampled by multivariate TPE sampler. (optimization performance may be degraded). You can suppress this warning by setting `warn_independent_sampling` to `False` in the constructor of `TPESampler`, if this independent sampling is intended behavior.\u001b[0m\n"
     ]
    },
    {
     "name": "stdout",
     "output_type": "stream",
     "text": [
      "The parameter 'eta' in trial#188 is sampled independently instead of being sampled by multivariate TPE sampler. (optimization performance may be degraded). You can suppress this warning by setting `warn_independent_sampling` to `False` in the constructor of `TPESampler`, if this independent sampling is intended behavior.\n"
     ]
    },
    {
     "name": "stderr",
     "output_type": "stream",
     "text": [
      "\u001b[33m[W 2022-05-05 04:05:54,154]\u001b[0m The parameter 'gamma' in trial#188 is sampled independently instead of being sampled by multivariate TPE sampler. (optimization performance may be degraded). You can suppress this warning by setting `warn_independent_sampling` to `False` in the constructor of `TPESampler`, if this independent sampling is intended behavior.\u001b[0m\n"
     ]
    },
    {
     "name": "stdout",
     "output_type": "stream",
     "text": [
      "The parameter 'gamma' in trial#188 is sampled independently instead of being sampled by multivariate TPE sampler. (optimization performance may be degraded). You can suppress this warning by setting `warn_independent_sampling` to `False` in the constructor of `TPESampler`, if this independent sampling is intended behavior.\n"
     ]
    },
    {
     "name": "stderr",
     "output_type": "stream",
     "text": [
      "\u001b[33m[W 2022-05-05 04:05:54,252]\u001b[0m The parameter 'grow_policy' in trial#188 is sampled independently instead of being sampled by multivariate TPE sampler. (optimization performance may be degraded). You can suppress this warning by setting `warn_independent_sampling` to `False` in the constructor of `TPESampler`, if this independent sampling is intended behavior.\u001b[0m\n"
     ]
    },
    {
     "name": "stdout",
     "output_type": "stream",
     "text": [
      "The parameter 'grow_policy' in trial#188 is sampled independently instead of being sampled by multivariate TPE sampler. (optimization performance may be degraded). You can suppress this warning by setting `warn_independent_sampling` to `False` in the constructor of `TPESampler`, if this independent sampling is intended behavior.\n"
     ]
    },
    {
     "name": "stderr",
     "output_type": "stream",
     "text": [
      "\u001b[33m[W 2022-05-05 04:05:54,320]\u001b[0m The parameter 'sample_type' in trial#188 is sampled independently instead of being sampled by multivariate TPE sampler. (optimization performance may be degraded). You can suppress this warning by setting `warn_independent_sampling` to `False` in the constructor of `TPESampler`, if this independent sampling is intended behavior.\u001b[0m\n"
     ]
    },
    {
     "name": "stdout",
     "output_type": "stream",
     "text": [
      "The parameter 'sample_type' in trial#188 is sampled independently instead of being sampled by multivariate TPE sampler. (optimization performance may be degraded). You can suppress this warning by setting `warn_independent_sampling` to `False` in the constructor of `TPESampler`, if this independent sampling is intended behavior.\n"
     ]
    },
    {
     "name": "stderr",
     "output_type": "stream",
     "text": [
      "\u001b[33m[W 2022-05-05 04:05:54,377]\u001b[0m The parameter 'normalize_type' in trial#188 is sampled independently instead of being sampled by multivariate TPE sampler. (optimization performance may be degraded). You can suppress this warning by setting `warn_independent_sampling` to `False` in the constructor of `TPESampler`, if this independent sampling is intended behavior.\u001b[0m\n"
     ]
    },
    {
     "name": "stdout",
     "output_type": "stream",
     "text": [
      "The parameter 'normalize_type' in trial#188 is sampled independently instead of being sampled by multivariate TPE sampler. (optimization performance may be degraded). You can suppress this warning by setting `warn_independent_sampling` to `False` in the constructor of `TPESampler`, if this independent sampling is intended behavior.\n"
     ]
    },
    {
     "name": "stderr",
     "output_type": "stream",
     "text": [
      "\u001b[33m[W 2022-05-05 04:05:54,428]\u001b[0m The parameter 'rate_drop' in trial#188 is sampled independently instead of being sampled by multivariate TPE sampler. (optimization performance may be degraded). You can suppress this warning by setting `warn_independent_sampling` to `False` in the constructor of `TPESampler`, if this independent sampling is intended behavior.\u001b[0m\n"
     ]
    },
    {
     "name": "stdout",
     "output_type": "stream",
     "text": [
      "The parameter 'rate_drop' in trial#188 is sampled independently instead of being sampled by multivariate TPE sampler. (optimization performance may be degraded). You can suppress this warning by setting `warn_independent_sampling` to `False` in the constructor of `TPESampler`, if this independent sampling is intended behavior.\n"
     ]
    },
    {
     "name": "stderr",
     "output_type": "stream",
     "text": [
      "\u001b[33m[W 2022-05-05 04:05:54,508]\u001b[0m The parameter 'skip_drop' in trial#188 is sampled independently instead of being sampled by multivariate TPE sampler. (optimization performance may be degraded). You can suppress this warning by setting `warn_independent_sampling` to `False` in the constructor of `TPESampler`, if this independent sampling is intended behavior.\u001b[0m\n"
     ]
    },
    {
     "name": "stdout",
     "output_type": "stream",
     "text": [
      "The parameter 'skip_drop' in trial#188 is sampled independently instead of being sampled by multivariate TPE sampler. (optimization performance may be degraded). You can suppress this warning by setting `warn_independent_sampling` to `False` in the constructor of `TPESampler`, if this independent sampling is intended behavior.\n",
      "\n",
      "===== TRIAL #188 =====\n",
      "Fingerprint: RDKit2D\n",
      "Booster: dart\n",
      "Lambda: 1.6490999747776928e-06\n",
      "Alpha: 0.00217610892707161\n"
     ]
    },
    {
     "name": "stderr",
     "output_type": "stream",
     "text": [
      "\u001b[32m[I 2022-05-05 04:10:04,416]\u001b[0m Trial 188 finished with value: 0.9143805429289298 and parameters: {'mol_dst': 'RDKit2D', 'booster': 'dart', 'lambda': 1.6490999747776928e-06, 'alpha': 0.00217610892707161, 'max_depth': 6, 'eta': 0.02729978394132587, 'gamma': 1.263175222857909e-07, 'grow_policy': 'depthwise', 'sample_type': 'weighted', 'normalize_type': 'forest', 'rate_drop': 4.058986040102728e-05, 'skip_drop': 1.0082602173974683e-07}. Best is trial 153 with value: 0.919911132859976.\u001b[0m\n"
     ]
    },
    {
     "name": "stdout",
     "output_type": "stream",
     "text": [
      "Trial 188 finished with value: 0.9143805429289298 and parameters: {'mol_dst': 'RDKit2D', 'booster': 'dart', 'lambda': 1.6490999747776928e-06, 'alpha': 0.00217610892707161, 'max_depth': 6, 'eta': 0.02729978394132587, 'gamma': 1.263175222857909e-07, 'grow_policy': 'depthwise', 'sample_type': 'weighted', 'normalize_type': 'forest', 'rate_drop': 4.058986040102728e-05, 'skip_drop': 1.0082602173974683e-07}. Best is trial 153 with value: 0.919911132859976.\n"
     ]
    },
    {
     "name": "stderr",
     "output_type": "stream",
     "text": [
      "\u001b[33m[W 2022-05-05 04:10:04,869]\u001b[0m The parameter 'max_depth' in trial#189 is sampled independently instead of being sampled by multivariate TPE sampler. (optimization performance may be degraded). You can suppress this warning by setting `warn_independent_sampling` to `False` in the constructor of `TPESampler`, if this independent sampling is intended behavior.\u001b[0m\n"
     ]
    },
    {
     "name": "stdout",
     "output_type": "stream",
     "text": [
      "The parameter 'max_depth' in trial#189 is sampled independently instead of being sampled by multivariate TPE sampler. (optimization performance may be degraded). You can suppress this warning by setting `warn_independent_sampling` to `False` in the constructor of `TPESampler`, if this independent sampling is intended behavior.\n"
     ]
    },
    {
     "name": "stderr",
     "output_type": "stream",
     "text": [
      "\u001b[33m[W 2022-05-05 04:10:04,937]\u001b[0m The parameter 'eta' in trial#189 is sampled independently instead of being sampled by multivariate TPE sampler. (optimization performance may be degraded). You can suppress this warning by setting `warn_independent_sampling` to `False` in the constructor of `TPESampler`, if this independent sampling is intended behavior.\u001b[0m\n"
     ]
    },
    {
     "name": "stdout",
     "output_type": "stream",
     "text": [
      "The parameter 'eta' in trial#189 is sampled independently instead of being sampled by multivariate TPE sampler. (optimization performance may be degraded). You can suppress this warning by setting `warn_independent_sampling` to `False` in the constructor of `TPESampler`, if this independent sampling is intended behavior.\n"
     ]
    },
    {
     "name": "stderr",
     "output_type": "stream",
     "text": [
      "\u001b[33m[W 2022-05-05 04:10:05,005]\u001b[0m The parameter 'gamma' in trial#189 is sampled independently instead of being sampled by multivariate TPE sampler. (optimization performance may be degraded). You can suppress this warning by setting `warn_independent_sampling` to `False` in the constructor of `TPESampler`, if this independent sampling is intended behavior.\u001b[0m\n"
     ]
    },
    {
     "name": "stdout",
     "output_type": "stream",
     "text": [
      "The parameter 'gamma' in trial#189 is sampled independently instead of being sampled by multivariate TPE sampler. (optimization performance may be degraded). You can suppress this warning by setting `warn_independent_sampling` to `False` in the constructor of `TPESampler`, if this independent sampling is intended behavior.\n"
     ]
    },
    {
     "name": "stderr",
     "output_type": "stream",
     "text": [
      "\u001b[33m[W 2022-05-05 04:10:05,089]\u001b[0m The parameter 'grow_policy' in trial#189 is sampled independently instead of being sampled by multivariate TPE sampler. (optimization performance may be degraded). You can suppress this warning by setting `warn_independent_sampling` to `False` in the constructor of `TPESampler`, if this independent sampling is intended behavior.\u001b[0m\n"
     ]
    },
    {
     "name": "stdout",
     "output_type": "stream",
     "text": [
      "The parameter 'grow_policy' in trial#189 is sampled independently instead of being sampled by multivariate TPE sampler. (optimization performance may be degraded). You can suppress this warning by setting `warn_independent_sampling` to `False` in the constructor of `TPESampler`, if this independent sampling is intended behavior.\n"
     ]
    },
    {
     "name": "stderr",
     "output_type": "stream",
     "text": [
      "\u001b[33m[W 2022-05-05 04:10:05,152]\u001b[0m The parameter 'sample_type' in trial#189 is sampled independently instead of being sampled by multivariate TPE sampler. (optimization performance may be degraded). You can suppress this warning by setting `warn_independent_sampling` to `False` in the constructor of `TPESampler`, if this independent sampling is intended behavior.\u001b[0m\n"
     ]
    },
    {
     "name": "stdout",
     "output_type": "stream",
     "text": [
      "The parameter 'sample_type' in trial#189 is sampled independently instead of being sampled by multivariate TPE sampler. (optimization performance may be degraded). You can suppress this warning by setting `warn_independent_sampling` to `False` in the constructor of `TPESampler`, if this independent sampling is intended behavior.\n"
     ]
    },
    {
     "name": "stderr",
     "output_type": "stream",
     "text": [
      "\u001b[33m[W 2022-05-05 04:10:05,219]\u001b[0m The parameter 'normalize_type' in trial#189 is sampled independently instead of being sampled by multivariate TPE sampler. (optimization performance may be degraded). You can suppress this warning by setting `warn_independent_sampling` to `False` in the constructor of `TPESampler`, if this independent sampling is intended behavior.\u001b[0m\n"
     ]
    },
    {
     "name": "stdout",
     "output_type": "stream",
     "text": [
      "The parameter 'normalize_type' in trial#189 is sampled independently instead of being sampled by multivariate TPE sampler. (optimization performance may be degraded). You can suppress this warning by setting `warn_independent_sampling` to `False` in the constructor of `TPESampler`, if this independent sampling is intended behavior.\n"
     ]
    },
    {
     "name": "stderr",
     "output_type": "stream",
     "text": [
      "\u001b[33m[W 2022-05-05 04:10:05,281]\u001b[0m The parameter 'rate_drop' in trial#189 is sampled independently instead of being sampled by multivariate TPE sampler. (optimization performance may be degraded). You can suppress this warning by setting `warn_independent_sampling` to `False` in the constructor of `TPESampler`, if this independent sampling is intended behavior.\u001b[0m\n"
     ]
    },
    {
     "name": "stdout",
     "output_type": "stream",
     "text": [
      "The parameter 'rate_drop' in trial#189 is sampled independently instead of being sampled by multivariate TPE sampler. (optimization performance may be degraded). You can suppress this warning by setting `warn_independent_sampling` to `False` in the constructor of `TPESampler`, if this independent sampling is intended behavior.\n"
     ]
    },
    {
     "name": "stderr",
     "output_type": "stream",
     "text": [
      "\u001b[33m[W 2022-05-05 04:10:05,368]\u001b[0m The parameter 'skip_drop' in trial#189 is sampled independently instead of being sampled by multivariate TPE sampler. (optimization performance may be degraded). You can suppress this warning by setting `warn_independent_sampling` to `False` in the constructor of `TPESampler`, if this independent sampling is intended behavior.\u001b[0m\n"
     ]
    },
    {
     "name": "stdout",
     "output_type": "stream",
     "text": [
      "The parameter 'skip_drop' in trial#189 is sampled independently instead of being sampled by multivariate TPE sampler. (optimization performance may be degraded). You can suppress this warning by setting `warn_independent_sampling` to `False` in the constructor of `TPESampler`, if this independent sampling is intended behavior.\n",
      "\n",
      "===== TRIAL #189 =====\n",
      "Fingerprint: RDKit2D\n",
      "Booster: dart\n",
      "Lambda: 4.66686222761785e-05\n",
      "Alpha: 0.1211744843811192\n"
     ]
    },
    {
     "name": "stderr",
     "output_type": "stream",
     "text": [
      "\u001b[32m[I 2022-05-05 04:13:28,100]\u001b[0m Trial 189 finished with value: 0.918706808222572 and parameters: {'mol_dst': 'RDKit2D', 'booster': 'dart', 'lambda': 4.66686222761785e-05, 'alpha': 0.1211744843811192, 'max_depth': 7, 'eta': 0.09090439043628624, 'gamma': 0.7386059734523329, 'grow_policy': 'depthwise', 'sample_type': 'weighted', 'normalize_type': 'forest', 'rate_drop': 2.918527984899995e-05, 'skip_drop': 1.1754933890445171e-08}. Best is trial 153 with value: 0.919911132859976.\u001b[0m\n"
     ]
    },
    {
     "name": "stdout",
     "output_type": "stream",
     "text": [
      "Trial 189 finished with value: 0.918706808222572 and parameters: {'mol_dst': 'RDKit2D', 'booster': 'dart', 'lambda': 4.66686222761785e-05, 'alpha': 0.1211744843811192, 'max_depth': 7, 'eta': 0.09090439043628624, 'gamma': 0.7386059734523329, 'grow_policy': 'depthwise', 'sample_type': 'weighted', 'normalize_type': 'forest', 'rate_drop': 2.918527984899995e-05, 'skip_drop': 1.1754933890445171e-08}. Best is trial 153 with value: 0.919911132859976.\n"
     ]
    },
    {
     "name": "stderr",
     "output_type": "stream",
     "text": [
      "\u001b[33m[W 2022-05-05 04:13:28,530]\u001b[0m The parameter 'max_depth' in trial#190 is sampled independently instead of being sampled by multivariate TPE sampler. (optimization performance may be degraded). You can suppress this warning by setting `warn_independent_sampling` to `False` in the constructor of `TPESampler`, if this independent sampling is intended behavior.\u001b[0m\n"
     ]
    },
    {
     "name": "stdout",
     "output_type": "stream",
     "text": [
      "The parameter 'max_depth' in trial#190 is sampled independently instead of being sampled by multivariate TPE sampler. (optimization performance may be degraded). You can suppress this warning by setting `warn_independent_sampling` to `False` in the constructor of `TPESampler`, if this independent sampling is intended behavior.\n"
     ]
    },
    {
     "name": "stderr",
     "output_type": "stream",
     "text": [
      "\u001b[33m[W 2022-05-05 04:13:28,595]\u001b[0m The parameter 'eta' in trial#190 is sampled independently instead of being sampled by multivariate TPE sampler. (optimization performance may be degraded). You can suppress this warning by setting `warn_independent_sampling` to `False` in the constructor of `TPESampler`, if this independent sampling is intended behavior.\u001b[0m\n"
     ]
    },
    {
     "name": "stdout",
     "output_type": "stream",
     "text": [
      "The parameter 'eta' in trial#190 is sampled independently instead of being sampled by multivariate TPE sampler. (optimization performance may be degraded). You can suppress this warning by setting `warn_independent_sampling` to `False` in the constructor of `TPESampler`, if this independent sampling is intended behavior.\n"
     ]
    },
    {
     "name": "stderr",
     "output_type": "stream",
     "text": [
      "\u001b[33m[W 2022-05-05 04:13:28,676]\u001b[0m The parameter 'gamma' in trial#190 is sampled independently instead of being sampled by multivariate TPE sampler. (optimization performance may be degraded). You can suppress this warning by setting `warn_independent_sampling` to `False` in the constructor of `TPESampler`, if this independent sampling is intended behavior.\u001b[0m\n"
     ]
    },
    {
     "name": "stdout",
     "output_type": "stream",
     "text": [
      "The parameter 'gamma' in trial#190 is sampled independently instead of being sampled by multivariate TPE sampler. (optimization performance may be degraded). You can suppress this warning by setting `warn_independent_sampling` to `False` in the constructor of `TPESampler`, if this independent sampling is intended behavior.\n"
     ]
    },
    {
     "name": "stderr",
     "output_type": "stream",
     "text": [
      "\u001b[33m[W 2022-05-05 04:13:28,749]\u001b[0m The parameter 'grow_policy' in trial#190 is sampled independently instead of being sampled by multivariate TPE sampler. (optimization performance may be degraded). You can suppress this warning by setting `warn_independent_sampling` to `False` in the constructor of `TPESampler`, if this independent sampling is intended behavior.\u001b[0m\n"
     ]
    },
    {
     "name": "stdout",
     "output_type": "stream",
     "text": [
      "The parameter 'grow_policy' in trial#190 is sampled independently instead of being sampled by multivariate TPE sampler. (optimization performance may be degraded). You can suppress this warning by setting `warn_independent_sampling` to `False` in the constructor of `TPESampler`, if this independent sampling is intended behavior.\n"
     ]
    },
    {
     "name": "stderr",
     "output_type": "stream",
     "text": [
      "\u001b[33m[W 2022-05-05 04:13:28,805]\u001b[0m The parameter 'sample_type' in trial#190 is sampled independently instead of being sampled by multivariate TPE sampler. (optimization performance may be degraded). You can suppress this warning by setting `warn_independent_sampling` to `False` in the constructor of `TPESampler`, if this independent sampling is intended behavior.\u001b[0m\n"
     ]
    },
    {
     "name": "stdout",
     "output_type": "stream",
     "text": [
      "The parameter 'sample_type' in trial#190 is sampled independently instead of being sampled by multivariate TPE sampler. (optimization performance may be degraded). You can suppress this warning by setting `warn_independent_sampling` to `False` in the constructor of `TPESampler`, if this independent sampling is intended behavior.\n"
     ]
    },
    {
     "name": "stderr",
     "output_type": "stream",
     "text": [
      "\u001b[33m[W 2022-05-05 04:13:28,892]\u001b[0m The parameter 'normalize_type' in trial#190 is sampled independently instead of being sampled by multivariate TPE sampler. (optimization performance may be degraded). You can suppress this warning by setting `warn_independent_sampling` to `False` in the constructor of `TPESampler`, if this independent sampling is intended behavior.\u001b[0m\n"
     ]
    },
    {
     "name": "stdout",
     "output_type": "stream",
     "text": [
      "The parameter 'normalize_type' in trial#190 is sampled independently instead of being sampled by multivariate TPE sampler. (optimization performance may be degraded). You can suppress this warning by setting `warn_independent_sampling` to `False` in the constructor of `TPESampler`, if this independent sampling is intended behavior.\n"
     ]
    },
    {
     "name": "stderr",
     "output_type": "stream",
     "text": [
      "\u001b[33m[W 2022-05-05 04:13:28,955]\u001b[0m The parameter 'rate_drop' in trial#190 is sampled independently instead of being sampled by multivariate TPE sampler. (optimization performance may be degraded). You can suppress this warning by setting `warn_independent_sampling` to `False` in the constructor of `TPESampler`, if this independent sampling is intended behavior.\u001b[0m\n"
     ]
    },
    {
     "name": "stdout",
     "output_type": "stream",
     "text": [
      "The parameter 'rate_drop' in trial#190 is sampled independently instead of being sampled by multivariate TPE sampler. (optimization performance may be degraded). You can suppress this warning by setting `warn_independent_sampling` to `False` in the constructor of `TPESampler`, if this independent sampling is intended behavior.\n"
     ]
    },
    {
     "name": "stderr",
     "output_type": "stream",
     "text": [
      "\u001b[33m[W 2022-05-05 04:13:29,016]\u001b[0m The parameter 'skip_drop' in trial#190 is sampled independently instead of being sampled by multivariate TPE sampler. (optimization performance may be degraded). You can suppress this warning by setting `warn_independent_sampling` to `False` in the constructor of `TPESampler`, if this independent sampling is intended behavior.\u001b[0m\n"
     ]
    },
    {
     "name": "stdout",
     "output_type": "stream",
     "text": [
      "The parameter 'skip_drop' in trial#190 is sampled independently instead of being sampled by multivariate TPE sampler. (optimization performance may be degraded). You can suppress this warning by setting `warn_independent_sampling` to `False` in the constructor of `TPESampler`, if this independent sampling is intended behavior.\n",
      "\n",
      "===== TRIAL #190 =====\n",
      "Fingerprint: RDKit2D\n",
      "Booster: dart\n",
      "Lambda: 3.3222345461257604e-05\n",
      "Alpha: 0.03415516907777011\n"
     ]
    },
    {
     "name": "stderr",
     "output_type": "stream",
     "text": [
      "\u001b[32m[I 2022-05-05 04:17:03,551]\u001b[0m Trial 190 finished with value: 0.916582241968892 and parameters: {'mol_dst': 'RDKit2D', 'booster': 'dart', 'lambda': 3.3222345461257604e-05, 'alpha': 0.03415516907777011, 'max_depth': 8, 'eta': 0.14032689990083497, 'gamma': 0.23608835579398774, 'grow_policy': 'lossguide', 'sample_type': 'weighted', 'normalize_type': 'forest', 'rate_drop': 4.754278239971458e-06, 'skip_drop': 1.000484556935511e-08}. Best is trial 153 with value: 0.919911132859976.\u001b[0m\n"
     ]
    },
    {
     "name": "stdout",
     "output_type": "stream",
     "text": [
      "Trial 190 finished with value: 0.916582241968892 and parameters: {'mol_dst': 'RDKit2D', 'booster': 'dart', 'lambda': 3.3222345461257604e-05, 'alpha': 0.03415516907777011, 'max_depth': 8, 'eta': 0.14032689990083497, 'gamma': 0.23608835579398774, 'grow_policy': 'lossguide', 'sample_type': 'weighted', 'normalize_type': 'forest', 'rate_drop': 4.754278239971458e-06, 'skip_drop': 1.000484556935511e-08}. Best is trial 153 with value: 0.919911132859976.\n"
     ]
    },
    {
     "name": "stderr",
     "output_type": "stream",
     "text": [
      "\u001b[33m[W 2022-05-05 04:17:03,989]\u001b[0m The parameter 'max_depth' in trial#191 is sampled independently instead of being sampled by multivariate TPE sampler. (optimization performance may be degraded). You can suppress this warning by setting `warn_independent_sampling` to `False` in the constructor of `TPESampler`, if this independent sampling is intended behavior.\u001b[0m\n"
     ]
    },
    {
     "name": "stdout",
     "output_type": "stream",
     "text": [
      "The parameter 'max_depth' in trial#191 is sampled independently instead of being sampled by multivariate TPE sampler. (optimization performance may be degraded). You can suppress this warning by setting `warn_independent_sampling` to `False` in the constructor of `TPESampler`, if this independent sampling is intended behavior.\n"
     ]
    },
    {
     "name": "stderr",
     "output_type": "stream",
     "text": [
      "\u001b[33m[W 2022-05-05 04:17:04,064]\u001b[0m The parameter 'eta' in trial#191 is sampled independently instead of being sampled by multivariate TPE sampler. (optimization performance may be degraded). You can suppress this warning by setting `warn_independent_sampling` to `False` in the constructor of `TPESampler`, if this independent sampling is intended behavior.\u001b[0m\n"
     ]
    },
    {
     "name": "stdout",
     "output_type": "stream",
     "text": [
      "The parameter 'eta' in trial#191 is sampled independently instead of being sampled by multivariate TPE sampler. (optimization performance may be degraded). You can suppress this warning by setting `warn_independent_sampling` to `False` in the constructor of `TPESampler`, if this independent sampling is intended behavior.\n"
     ]
    },
    {
     "name": "stderr",
     "output_type": "stream",
     "text": [
      "\u001b[33m[W 2022-05-05 04:17:04,129]\u001b[0m The parameter 'gamma' in trial#191 is sampled independently instead of being sampled by multivariate TPE sampler. (optimization performance may be degraded). You can suppress this warning by setting `warn_independent_sampling` to `False` in the constructor of `TPESampler`, if this independent sampling is intended behavior.\u001b[0m\n"
     ]
    },
    {
     "name": "stdout",
     "output_type": "stream",
     "text": [
      "The parameter 'gamma' in trial#191 is sampled independently instead of being sampled by multivariate TPE sampler. (optimization performance may be degraded). You can suppress this warning by setting `warn_independent_sampling` to `False` in the constructor of `TPESampler`, if this independent sampling is intended behavior.\n"
     ]
    },
    {
     "name": "stderr",
     "output_type": "stream",
     "text": [
      "\u001b[33m[W 2022-05-05 04:17:04,207]\u001b[0m The parameter 'grow_policy' in trial#191 is sampled independently instead of being sampled by multivariate TPE sampler. (optimization performance may be degraded). You can suppress this warning by setting `warn_independent_sampling` to `False` in the constructor of `TPESampler`, if this independent sampling is intended behavior.\u001b[0m\n"
     ]
    },
    {
     "name": "stdout",
     "output_type": "stream",
     "text": [
      "The parameter 'grow_policy' in trial#191 is sampled independently instead of being sampled by multivariate TPE sampler. (optimization performance may be degraded). You can suppress this warning by setting `warn_independent_sampling` to `False` in the constructor of `TPESampler`, if this independent sampling is intended behavior.\n"
     ]
    },
    {
     "name": "stderr",
     "output_type": "stream",
     "text": [
      "\u001b[33m[W 2022-05-05 04:17:04,258]\u001b[0m The parameter 'sample_type' in trial#191 is sampled independently instead of being sampled by multivariate TPE sampler. (optimization performance may be degraded). You can suppress this warning by setting `warn_independent_sampling` to `False` in the constructor of `TPESampler`, if this independent sampling is intended behavior.\u001b[0m\n"
     ]
    },
    {
     "name": "stdout",
     "output_type": "stream",
     "text": [
      "The parameter 'sample_type' in trial#191 is sampled independently instead of being sampled by multivariate TPE sampler. (optimization performance may be degraded). You can suppress this warning by setting `warn_independent_sampling` to `False` in the constructor of `TPESampler`, if this independent sampling is intended behavior.\n"
     ]
    },
    {
     "name": "stderr",
     "output_type": "stream",
     "text": [
      "\u001b[33m[W 2022-05-05 04:17:04,307]\u001b[0m The parameter 'normalize_type' in trial#191 is sampled independently instead of being sampled by multivariate TPE sampler. (optimization performance may be degraded). You can suppress this warning by setting `warn_independent_sampling` to `False` in the constructor of `TPESampler`, if this independent sampling is intended behavior.\u001b[0m\n"
     ]
    },
    {
     "name": "stdout",
     "output_type": "stream",
     "text": [
      "The parameter 'normalize_type' in trial#191 is sampled independently instead of being sampled by multivariate TPE sampler. (optimization performance may be degraded). You can suppress this warning by setting `warn_independent_sampling` to `False` in the constructor of `TPESampler`, if this independent sampling is intended behavior.\n"
     ]
    },
    {
     "name": "stderr",
     "output_type": "stream",
     "text": [
      "\u001b[33m[W 2022-05-05 04:17:04,371]\u001b[0m The parameter 'rate_drop' in trial#191 is sampled independently instead of being sampled by multivariate TPE sampler. (optimization performance may be degraded). You can suppress this warning by setting `warn_independent_sampling` to `False` in the constructor of `TPESampler`, if this independent sampling is intended behavior.\u001b[0m\n"
     ]
    },
    {
     "name": "stdout",
     "output_type": "stream",
     "text": [
      "The parameter 'rate_drop' in trial#191 is sampled independently instead of being sampled by multivariate TPE sampler. (optimization performance may be degraded). You can suppress this warning by setting `warn_independent_sampling` to `False` in the constructor of `TPESampler`, if this independent sampling is intended behavior.\n"
     ]
    },
    {
     "name": "stderr",
     "output_type": "stream",
     "text": [
      "\u001b[33m[W 2022-05-05 04:17:04,441]\u001b[0m The parameter 'skip_drop' in trial#191 is sampled independently instead of being sampled by multivariate TPE sampler. (optimization performance may be degraded). You can suppress this warning by setting `warn_independent_sampling` to `False` in the constructor of `TPESampler`, if this independent sampling is intended behavior.\u001b[0m\n"
     ]
    },
    {
     "name": "stdout",
     "output_type": "stream",
     "text": [
      "The parameter 'skip_drop' in trial#191 is sampled independently instead of being sampled by multivariate TPE sampler. (optimization performance may be degraded). You can suppress this warning by setting `warn_independent_sampling` to `False` in the constructor of `TPESampler`, if this independent sampling is intended behavior.\n",
      "\n",
      "===== TRIAL #191 =====\n",
      "Fingerprint: RDKit2D\n",
      "Booster: dart\n",
      "Lambda: 5.235733825166841e-06\n",
      "Alpha: 0.5572391781520496\n"
     ]
    },
    {
     "name": "stderr",
     "output_type": "stream",
     "text": [
      "\u001b[32m[I 2022-05-05 04:21:16,261]\u001b[0m Trial 191 finished with value: 0.8907103216381822 and parameters: {'mol_dst': 'RDKit2D', 'booster': 'dart', 'lambda': 5.235733825166841e-06, 'alpha': 0.5572391781520496, 'max_depth': 1, 'eta': 0.19638090494249888, 'gamma': 0.3040179475657912, 'grow_policy': 'depthwise', 'sample_type': 'weighted', 'normalize_type': 'forest', 'rate_drop': 2.3118664966745778e-05, 'skip_drop': 1.5128068549212703e-07}. Best is trial 153 with value: 0.919911132859976.\u001b[0m\n"
     ]
    },
    {
     "name": "stdout",
     "output_type": "stream",
     "text": [
      "Trial 191 finished with value: 0.8907103216381822 and parameters: {'mol_dst': 'RDKit2D', 'booster': 'dart', 'lambda': 5.235733825166841e-06, 'alpha': 0.5572391781520496, 'max_depth': 1, 'eta': 0.19638090494249888, 'gamma': 0.3040179475657912, 'grow_policy': 'depthwise', 'sample_type': 'weighted', 'normalize_type': 'forest', 'rate_drop': 2.3118664966745778e-05, 'skip_drop': 1.5128068549212703e-07}. Best is trial 153 with value: 0.919911132859976.\n"
     ]
    },
    {
     "name": "stderr",
     "output_type": "stream",
     "text": [
      "\u001b[33m[W 2022-05-05 04:21:16,690]\u001b[0m The parameter 'max_depth' in trial#192 is sampled independently instead of being sampled by multivariate TPE sampler. (optimization performance may be degraded). You can suppress this warning by setting `warn_independent_sampling` to `False` in the constructor of `TPESampler`, if this independent sampling is intended behavior.\u001b[0m\n"
     ]
    },
    {
     "name": "stdout",
     "output_type": "stream",
     "text": [
      "The parameter 'max_depth' in trial#192 is sampled independently instead of being sampled by multivariate TPE sampler. (optimization performance may be degraded). You can suppress this warning by setting `warn_independent_sampling` to `False` in the constructor of `TPESampler`, if this independent sampling is intended behavior.\n"
     ]
    },
    {
     "name": "stderr",
     "output_type": "stream",
     "text": [
      "\u001b[33m[W 2022-05-05 04:21:16,754]\u001b[0m The parameter 'eta' in trial#192 is sampled independently instead of being sampled by multivariate TPE sampler. (optimization performance may be degraded). You can suppress this warning by setting `warn_independent_sampling` to `False` in the constructor of `TPESampler`, if this independent sampling is intended behavior.\u001b[0m\n"
     ]
    },
    {
     "name": "stdout",
     "output_type": "stream",
     "text": [
      "The parameter 'eta' in trial#192 is sampled independently instead of being sampled by multivariate TPE sampler. (optimization performance may be degraded). You can suppress this warning by setting `warn_independent_sampling` to `False` in the constructor of `TPESampler`, if this independent sampling is intended behavior.\n"
     ]
    },
    {
     "name": "stderr",
     "output_type": "stream",
     "text": [
      "\u001b[33m[W 2022-05-05 04:21:16,828]\u001b[0m The parameter 'gamma' in trial#192 is sampled independently instead of being sampled by multivariate TPE sampler. (optimization performance may be degraded). You can suppress this warning by setting `warn_independent_sampling` to `False` in the constructor of `TPESampler`, if this independent sampling is intended behavior.\u001b[0m\n"
     ]
    },
    {
     "name": "stdout",
     "output_type": "stream",
     "text": [
      "The parameter 'gamma' in trial#192 is sampled independently instead of being sampled by multivariate TPE sampler. (optimization performance may be degraded). You can suppress this warning by setting `warn_independent_sampling` to `False` in the constructor of `TPESampler`, if this independent sampling is intended behavior.\n"
     ]
    },
    {
     "name": "stderr",
     "output_type": "stream",
     "text": [
      "\u001b[33m[W 2022-05-05 04:21:16,898]\u001b[0m The parameter 'grow_policy' in trial#192 is sampled independently instead of being sampled by multivariate TPE sampler. (optimization performance may be degraded). You can suppress this warning by setting `warn_independent_sampling` to `False` in the constructor of `TPESampler`, if this independent sampling is intended behavior.\u001b[0m\n"
     ]
    },
    {
     "name": "stdout",
     "output_type": "stream",
     "text": [
      "The parameter 'grow_policy' in trial#192 is sampled independently instead of being sampled by multivariate TPE sampler. (optimization performance may be degraded). You can suppress this warning by setting `warn_independent_sampling` to `False` in the constructor of `TPESampler`, if this independent sampling is intended behavior.\n",
      "\n",
      "===== TRIAL #192 =====\n",
      "Fingerprint: Morgan\n",
      "Booster: gbtree\n",
      "Lambda: 0.4445987119071187\n",
      "Alpha: 0.9413332180675872\n"
     ]
    },
    {
     "name": "stderr",
     "output_type": "stream",
     "text": [
      "\u001b[32m[I 2022-05-05 04:21:55,163]\u001b[0m Trial 192 finished with value: 0.9017686326957243 and parameters: {'mol_dst': 'Morgan', 'booster': 'gbtree', 'lambda': 0.4445987119071187, 'alpha': 0.9413332180675872, 'max_depth': 7, 'eta': 0.024087204890402142, 'gamma': 0.8492384135184566, 'grow_policy': 'depthwise'}. Best is trial 153 with value: 0.919911132859976.\u001b[0m\n"
     ]
    },
    {
     "name": "stdout",
     "output_type": "stream",
     "text": [
      "Trial 192 finished with value: 0.9017686326957243 and parameters: {'mol_dst': 'Morgan', 'booster': 'gbtree', 'lambda': 0.4445987119071187, 'alpha': 0.9413332180675872, 'max_depth': 7, 'eta': 0.024087204890402142, 'gamma': 0.8492384135184566, 'grow_policy': 'depthwise'}. Best is trial 153 with value: 0.919911132859976.\n"
     ]
    },
    {
     "name": "stderr",
     "output_type": "stream",
     "text": [
      "\u001b[33m[W 2022-05-05 04:21:55,595]\u001b[0m The parameter 'max_depth' in trial#193 is sampled independently instead of being sampled by multivariate TPE sampler. (optimization performance may be degraded). You can suppress this warning by setting `warn_independent_sampling` to `False` in the constructor of `TPESampler`, if this independent sampling is intended behavior.\u001b[0m\n"
     ]
    },
    {
     "name": "stdout",
     "output_type": "stream",
     "text": [
      "The parameter 'max_depth' in trial#193 is sampled independently instead of being sampled by multivariate TPE sampler. (optimization performance may be degraded). You can suppress this warning by setting `warn_independent_sampling` to `False` in the constructor of `TPESampler`, if this independent sampling is intended behavior.\n"
     ]
    },
    {
     "name": "stderr",
     "output_type": "stream",
     "text": [
      "\u001b[33m[W 2022-05-05 04:21:55,651]\u001b[0m The parameter 'eta' in trial#193 is sampled independently instead of being sampled by multivariate TPE sampler. (optimization performance may be degraded). You can suppress this warning by setting `warn_independent_sampling` to `False` in the constructor of `TPESampler`, if this independent sampling is intended behavior.\u001b[0m\n"
     ]
    },
    {
     "name": "stdout",
     "output_type": "stream",
     "text": [
      "The parameter 'eta' in trial#193 is sampled independently instead of being sampled by multivariate TPE sampler. (optimization performance may be degraded). You can suppress this warning by setting `warn_independent_sampling` to `False` in the constructor of `TPESampler`, if this independent sampling is intended behavior.\n"
     ]
    },
    {
     "name": "stderr",
     "output_type": "stream",
     "text": [
      "\u001b[33m[W 2022-05-05 04:21:55,716]\u001b[0m The parameter 'gamma' in trial#193 is sampled independently instead of being sampled by multivariate TPE sampler. (optimization performance may be degraded). You can suppress this warning by setting `warn_independent_sampling` to `False` in the constructor of `TPESampler`, if this independent sampling is intended behavior.\u001b[0m\n"
     ]
    },
    {
     "name": "stdout",
     "output_type": "stream",
     "text": [
      "The parameter 'gamma' in trial#193 is sampled independently instead of being sampled by multivariate TPE sampler. (optimization performance may be degraded). You can suppress this warning by setting `warn_independent_sampling` to `False` in the constructor of `TPESampler`, if this independent sampling is intended behavior.\n"
     ]
    },
    {
     "name": "stderr",
     "output_type": "stream",
     "text": [
      "\u001b[33m[W 2022-05-05 04:21:55,783]\u001b[0m The parameter 'grow_policy' in trial#193 is sampled independently instead of being sampled by multivariate TPE sampler. (optimization performance may be degraded). You can suppress this warning by setting `warn_independent_sampling` to `False` in the constructor of `TPESampler`, if this independent sampling is intended behavior.\u001b[0m\n"
     ]
    },
    {
     "name": "stdout",
     "output_type": "stream",
     "text": [
      "The parameter 'grow_policy' in trial#193 is sampled independently instead of being sampled by multivariate TPE sampler. (optimization performance may be degraded). You can suppress this warning by setting `warn_independent_sampling` to `False` in the constructor of `TPESampler`, if this independent sampling is intended behavior.\n"
     ]
    },
    {
     "name": "stderr",
     "output_type": "stream",
     "text": [
      "\u001b[33m[W 2022-05-05 04:21:55,835]\u001b[0m The parameter 'sample_type' in trial#193 is sampled independently instead of being sampled by multivariate TPE sampler. (optimization performance may be degraded). You can suppress this warning by setting `warn_independent_sampling` to `False` in the constructor of `TPESampler`, if this independent sampling is intended behavior.\u001b[0m\n"
     ]
    },
    {
     "name": "stdout",
     "output_type": "stream",
     "text": [
      "The parameter 'sample_type' in trial#193 is sampled independently instead of being sampled by multivariate TPE sampler. (optimization performance may be degraded). You can suppress this warning by setting `warn_independent_sampling` to `False` in the constructor of `TPESampler`, if this independent sampling is intended behavior.\n"
     ]
    },
    {
     "name": "stderr",
     "output_type": "stream",
     "text": [
      "\u001b[33m[W 2022-05-05 04:21:55,886]\u001b[0m The parameter 'normalize_type' in trial#193 is sampled independently instead of being sampled by multivariate TPE sampler. (optimization performance may be degraded). You can suppress this warning by setting `warn_independent_sampling` to `False` in the constructor of `TPESampler`, if this independent sampling is intended behavior.\u001b[0m\n"
     ]
    },
    {
     "name": "stdout",
     "output_type": "stream",
     "text": [
      "The parameter 'normalize_type' in trial#193 is sampled independently instead of being sampled by multivariate TPE sampler. (optimization performance may be degraded). You can suppress this warning by setting `warn_independent_sampling` to `False` in the constructor of `TPESampler`, if this independent sampling is intended behavior.\n"
     ]
    },
    {
     "name": "stderr",
     "output_type": "stream",
     "text": [
      "\u001b[33m[W 2022-05-05 04:21:55,945]\u001b[0m The parameter 'rate_drop' in trial#193 is sampled independently instead of being sampled by multivariate TPE sampler. (optimization performance may be degraded). You can suppress this warning by setting `warn_independent_sampling` to `False` in the constructor of `TPESampler`, if this independent sampling is intended behavior.\u001b[0m\n"
     ]
    },
    {
     "name": "stdout",
     "output_type": "stream",
     "text": [
      "The parameter 'rate_drop' in trial#193 is sampled independently instead of being sampled by multivariate TPE sampler. (optimization performance may be degraded). You can suppress this warning by setting `warn_independent_sampling` to `False` in the constructor of `TPESampler`, if this independent sampling is intended behavior.\n"
     ]
    },
    {
     "name": "stderr",
     "output_type": "stream",
     "text": [
      "\u001b[33m[W 2022-05-05 04:21:56,047]\u001b[0m The parameter 'skip_drop' in trial#193 is sampled independently instead of being sampled by multivariate TPE sampler. (optimization performance may be degraded). You can suppress this warning by setting `warn_independent_sampling` to `False` in the constructor of `TPESampler`, if this independent sampling is intended behavior.\u001b[0m\n"
     ]
    },
    {
     "name": "stdout",
     "output_type": "stream",
     "text": [
      "The parameter 'skip_drop' in trial#193 is sampled independently instead of being sampled by multivariate TPE sampler. (optimization performance may be degraded). You can suppress this warning by setting `warn_independent_sampling` to `False` in the constructor of `TPESampler`, if this independent sampling is intended behavior.\n",
      "\n",
      "===== TRIAL #193 =====\n",
      "Fingerprint: RDKit2D\n",
      "Booster: dart\n",
      "Lambda: 0.0078027321407028675\n",
      "Alpha: 0.5365429602852102\n"
     ]
    },
    {
     "name": "stderr",
     "output_type": "stream",
     "text": [
      "\u001b[32m[I 2022-05-05 04:26:31,176]\u001b[0m Trial 193 finished with value: 0.9184270692000611 and parameters: {'mol_dst': 'RDKit2D', 'booster': 'dart', 'lambda': 0.0078027321407028675, 'alpha': 0.5365429602852102, 'max_depth': 7, 'eta': 0.049066891377028715, 'gamma': 0.22595403752532858, 'grow_policy': 'depthwise', 'sample_type': 'weighted', 'normalize_type': 'forest', 'rate_drop': 2.4389070973619685e-05, 'skip_drop': 9.196440034471084e-08}. Best is trial 153 with value: 0.919911132859976.\u001b[0m\n"
     ]
    },
    {
     "name": "stdout",
     "output_type": "stream",
     "text": [
      "Trial 193 finished with value: 0.9184270692000611 and parameters: {'mol_dst': 'RDKit2D', 'booster': 'dart', 'lambda': 0.0078027321407028675, 'alpha': 0.5365429602852102, 'max_depth': 7, 'eta': 0.049066891377028715, 'gamma': 0.22595403752532858, 'grow_policy': 'depthwise', 'sample_type': 'weighted', 'normalize_type': 'forest', 'rate_drop': 2.4389070973619685e-05, 'skip_drop': 9.196440034471084e-08}. Best is trial 153 with value: 0.919911132859976.\n"
     ]
    },
    {
     "name": "stderr",
     "output_type": "stream",
     "text": [
      "\u001b[33m[W 2022-05-05 04:26:31,601]\u001b[0m The parameter 'max_depth' in trial#194 is sampled independently instead of being sampled by multivariate TPE sampler. (optimization performance may be degraded). You can suppress this warning by setting `warn_independent_sampling` to `False` in the constructor of `TPESampler`, if this independent sampling is intended behavior.\u001b[0m\n"
     ]
    },
    {
     "name": "stdout",
     "output_type": "stream",
     "text": [
      "The parameter 'max_depth' in trial#194 is sampled independently instead of being sampled by multivariate TPE sampler. (optimization performance may be degraded). You can suppress this warning by setting `warn_independent_sampling` to `False` in the constructor of `TPESampler`, if this independent sampling is intended behavior.\n"
     ]
    },
    {
     "name": "stderr",
     "output_type": "stream",
     "text": [
      "\u001b[33m[W 2022-05-05 04:26:31,660]\u001b[0m The parameter 'eta' in trial#194 is sampled independently instead of being sampled by multivariate TPE sampler. (optimization performance may be degraded). You can suppress this warning by setting `warn_independent_sampling` to `False` in the constructor of `TPESampler`, if this independent sampling is intended behavior.\u001b[0m\n"
     ]
    },
    {
     "name": "stdout",
     "output_type": "stream",
     "text": [
      "The parameter 'eta' in trial#194 is sampled independently instead of being sampled by multivariate TPE sampler. (optimization performance may be degraded). You can suppress this warning by setting `warn_independent_sampling` to `False` in the constructor of `TPESampler`, if this independent sampling is intended behavior.\n"
     ]
    },
    {
     "name": "stderr",
     "output_type": "stream",
     "text": [
      "\u001b[33m[W 2022-05-05 04:26:31,723]\u001b[0m The parameter 'gamma' in trial#194 is sampled independently instead of being sampled by multivariate TPE sampler. (optimization performance may be degraded). You can suppress this warning by setting `warn_independent_sampling` to `False` in the constructor of `TPESampler`, if this independent sampling is intended behavior.\u001b[0m\n"
     ]
    },
    {
     "name": "stdout",
     "output_type": "stream",
     "text": [
      "The parameter 'gamma' in trial#194 is sampled independently instead of being sampled by multivariate TPE sampler. (optimization performance may be degraded). You can suppress this warning by setting `warn_independent_sampling` to `False` in the constructor of `TPESampler`, if this independent sampling is intended behavior.\n"
     ]
    },
    {
     "name": "stderr",
     "output_type": "stream",
     "text": [
      "\u001b[33m[W 2022-05-05 04:26:31,784]\u001b[0m The parameter 'grow_policy' in trial#194 is sampled independently instead of being sampled by multivariate TPE sampler. (optimization performance may be degraded). You can suppress this warning by setting `warn_independent_sampling` to `False` in the constructor of `TPESampler`, if this independent sampling is intended behavior.\u001b[0m\n"
     ]
    },
    {
     "name": "stdout",
     "output_type": "stream",
     "text": [
      "The parameter 'grow_policy' in trial#194 is sampled independently instead of being sampled by multivariate TPE sampler. (optimization performance may be degraded). You can suppress this warning by setting `warn_independent_sampling` to `False` in the constructor of `TPESampler`, if this independent sampling is intended behavior.\n"
     ]
    },
    {
     "name": "stderr",
     "output_type": "stream",
     "text": [
      "\u001b[33m[W 2022-05-05 04:26:31,836]\u001b[0m The parameter 'sample_type' in trial#194 is sampled independently instead of being sampled by multivariate TPE sampler. (optimization performance may be degraded). You can suppress this warning by setting `warn_independent_sampling` to `False` in the constructor of `TPESampler`, if this independent sampling is intended behavior.\u001b[0m\n"
     ]
    },
    {
     "name": "stdout",
     "output_type": "stream",
     "text": [
      "The parameter 'sample_type' in trial#194 is sampled independently instead of being sampled by multivariate TPE sampler. (optimization performance may be degraded). You can suppress this warning by setting `warn_independent_sampling` to `False` in the constructor of `TPESampler`, if this independent sampling is intended behavior.\n"
     ]
    },
    {
     "name": "stderr",
     "output_type": "stream",
     "text": [
      "\u001b[33m[W 2022-05-05 04:26:31,883]\u001b[0m The parameter 'normalize_type' in trial#194 is sampled independently instead of being sampled by multivariate TPE sampler. (optimization performance may be degraded). You can suppress this warning by setting `warn_independent_sampling` to `False` in the constructor of `TPESampler`, if this independent sampling is intended behavior.\u001b[0m\n"
     ]
    },
    {
     "name": "stdout",
     "output_type": "stream",
     "text": [
      "The parameter 'normalize_type' in trial#194 is sampled independently instead of being sampled by multivariate TPE sampler. (optimization performance may be degraded). You can suppress this warning by setting `warn_independent_sampling` to `False` in the constructor of `TPESampler`, if this independent sampling is intended behavior.\n"
     ]
    },
    {
     "name": "stderr",
     "output_type": "stream",
     "text": [
      "\u001b[33m[W 2022-05-05 04:26:31,930]\u001b[0m The parameter 'rate_drop' in trial#194 is sampled independently instead of being sampled by multivariate TPE sampler. (optimization performance may be degraded). You can suppress this warning by setting `warn_independent_sampling` to `False` in the constructor of `TPESampler`, if this independent sampling is intended behavior.\u001b[0m\n"
     ]
    },
    {
     "name": "stdout",
     "output_type": "stream",
     "text": [
      "The parameter 'rate_drop' in trial#194 is sampled independently instead of being sampled by multivariate TPE sampler. (optimization performance may be degraded). You can suppress this warning by setting `warn_independent_sampling` to `False` in the constructor of `TPESampler`, if this independent sampling is intended behavior.\n"
     ]
    },
    {
     "name": "stderr",
     "output_type": "stream",
     "text": [
      "\u001b[33m[W 2022-05-05 04:26:31,989]\u001b[0m The parameter 'skip_drop' in trial#194 is sampled independently instead of being sampled by multivariate TPE sampler. (optimization performance may be degraded). You can suppress this warning by setting `warn_independent_sampling` to `False` in the constructor of `TPESampler`, if this independent sampling is intended behavior.\u001b[0m\n"
     ]
    },
    {
     "name": "stdout",
     "output_type": "stream",
     "text": [
      "The parameter 'skip_drop' in trial#194 is sampled independently instead of being sampled by multivariate TPE sampler. (optimization performance may be degraded). You can suppress this warning by setting `warn_independent_sampling` to `False` in the constructor of `TPESampler`, if this independent sampling is intended behavior.\n",
      "\n",
      "===== TRIAL #194 =====\n",
      "Fingerprint: ECFP2\n",
      "Booster: dart\n",
      "Lambda: 0.00010064650314254607\n",
      "Alpha: 0.009173285891446161\n"
     ]
    },
    {
     "name": "stderr",
     "output_type": "stream",
     "text": [
      "\u001b[32m[I 2022-05-05 04:29:41,688]\u001b[0m Trial 194 finished with value: 0.9084158362699482 and parameters: {'mol_dst': 'ECFP2', 'booster': 'dart', 'lambda': 0.00010064650314254607, 'alpha': 0.009173285891446161, 'max_depth': 7, 'eta': 0.09646264872555807, 'gamma': 0.6238050291158176, 'grow_policy': 'depthwise', 'sample_type': 'weighted', 'normalize_type': 'tree', 'rate_drop': 1.159631911271924e-06, 'skip_drop': 1.6822722097843067e-07}. Best is trial 153 with value: 0.919911132859976.\u001b[0m\n"
     ]
    },
    {
     "name": "stdout",
     "output_type": "stream",
     "text": [
      "Trial 194 finished with value: 0.9084158362699482 and parameters: {'mol_dst': 'ECFP2', 'booster': 'dart', 'lambda': 0.00010064650314254607, 'alpha': 0.009173285891446161, 'max_depth': 7, 'eta': 0.09646264872555807, 'gamma': 0.6238050291158176, 'grow_policy': 'depthwise', 'sample_type': 'weighted', 'normalize_type': 'tree', 'rate_drop': 1.159631911271924e-06, 'skip_drop': 1.6822722097843067e-07}. Best is trial 153 with value: 0.919911132859976.\n"
     ]
    },
    {
     "name": "stderr",
     "output_type": "stream",
     "text": [
      "\u001b[33m[W 2022-05-05 04:29:42,136]\u001b[0m The parameter 'max_depth' in trial#195 is sampled independently instead of being sampled by multivariate TPE sampler. (optimization performance may be degraded). You can suppress this warning by setting `warn_independent_sampling` to `False` in the constructor of `TPESampler`, if this independent sampling is intended behavior.\u001b[0m\n"
     ]
    },
    {
     "name": "stdout",
     "output_type": "stream",
     "text": [
      "The parameter 'max_depth' in trial#195 is sampled independently instead of being sampled by multivariate TPE sampler. (optimization performance may be degraded). You can suppress this warning by setting `warn_independent_sampling` to `False` in the constructor of `TPESampler`, if this independent sampling is intended behavior.\n"
     ]
    },
    {
     "name": "stderr",
     "output_type": "stream",
     "text": [
      "\u001b[33m[W 2022-05-05 04:29:42,195]\u001b[0m The parameter 'eta' in trial#195 is sampled independently instead of being sampled by multivariate TPE sampler. (optimization performance may be degraded). You can suppress this warning by setting `warn_independent_sampling` to `False` in the constructor of `TPESampler`, if this independent sampling is intended behavior.\u001b[0m\n"
     ]
    },
    {
     "name": "stdout",
     "output_type": "stream",
     "text": [
      "The parameter 'eta' in trial#195 is sampled independently instead of being sampled by multivariate TPE sampler. (optimization performance may be degraded). You can suppress this warning by setting `warn_independent_sampling` to `False` in the constructor of `TPESampler`, if this independent sampling is intended behavior.\n"
     ]
    },
    {
     "name": "stderr",
     "output_type": "stream",
     "text": [
      "\u001b[33m[W 2022-05-05 04:29:42,257]\u001b[0m The parameter 'gamma' in trial#195 is sampled independently instead of being sampled by multivariate TPE sampler. (optimization performance may be degraded). You can suppress this warning by setting `warn_independent_sampling` to `False` in the constructor of `TPESampler`, if this independent sampling is intended behavior.\u001b[0m\n"
     ]
    },
    {
     "name": "stdout",
     "output_type": "stream",
     "text": [
      "The parameter 'gamma' in trial#195 is sampled independently instead of being sampled by multivariate TPE sampler. (optimization performance may be degraded). You can suppress this warning by setting `warn_independent_sampling` to `False` in the constructor of `TPESampler`, if this independent sampling is intended behavior.\n"
     ]
    },
    {
     "name": "stderr",
     "output_type": "stream",
     "text": [
      "\u001b[33m[W 2022-05-05 04:29:42,319]\u001b[0m The parameter 'grow_policy' in trial#195 is sampled independently instead of being sampled by multivariate TPE sampler. (optimization performance may be degraded). You can suppress this warning by setting `warn_independent_sampling` to `False` in the constructor of `TPESampler`, if this independent sampling is intended behavior.\u001b[0m\n"
     ]
    },
    {
     "name": "stdout",
     "output_type": "stream",
     "text": [
      "The parameter 'grow_policy' in trial#195 is sampled independently instead of being sampled by multivariate TPE sampler. (optimization performance may be degraded). You can suppress this warning by setting `warn_independent_sampling` to `False` in the constructor of `TPESampler`, if this independent sampling is intended behavior.\n"
     ]
    },
    {
     "name": "stderr",
     "output_type": "stream",
     "text": [
      "\u001b[33m[W 2022-05-05 04:29:42,370]\u001b[0m The parameter 'sample_type' in trial#195 is sampled independently instead of being sampled by multivariate TPE sampler. (optimization performance may be degraded). You can suppress this warning by setting `warn_independent_sampling` to `False` in the constructor of `TPESampler`, if this independent sampling is intended behavior.\u001b[0m\n"
     ]
    },
    {
     "name": "stdout",
     "output_type": "stream",
     "text": [
      "The parameter 'sample_type' in trial#195 is sampled independently instead of being sampled by multivariate TPE sampler. (optimization performance may be degraded). You can suppress this warning by setting `warn_independent_sampling` to `False` in the constructor of `TPESampler`, if this independent sampling is intended behavior.\n"
     ]
    },
    {
     "name": "stderr",
     "output_type": "stream",
     "text": [
      "\u001b[33m[W 2022-05-05 04:29:42,421]\u001b[0m The parameter 'normalize_type' in trial#195 is sampled independently instead of being sampled by multivariate TPE sampler. (optimization performance may be degraded). You can suppress this warning by setting `warn_independent_sampling` to `False` in the constructor of `TPESampler`, if this independent sampling is intended behavior.\u001b[0m\n"
     ]
    },
    {
     "name": "stdout",
     "output_type": "stream",
     "text": [
      "The parameter 'normalize_type' in trial#195 is sampled independently instead of being sampled by multivariate TPE sampler. (optimization performance may be degraded). You can suppress this warning by setting `warn_independent_sampling` to `False` in the constructor of `TPESampler`, if this independent sampling is intended behavior.\n"
     ]
    },
    {
     "name": "stderr",
     "output_type": "stream",
     "text": [
      "\u001b[33m[W 2022-05-05 04:29:42,474]\u001b[0m The parameter 'rate_drop' in trial#195 is sampled independently instead of being sampled by multivariate TPE sampler. (optimization performance may be degraded). You can suppress this warning by setting `warn_independent_sampling` to `False` in the constructor of `TPESampler`, if this independent sampling is intended behavior.\u001b[0m\n"
     ]
    },
    {
     "name": "stdout",
     "output_type": "stream",
     "text": [
      "The parameter 'rate_drop' in trial#195 is sampled independently instead of being sampled by multivariate TPE sampler. (optimization performance may be degraded). You can suppress this warning by setting `warn_independent_sampling` to `False` in the constructor of `TPESampler`, if this independent sampling is intended behavior.\n"
     ]
    },
    {
     "name": "stderr",
     "output_type": "stream",
     "text": [
      "\u001b[33m[W 2022-05-05 04:29:42,535]\u001b[0m The parameter 'skip_drop' in trial#195 is sampled independently instead of being sampled by multivariate TPE sampler. (optimization performance may be degraded). You can suppress this warning by setting `warn_independent_sampling` to `False` in the constructor of `TPESampler`, if this independent sampling is intended behavior.\u001b[0m\n"
     ]
    },
    {
     "name": "stdout",
     "output_type": "stream",
     "text": [
      "The parameter 'skip_drop' in trial#195 is sampled independently instead of being sampled by multivariate TPE sampler. (optimization performance may be degraded). You can suppress this warning by setting `warn_independent_sampling` to `False` in the constructor of `TPESampler`, if this independent sampling is intended behavior.\n",
      "\n",
      "===== TRIAL #195 =====\n",
      "Fingerprint: RDKit2D\n",
      "Booster: dart\n",
      "Lambda: 0.0010991961842956783\n",
      "Alpha: 0.8853039184127243\n"
     ]
    },
    {
     "name": "stderr",
     "output_type": "stream",
     "text": [
      "\u001b[32m[I 2022-05-05 04:33:16,556]\u001b[0m Trial 195 finished with value: 0.9162363700098156 and parameters: {'mol_dst': 'RDKit2D', 'booster': 'dart', 'lambda': 0.0010991961842956783, 'alpha': 0.8853039184127243, 'max_depth': 6, 'eta': 0.10889600762067936, 'gamma': 0.9050233308858067, 'grow_policy': 'depthwise', 'sample_type': 'uniform', 'normalize_type': 'forest', 'rate_drop': 1.2875519776124254e-05, 'skip_drop': 1.2312995229663504e-07}. Best is trial 153 with value: 0.919911132859976.\u001b[0m\n"
     ]
    },
    {
     "name": "stdout",
     "output_type": "stream",
     "text": [
      "Trial 195 finished with value: 0.9162363700098156 and parameters: {'mol_dst': 'RDKit2D', 'booster': 'dart', 'lambda': 0.0010991961842956783, 'alpha': 0.8853039184127243, 'max_depth': 6, 'eta': 0.10889600762067936, 'gamma': 0.9050233308858067, 'grow_policy': 'depthwise', 'sample_type': 'uniform', 'normalize_type': 'forest', 'rate_drop': 1.2875519776124254e-05, 'skip_drop': 1.2312995229663504e-07}. Best is trial 153 with value: 0.919911132859976.\n"
     ]
    },
    {
     "name": "stderr",
     "output_type": "stream",
     "text": [
      "\u001b[33m[W 2022-05-05 04:33:16,917]\u001b[0m The parameter 'max_depth' in trial#196 is sampled independently instead of being sampled by multivariate TPE sampler. (optimization performance may be degraded). You can suppress this warning by setting `warn_independent_sampling` to `False` in the constructor of `TPESampler`, if this independent sampling is intended behavior.\u001b[0m\n"
     ]
    },
    {
     "name": "stdout",
     "output_type": "stream",
     "text": [
      "The parameter 'max_depth' in trial#196 is sampled independently instead of being sampled by multivariate TPE sampler. (optimization performance may be degraded). You can suppress this warning by setting `warn_independent_sampling` to `False` in the constructor of `TPESampler`, if this independent sampling is intended behavior.\n"
     ]
    },
    {
     "name": "stderr",
     "output_type": "stream",
     "text": [
      "\u001b[33m[W 2022-05-05 04:33:16,973]\u001b[0m The parameter 'eta' in trial#196 is sampled independently instead of being sampled by multivariate TPE sampler. (optimization performance may be degraded). You can suppress this warning by setting `warn_independent_sampling` to `False` in the constructor of `TPESampler`, if this independent sampling is intended behavior.\u001b[0m\n"
     ]
    },
    {
     "name": "stdout",
     "output_type": "stream",
     "text": [
      "The parameter 'eta' in trial#196 is sampled independently instead of being sampled by multivariate TPE sampler. (optimization performance may be degraded). You can suppress this warning by setting `warn_independent_sampling` to `False` in the constructor of `TPESampler`, if this independent sampling is intended behavior.\n"
     ]
    },
    {
     "name": "stderr",
     "output_type": "stream",
     "text": [
      "\u001b[33m[W 2022-05-05 04:33:17,031]\u001b[0m The parameter 'gamma' in trial#196 is sampled independently instead of being sampled by multivariate TPE sampler. (optimization performance may be degraded). You can suppress this warning by setting `warn_independent_sampling` to `False` in the constructor of `TPESampler`, if this independent sampling is intended behavior.\u001b[0m\n"
     ]
    },
    {
     "name": "stdout",
     "output_type": "stream",
     "text": [
      "The parameter 'gamma' in trial#196 is sampled independently instead of being sampled by multivariate TPE sampler. (optimization performance may be degraded). You can suppress this warning by setting `warn_independent_sampling` to `False` in the constructor of `TPESampler`, if this independent sampling is intended behavior.\n"
     ]
    },
    {
     "name": "stderr",
     "output_type": "stream",
     "text": [
      "\u001b[33m[W 2022-05-05 04:33:17,101]\u001b[0m The parameter 'grow_policy' in trial#196 is sampled independently instead of being sampled by multivariate TPE sampler. (optimization performance may be degraded). You can suppress this warning by setting `warn_independent_sampling` to `False` in the constructor of `TPESampler`, if this independent sampling is intended behavior.\u001b[0m\n"
     ]
    },
    {
     "name": "stdout",
     "output_type": "stream",
     "text": [
      "The parameter 'grow_policy' in trial#196 is sampled independently instead of being sampled by multivariate TPE sampler. (optimization performance may be degraded). You can suppress this warning by setting `warn_independent_sampling` to `False` in the constructor of `TPESampler`, if this independent sampling is intended behavior.\n",
      "\n",
      "===== TRIAL #196 =====\n",
      "Fingerprint: RDKit2D\n",
      "Booster: gbtree\n",
      "Lambda: 0.021985255202759263\n",
      "Alpha: 0.8438238529164751\n"
     ]
    },
    {
     "name": "stderr",
     "output_type": "stream",
     "text": [
      "\u001b[32m[I 2022-05-05 04:36:59,191]\u001b[0m Trial 196 finished with value: 0.9080598029294901 and parameters: {'mol_dst': 'RDKit2D', 'booster': 'gbtree', 'lambda': 0.021985255202759263, 'alpha': 0.8438238529164751, 'max_depth': 8, 'eta': 0.021964133317141248, 'gamma': 0.0825081301457311, 'grow_policy': 'depthwise'}. Best is trial 153 with value: 0.919911132859976.\u001b[0m\n"
     ]
    },
    {
     "name": "stdout",
     "output_type": "stream",
     "text": [
      "Trial 196 finished with value: 0.9080598029294901 and parameters: {'mol_dst': 'RDKit2D', 'booster': 'gbtree', 'lambda': 0.021985255202759263, 'alpha': 0.8438238529164751, 'max_depth': 8, 'eta': 0.021964133317141248, 'gamma': 0.0825081301457311, 'grow_policy': 'depthwise'}. Best is trial 153 with value: 0.919911132859976.\n"
     ]
    },
    {
     "name": "stderr",
     "output_type": "stream",
     "text": [
      "\u001b[33m[W 2022-05-05 04:36:59,632]\u001b[0m The parameter 'max_depth' in trial#197 is sampled independently instead of being sampled by multivariate TPE sampler. (optimization performance may be degraded). You can suppress this warning by setting `warn_independent_sampling` to `False` in the constructor of `TPESampler`, if this independent sampling is intended behavior.\u001b[0m\n"
     ]
    },
    {
     "name": "stdout",
     "output_type": "stream",
     "text": [
      "The parameter 'max_depth' in trial#197 is sampled independently instead of being sampled by multivariate TPE sampler. (optimization performance may be degraded). You can suppress this warning by setting `warn_independent_sampling` to `False` in the constructor of `TPESampler`, if this independent sampling is intended behavior.\n"
     ]
    },
    {
     "name": "stderr",
     "output_type": "stream",
     "text": [
      "\u001b[33m[W 2022-05-05 04:36:59,695]\u001b[0m The parameter 'eta' in trial#197 is sampled independently instead of being sampled by multivariate TPE sampler. (optimization performance may be degraded). You can suppress this warning by setting `warn_independent_sampling` to `False` in the constructor of `TPESampler`, if this independent sampling is intended behavior.\u001b[0m\n"
     ]
    },
    {
     "name": "stdout",
     "output_type": "stream",
     "text": [
      "The parameter 'eta' in trial#197 is sampled independently instead of being sampled by multivariate TPE sampler. (optimization performance may be degraded). You can suppress this warning by setting `warn_independent_sampling` to `False` in the constructor of `TPESampler`, if this independent sampling is intended behavior.\n"
     ]
    },
    {
     "name": "stderr",
     "output_type": "stream",
     "text": [
      "\u001b[33m[W 2022-05-05 04:36:59,768]\u001b[0m The parameter 'gamma' in trial#197 is sampled independently instead of being sampled by multivariate TPE sampler. (optimization performance may be degraded). You can suppress this warning by setting `warn_independent_sampling` to `False` in the constructor of `TPESampler`, if this independent sampling is intended behavior.\u001b[0m\n"
     ]
    },
    {
     "name": "stdout",
     "output_type": "stream",
     "text": [
      "The parameter 'gamma' in trial#197 is sampled independently instead of being sampled by multivariate TPE sampler. (optimization performance may be degraded). You can suppress this warning by setting `warn_independent_sampling` to `False` in the constructor of `TPESampler`, if this independent sampling is intended behavior.\n"
     ]
    },
    {
     "name": "stderr",
     "output_type": "stream",
     "text": [
      "\u001b[33m[W 2022-05-05 04:36:59,833]\u001b[0m The parameter 'grow_policy' in trial#197 is sampled independently instead of being sampled by multivariate TPE sampler. (optimization performance may be degraded). You can suppress this warning by setting `warn_independent_sampling` to `False` in the constructor of `TPESampler`, if this independent sampling is intended behavior.\u001b[0m\n"
     ]
    },
    {
     "name": "stdout",
     "output_type": "stream",
     "text": [
      "The parameter 'grow_policy' in trial#197 is sampled independently instead of being sampled by multivariate TPE sampler. (optimization performance may be degraded). You can suppress this warning by setting `warn_independent_sampling` to `False` in the constructor of `TPESampler`, if this independent sampling is intended behavior.\n"
     ]
    },
    {
     "name": "stderr",
     "output_type": "stream",
     "text": [
      "\u001b[33m[W 2022-05-05 04:36:59,884]\u001b[0m The parameter 'sample_type' in trial#197 is sampled independently instead of being sampled by multivariate TPE sampler. (optimization performance may be degraded). You can suppress this warning by setting `warn_independent_sampling` to `False` in the constructor of `TPESampler`, if this independent sampling is intended behavior.\u001b[0m\n"
     ]
    },
    {
     "name": "stdout",
     "output_type": "stream",
     "text": [
      "The parameter 'sample_type' in trial#197 is sampled independently instead of being sampled by multivariate TPE sampler. (optimization performance may be degraded). You can suppress this warning by setting `warn_independent_sampling` to `False` in the constructor of `TPESampler`, if this independent sampling is intended behavior.\n"
     ]
    },
    {
     "name": "stderr",
     "output_type": "stream",
     "text": [
      "\u001b[33m[W 2022-05-05 04:36:59,937]\u001b[0m The parameter 'normalize_type' in trial#197 is sampled independently instead of being sampled by multivariate TPE sampler. (optimization performance may be degraded). You can suppress this warning by setting `warn_independent_sampling` to `False` in the constructor of `TPESampler`, if this independent sampling is intended behavior.\u001b[0m\n"
     ]
    },
    {
     "name": "stdout",
     "output_type": "stream",
     "text": [
      "The parameter 'normalize_type' in trial#197 is sampled independently instead of being sampled by multivariate TPE sampler. (optimization performance may be degraded). You can suppress this warning by setting `warn_independent_sampling` to `False` in the constructor of `TPESampler`, if this independent sampling is intended behavior.\n"
     ]
    },
    {
     "name": "stderr",
     "output_type": "stream",
     "text": [
      "\u001b[33m[W 2022-05-05 04:36:59,988]\u001b[0m The parameter 'rate_drop' in trial#197 is sampled independently instead of being sampled by multivariate TPE sampler. (optimization performance may be degraded). You can suppress this warning by setting `warn_independent_sampling` to `False` in the constructor of `TPESampler`, if this independent sampling is intended behavior.\u001b[0m\n"
     ]
    },
    {
     "name": "stdout",
     "output_type": "stream",
     "text": [
      "The parameter 'rate_drop' in trial#197 is sampled independently instead of being sampled by multivariate TPE sampler. (optimization performance may be degraded). You can suppress this warning by setting `warn_independent_sampling` to `False` in the constructor of `TPESampler`, if this independent sampling is intended behavior.\n"
     ]
    },
    {
     "name": "stderr",
     "output_type": "stream",
     "text": [
      "\u001b[33m[W 2022-05-05 04:37:00,056]\u001b[0m The parameter 'skip_drop' in trial#197 is sampled independently instead of being sampled by multivariate TPE sampler. (optimization performance may be degraded). You can suppress this warning by setting `warn_independent_sampling` to `False` in the constructor of `TPESampler`, if this independent sampling is intended behavior.\u001b[0m\n"
     ]
    },
    {
     "name": "stdout",
     "output_type": "stream",
     "text": [
      "The parameter 'skip_drop' in trial#197 is sampled independently instead of being sampled by multivariate TPE sampler. (optimization performance may be degraded). You can suppress this warning by setting `warn_independent_sampling` to `False` in the constructor of `TPESampler`, if this independent sampling is intended behavior.\n",
      "\n",
      "===== TRIAL #197 =====\n",
      "Fingerprint: RDKit2D\n",
      "Booster: dart\n",
      "Lambda: 0.023508720066430438\n",
      "Alpha: 0.8101373129286865\n"
     ]
    },
    {
     "name": "stderr",
     "output_type": "stream",
     "text": [
      "\u001b[32m[I 2022-05-05 04:40:40,688]\u001b[0m Trial 197 finished with value: 0.908537941483282 and parameters: {'mol_dst': 'RDKit2D', 'booster': 'dart', 'lambda': 0.023508720066430438, 'alpha': 0.8101373129286865, 'max_depth': 7, 'eta': 0.87148391255241, 'gamma': 0.05267331155053599, 'grow_policy': 'depthwise', 'sample_type': 'weighted', 'normalize_type': 'forest', 'rate_drop': 0.02776909549641725, 'skip_drop': 8.273002185872807e-08}. Best is trial 153 with value: 0.919911132859976.\u001b[0m\n"
     ]
    },
    {
     "name": "stdout",
     "output_type": "stream",
     "text": [
      "Trial 197 finished with value: 0.908537941483282 and parameters: {'mol_dst': 'RDKit2D', 'booster': 'dart', 'lambda': 0.023508720066430438, 'alpha': 0.8101373129286865, 'max_depth': 7, 'eta': 0.87148391255241, 'gamma': 0.05267331155053599, 'grow_policy': 'depthwise', 'sample_type': 'weighted', 'normalize_type': 'forest', 'rate_drop': 0.02776909549641725, 'skip_drop': 8.273002185872807e-08}. Best is trial 153 with value: 0.919911132859976.\n"
     ]
    },
    {
     "name": "stderr",
     "output_type": "stream",
     "text": [
      "\u001b[33m[W 2022-05-05 04:40:41,044]\u001b[0m The parameter 'max_depth' in trial#198 is sampled independently instead of being sampled by multivariate TPE sampler. (optimization performance may be degraded). You can suppress this warning by setting `warn_independent_sampling` to `False` in the constructor of `TPESampler`, if this independent sampling is intended behavior.\u001b[0m\n"
     ]
    },
    {
     "name": "stdout",
     "output_type": "stream",
     "text": [
      "The parameter 'max_depth' in trial#198 is sampled independently instead of being sampled by multivariate TPE sampler. (optimization performance may be degraded). You can suppress this warning by setting `warn_independent_sampling` to `False` in the constructor of `TPESampler`, if this independent sampling is intended behavior.\n"
     ]
    },
    {
     "name": "stderr",
     "output_type": "stream",
     "text": [
      "\u001b[33m[W 2022-05-05 04:40:41,103]\u001b[0m The parameter 'eta' in trial#198 is sampled independently instead of being sampled by multivariate TPE sampler. (optimization performance may be degraded). You can suppress this warning by setting `warn_independent_sampling` to `False` in the constructor of `TPESampler`, if this independent sampling is intended behavior.\u001b[0m\n"
     ]
    },
    {
     "name": "stdout",
     "output_type": "stream",
     "text": [
      "The parameter 'eta' in trial#198 is sampled independently instead of being sampled by multivariate TPE sampler. (optimization performance may be degraded). You can suppress this warning by setting `warn_independent_sampling` to `False` in the constructor of `TPESampler`, if this independent sampling is intended behavior.\n"
     ]
    },
    {
     "name": "stderr",
     "output_type": "stream",
     "text": [
      "\u001b[33m[W 2022-05-05 04:40:41,162]\u001b[0m The parameter 'gamma' in trial#198 is sampled independently instead of being sampled by multivariate TPE sampler. (optimization performance may be degraded). You can suppress this warning by setting `warn_independent_sampling` to `False` in the constructor of `TPESampler`, if this independent sampling is intended behavior.\u001b[0m\n"
     ]
    },
    {
     "name": "stdout",
     "output_type": "stream",
     "text": [
      "The parameter 'gamma' in trial#198 is sampled independently instead of being sampled by multivariate TPE sampler. (optimization performance may be degraded). You can suppress this warning by setting `warn_independent_sampling` to `False` in the constructor of `TPESampler`, if this independent sampling is intended behavior.\n"
     ]
    },
    {
     "name": "stderr",
     "output_type": "stream",
     "text": [
      "\u001b[33m[W 2022-05-05 04:40:41,233]\u001b[0m The parameter 'grow_policy' in trial#198 is sampled independently instead of being sampled by multivariate TPE sampler. (optimization performance may be degraded). You can suppress this warning by setting `warn_independent_sampling` to `False` in the constructor of `TPESampler`, if this independent sampling is intended behavior.\u001b[0m\n"
     ]
    },
    {
     "name": "stdout",
     "output_type": "stream",
     "text": [
      "The parameter 'grow_policy' in trial#198 is sampled independently instead of being sampled by multivariate TPE sampler. (optimization performance may be degraded). You can suppress this warning by setting `warn_independent_sampling` to `False` in the constructor of `TPESampler`, if this independent sampling is intended behavior.\n"
     ]
    },
    {
     "name": "stderr",
     "output_type": "stream",
     "text": [
      "\u001b[33m[W 2022-05-05 04:40:41,279]\u001b[0m The parameter 'sample_type' in trial#198 is sampled independently instead of being sampled by multivariate TPE sampler. (optimization performance may be degraded). You can suppress this warning by setting `warn_independent_sampling` to `False` in the constructor of `TPESampler`, if this independent sampling is intended behavior.\u001b[0m\n"
     ]
    },
    {
     "name": "stdout",
     "output_type": "stream",
     "text": [
      "The parameter 'sample_type' in trial#198 is sampled independently instead of being sampled by multivariate TPE sampler. (optimization performance may be degraded). You can suppress this warning by setting `warn_independent_sampling` to `False` in the constructor of `TPESampler`, if this independent sampling is intended behavior.\n"
     ]
    },
    {
     "name": "stderr",
     "output_type": "stream",
     "text": [
      "\u001b[33m[W 2022-05-05 04:40:41,341]\u001b[0m The parameter 'normalize_type' in trial#198 is sampled independently instead of being sampled by multivariate TPE sampler. (optimization performance may be degraded). You can suppress this warning by setting `warn_independent_sampling` to `False` in the constructor of `TPESampler`, if this independent sampling is intended behavior.\u001b[0m\n"
     ]
    },
    {
     "name": "stdout",
     "output_type": "stream",
     "text": [
      "The parameter 'normalize_type' in trial#198 is sampled independently instead of being sampled by multivariate TPE sampler. (optimization performance may be degraded). You can suppress this warning by setting `warn_independent_sampling` to `False` in the constructor of `TPESampler`, if this independent sampling is intended behavior.\n"
     ]
    },
    {
     "name": "stderr",
     "output_type": "stream",
     "text": [
      "\u001b[33m[W 2022-05-05 04:40:41,389]\u001b[0m The parameter 'rate_drop' in trial#198 is sampled independently instead of being sampled by multivariate TPE sampler. (optimization performance may be degraded). You can suppress this warning by setting `warn_independent_sampling` to `False` in the constructor of `TPESampler`, if this independent sampling is intended behavior.\u001b[0m\n"
     ]
    },
    {
     "name": "stdout",
     "output_type": "stream",
     "text": [
      "The parameter 'rate_drop' in trial#198 is sampled independently instead of being sampled by multivariate TPE sampler. (optimization performance may be degraded). You can suppress this warning by setting `warn_independent_sampling` to `False` in the constructor of `TPESampler`, if this independent sampling is intended behavior.\n"
     ]
    },
    {
     "name": "stderr",
     "output_type": "stream",
     "text": [
      "\u001b[33m[W 2022-05-05 04:40:41,455]\u001b[0m The parameter 'skip_drop' in trial#198 is sampled independently instead of being sampled by multivariate TPE sampler. (optimization performance may be degraded). You can suppress this warning by setting `warn_independent_sampling` to `False` in the constructor of `TPESampler`, if this independent sampling is intended behavior.\u001b[0m\n"
     ]
    },
    {
     "name": "stdout",
     "output_type": "stream",
     "text": [
      "The parameter 'skip_drop' in trial#198 is sampled independently instead of being sampled by multivariate TPE sampler. (optimization performance may be degraded). You can suppress this warning by setting `warn_independent_sampling` to `False` in the constructor of `TPESampler`, if this independent sampling is intended behavior.\n",
      "\n",
      "===== TRIAL #198 =====\n",
      "Fingerprint: RDKit2D\n",
      "Booster: dart\n",
      "Lambda: 0.00019550734267313668\n",
      "Alpha: 0.13332840240899707\n"
     ]
    },
    {
     "name": "stderr",
     "output_type": "stream",
     "text": [
      "\u001b[32m[I 2022-05-05 04:44:40,922]\u001b[0m Trial 198 finished with value: 0.9143688347297779 and parameters: {'mol_dst': 'RDKit2D', 'booster': 'dart', 'lambda': 0.00019550734267313668, 'alpha': 0.13332840240899707, 'max_depth': 5, 'eta': 0.06497993637341293, 'gamma': 0.06431650180292305, 'grow_policy': 'depthwise', 'sample_type': 'weighted', 'normalize_type': 'forest', 'rate_drop': 1.0382110074329812e-05, 'skip_drop': 9.204488403601544e-07}. Best is trial 153 with value: 0.919911132859976.\u001b[0m\n"
     ]
    },
    {
     "name": "stdout",
     "output_type": "stream",
     "text": [
      "Trial 198 finished with value: 0.9143688347297779 and parameters: {'mol_dst': 'RDKit2D', 'booster': 'dart', 'lambda': 0.00019550734267313668, 'alpha': 0.13332840240899707, 'max_depth': 5, 'eta': 0.06497993637341293, 'gamma': 0.06431650180292305, 'grow_policy': 'depthwise', 'sample_type': 'weighted', 'normalize_type': 'forest', 'rate_drop': 1.0382110074329812e-05, 'skip_drop': 9.204488403601544e-07}. Best is trial 153 with value: 0.919911132859976.\n"
     ]
    },
    {
     "name": "stderr",
     "output_type": "stream",
     "text": [
      "\u001b[33m[W 2022-05-05 04:44:41,310]\u001b[0m The parameter 'max_depth' in trial#199 is sampled independently instead of being sampled by multivariate TPE sampler. (optimization performance may be degraded). You can suppress this warning by setting `warn_independent_sampling` to `False` in the constructor of `TPESampler`, if this independent sampling is intended behavior.\u001b[0m\n"
     ]
    },
    {
     "name": "stdout",
     "output_type": "stream",
     "text": [
      "The parameter 'max_depth' in trial#199 is sampled independently instead of being sampled by multivariate TPE sampler. (optimization performance may be degraded). You can suppress this warning by setting `warn_independent_sampling` to `False` in the constructor of `TPESampler`, if this independent sampling is intended behavior.\n"
     ]
    },
    {
     "name": "stderr",
     "output_type": "stream",
     "text": [
      "\u001b[33m[W 2022-05-05 04:44:41,362]\u001b[0m The parameter 'eta' in trial#199 is sampled independently instead of being sampled by multivariate TPE sampler. (optimization performance may be degraded). You can suppress this warning by setting `warn_independent_sampling` to `False` in the constructor of `TPESampler`, if this independent sampling is intended behavior.\u001b[0m\n"
     ]
    },
    {
     "name": "stdout",
     "output_type": "stream",
     "text": [
      "The parameter 'eta' in trial#199 is sampled independently instead of being sampled by multivariate TPE sampler. (optimization performance may be degraded). You can suppress this warning by setting `warn_independent_sampling` to `False` in the constructor of `TPESampler`, if this independent sampling is intended behavior.\n"
     ]
    },
    {
     "name": "stderr",
     "output_type": "stream",
     "text": [
      "\u001b[33m[W 2022-05-05 04:44:41,422]\u001b[0m The parameter 'gamma' in trial#199 is sampled independently instead of being sampled by multivariate TPE sampler. (optimization performance may be degraded). You can suppress this warning by setting `warn_independent_sampling` to `False` in the constructor of `TPESampler`, if this independent sampling is intended behavior.\u001b[0m\n"
     ]
    },
    {
     "name": "stdout",
     "output_type": "stream",
     "text": [
      "The parameter 'gamma' in trial#199 is sampled independently instead of being sampled by multivariate TPE sampler. (optimization performance may be degraded). You can suppress this warning by setting `warn_independent_sampling` to `False` in the constructor of `TPESampler`, if this independent sampling is intended behavior.\n"
     ]
    },
    {
     "name": "stderr",
     "output_type": "stream",
     "text": [
      "\u001b[33m[W 2022-05-05 04:44:41,484]\u001b[0m The parameter 'grow_policy' in trial#199 is sampled independently instead of being sampled by multivariate TPE sampler. (optimization performance may be degraded). You can suppress this warning by setting `warn_independent_sampling` to `False` in the constructor of `TPESampler`, if this independent sampling is intended behavior.\u001b[0m\n"
     ]
    },
    {
     "name": "stdout",
     "output_type": "stream",
     "text": [
      "The parameter 'grow_policy' in trial#199 is sampled independently instead of being sampled by multivariate TPE sampler. (optimization performance may be degraded). You can suppress this warning by setting `warn_independent_sampling` to `False` in the constructor of `TPESampler`, if this independent sampling is intended behavior.\n"
     ]
    },
    {
     "name": "stderr",
     "output_type": "stream",
     "text": [
      "\u001b[33m[W 2022-05-05 04:44:41,535]\u001b[0m The parameter 'sample_type' in trial#199 is sampled independently instead of being sampled by multivariate TPE sampler. (optimization performance may be degraded). You can suppress this warning by setting `warn_independent_sampling` to `False` in the constructor of `TPESampler`, if this independent sampling is intended behavior.\u001b[0m\n"
     ]
    },
    {
     "name": "stdout",
     "output_type": "stream",
     "text": [
      "The parameter 'sample_type' in trial#199 is sampled independently instead of being sampled by multivariate TPE sampler. (optimization performance may be degraded). You can suppress this warning by setting `warn_independent_sampling` to `False` in the constructor of `TPESampler`, if this independent sampling is intended behavior.\n"
     ]
    },
    {
     "name": "stderr",
     "output_type": "stream",
     "text": [
      "\u001b[33m[W 2022-05-05 04:44:41,586]\u001b[0m The parameter 'normalize_type' in trial#199 is sampled independently instead of being sampled by multivariate TPE sampler. (optimization performance may be degraded). You can suppress this warning by setting `warn_independent_sampling` to `False` in the constructor of `TPESampler`, if this independent sampling is intended behavior.\u001b[0m\n"
     ]
    },
    {
     "name": "stdout",
     "output_type": "stream",
     "text": [
      "The parameter 'normalize_type' in trial#199 is sampled independently instead of being sampled by multivariate TPE sampler. (optimization performance may be degraded). You can suppress this warning by setting `warn_independent_sampling` to `False` in the constructor of `TPESampler`, if this independent sampling is intended behavior.\n"
     ]
    },
    {
     "name": "stderr",
     "output_type": "stream",
     "text": [
      "\u001b[33m[W 2022-05-05 04:44:41,638]\u001b[0m The parameter 'rate_drop' in trial#199 is sampled independently instead of being sampled by multivariate TPE sampler. (optimization performance may be degraded). You can suppress this warning by setting `warn_independent_sampling` to `False` in the constructor of `TPESampler`, if this independent sampling is intended behavior.\u001b[0m\n"
     ]
    },
    {
     "name": "stdout",
     "output_type": "stream",
     "text": [
      "The parameter 'rate_drop' in trial#199 is sampled independently instead of being sampled by multivariate TPE sampler. (optimization performance may be degraded). You can suppress this warning by setting `warn_independent_sampling` to `False` in the constructor of `TPESampler`, if this independent sampling is intended behavior.\n"
     ]
    },
    {
     "name": "stderr",
     "output_type": "stream",
     "text": [
      "\u001b[33m[W 2022-05-05 04:44:41,697]\u001b[0m The parameter 'skip_drop' in trial#199 is sampled independently instead of being sampled by multivariate TPE sampler. (optimization performance may be degraded). You can suppress this warning by setting `warn_independent_sampling` to `False` in the constructor of `TPESampler`, if this independent sampling is intended behavior.\u001b[0m\n"
     ]
    },
    {
     "name": "stdout",
     "output_type": "stream",
     "text": [
      "The parameter 'skip_drop' in trial#199 is sampled independently instead of being sampled by multivariate TPE sampler. (optimization performance may be degraded). You can suppress this warning by setting `warn_independent_sampling` to `False` in the constructor of `TPESampler`, if this independent sampling is intended behavior.\n",
      "\n",
      "===== TRIAL #199 =====\n",
      "Fingerprint: RDKit2D\n",
      "Booster: dart\n",
      "Lambda: 1.0483955250199568e-08\n",
      "Alpha: 0.021475564977481505\n"
     ]
    },
    {
     "name": "stderr",
     "output_type": "stream",
     "text": [
      "\u001b[32m[I 2022-05-05 04:48:29,362]\u001b[0m Trial 199 finished with value: 0.9164988069344286 and parameters: {'mol_dst': 'RDKit2D', 'booster': 'dart', 'lambda': 1.0483955250199568e-08, 'alpha': 0.021475564977481505, 'max_depth': 6, 'eta': 0.10688633066377497, 'gamma': 0.02933217643714755, 'grow_policy': 'depthwise', 'sample_type': 'weighted', 'normalize_type': 'forest', 'rate_drop': 6.9662847404648e-05, 'skip_drop': 1.1169103975742332e-08}. Best is trial 153 with value: 0.919911132859976.\u001b[0m\n"
     ]
    },
    {
     "name": "stdout",
     "output_type": "stream",
     "text": [
      "Trial 199 finished with value: 0.9164988069344286 and parameters: {'mol_dst': 'RDKit2D', 'booster': 'dart', 'lambda': 1.0483955250199568e-08, 'alpha': 0.021475564977481505, 'max_depth': 6, 'eta': 0.10688633066377497, 'gamma': 0.02933217643714755, 'grow_policy': 'depthwise', 'sample_type': 'weighted', 'normalize_type': 'forest', 'rate_drop': 6.9662847404648e-05, 'skip_drop': 1.1169103975742332e-08}. Best is trial 153 with value: 0.919911132859976.\n"
     ]
    }
   ],
   "source": [
    "# add stream handler of stdout to show the messages\n",
    "optuna.logging.get_logger(\"optuna\").addHandler(logging.StreamHandler(sys.stdout))\n",
    "\n",
    "# create study\n",
    "study_name = \"xgboost-study\"  # unique identifier of the study\n",
    "storage_name = \"sqlite:///{}.db\".format(study_dir + study_name)\n",
    "study = optuna.create_study(direction = \"maximize\", sampler = TPESampler(seed = 1234, multivariate = True), study_name = study_name, storage = storage_name, load_if_exists = True)\n",
    "\n",
    "# optimize hyperparameters\n",
    "study.optimize(objective, n_trials = 50, gc_after_trial = True)"
   ]
  },
  {
   "cell_type": "markdown",
   "metadata": {},
   "source": [
    "After training, I output Optuna trial results."
   ]
  },
  {
   "cell_type": "code",
   "execution_count": 7,
   "metadata": {},
   "outputs": [
    {
     "name": "stdout",
     "output_type": "stream",
     "text": [
      "\n",
      "Study Statistics:\n",
      "- Finished Trials:  200\n",
      "- Pruned Trials:  0\n",
      "- Complete Trials:  200\n",
      "\n",
      "Best Trial:\n",
      "- Number:  153\n",
      "- Value:  0.919911132859976\n",
      "- Hyperparameters: \n",
      "   - alpha: 0.12580288304890974\n",
      "   - booster: dart\n",
      "   - eta: 0.2041851588470187\n",
      "   - gamma: 1.1863210641172191e-08\n",
      "   - grow_policy: depthwise\n",
      "   - lambda: 0.06938857714778546\n",
      "   - max_depth: 8\n",
      "   - mol_dst: RDKit2D\n",
      "   - normalize_type: forest\n",
      "   - rate_drop: 1.694743713660247e-05\n",
      "   - sample_type: weighted\n",
      "   - skip_drop: 1.5978768990039328e-07\n"
     ]
    }
   ],
   "source": [
    "# get pruned and complete trials\n",
    "pruned_trials = [t for t in study.trials if t.state == optuna.trial.TrialState.PRUNED]\n",
    "complete_trials = [t for t in study.trials if t.state == optuna.trial.TrialState.COMPLETE]\n",
    "\n",
    "# print print study statistics\n",
    "print(\"\\nStudy Statistics:\")\n",
    "print(\"- Finished Trials: \", len(study.trials))\n",
    "print(\"- Pruned Trials: \", len(pruned_trials))\n",
    "print(\"- Complete Trials: \", len(complete_trials))\n",
    "\n",
    "print(\"\\nBest Trial:\")\n",
    "best_trial = study.best_trial\n",
    "print(\"- Number: \", best_trial.number)\n",
    "print(\"- Value: \", best_trial.value)\n",
    "print(\"- Hyperparameters: \")\n",
    "for key, value in best_trial.params.items():\n",
    "    print(\"   - {}: {}\".format(key, value))\n",
    "\n",
    "# save and view output\n",
    "study_results = study.trials_dataframe(attrs=(\"number\", \"value\", \"params\", \"state\"))\n",
    "study_results.to_csv(optuna_dir + \"{}.{}_{}.{}.{}_OptunaHistory.csv\".format(my_time.hour, my_time.minute, my_time.month, my_time.day, my_time.year))"
   ]
  },
  {
   "cell_type": "markdown",
   "metadata": {},
   "source": [
    "I visualize the Optuna trial iterations."
   ]
  },
  {
   "cell_type": "code",
   "execution_count": 8,
   "metadata": {},
   "outputs": [
    {
     "data": {
      "image/png": "[encoded data removed]",
      "text/plain": [
       "<Figure size 432x288 with 1 Axes>"
      ]
     },
     "metadata": {
      "needs_background": "light"
     },
     "output_type": "display_data"
    },
    {
     "data": {
      "image/png": "[encoded data removed]",
      "text/plain": [
       "<Figure size 432x288 with 1 Axes>"
      ]
     },
     "metadata": {},
     "output_type": "display_data"
    },
    {
     "data": {
      "image/png": "[encoded data removed]",
      "text/plain": [
       "<Figure size 2592x288 with 13 Axes>"
      ]
     },
     "metadata": {},
     "output_type": "display_data"
    }
   ],
   "source": [
    "v1 = oviz.plot_param_importances(study)\n",
    "v2 = oviz.plot_optimization_history(study)\n",
    "v3 = oviz.plot_slice(study)\n",
    "\n",
    "def fig_name(name):\n",
    "    return(optuna_dir + \"output/\" + \"{}.{}_{}.{}.{}_{}.pdf\".format(my_time.hour, my_time.minute, my_time.month, my_time.day, my_time.year, name))\n",
    "\n",
    "v1.figure.savefig(fig_name(\"HyperparameterImportance\"))\n",
    "v2.figure.savefig(fig_name(\"OptimizationHistory\"))"
   ]
  },
  {
   "cell_type": "markdown",
   "metadata": {},
   "source": [
    "Finally, I train a new model based on the best trial."
   ]
  },
  {
   "cell_type": "code",
   "execution_count": 9,
   "metadata": {},
   "outputs": [],
   "source": [
    "# train new model based on the best trial\n",
    "best_xgb_model = xgb.Booster()\n",
    "best_xgb_model.load_model(model_dir + \"xgboost_model_{}.json\".format(best_trial.number))\n",
    "\n",
    "# save model for this loop\n",
    "best_xgb_model.save_model(model_dir + \"best_xgboost_model.json\")"
   ]
  },
  {
   "cell_type": "markdown",
   "metadata": {},
   "source": [
    "I visualize the best tree with the `matplotlib` library. This requires `pip install graphviz`, see [this tutorial](https://www.datacamp.com/community/tutorials/xgboost-in-python)."
   ]
  },
  {
   "cell_type": "code",
   "execution_count": 30,
   "metadata": {},
   "outputs": [
    {
     "data": {
      "image/png": "[encoded data removed]",
      "text/plain": [
       "<Figure size 720x2160 with 1 Axes>"
      ]
     },
     "metadata": {},
     "output_type": "display_data"
    }
   ],
   "source": [
    "xgb.plot_tree(best_xgb_model, num_trees=1)\n",
    "plt.rcParams['figure.figsize'] = [50, 10]\n",
    "plt.savefig(fig_name(\"BestXGBoostTree\"), dpi = 900)"
   ]
  },
  {
   "cell_type": "markdown",
   "metadata": {},
   "source": [
    "I also plot feature importance."
   ]
  },
  {
   "cell_type": "code",
   "execution_count": 11,
   "metadata": {},
   "outputs": [
    {
     "data": {
      "image/png": "[encoded data removed]",
      "text/plain": [
       "<Figure size 3600x720 with 1 Axes>"
      ]
     },
     "metadata": {},
     "output_type": "display_data"
    }
   ],
   "source": [
    "xgb.plot_importance(best_xgb_model)\n",
    "plt.rcParams['figure.figsize'] = [10, 30]\n",
    "plt.savefig(fig_name(\"FeatureImportance\"), dpi = 900)"
   ]
  },
  {
   "cell_type": "markdown",
   "metadata": {},
   "source": [
    "Now, I evaluate on the independent test set."
   ]
  },
  {
   "cell_type": "code",
   "execution_count": 12,
   "metadata": {},
   "outputs": [],
   "source": [
    "# convert fingerprint\n",
    "test_converter = MolConvert(src = 'SMILES', dst = best_trial.params['mol_dst'])\n",
    "test_features = pd.DataFrame([test_converter(x) for x in test['Drug']])\n",
    "dtest = xgb.DMatrix(test_features, label = test['Y'])"
   ]
  },
  {
   "cell_type": "markdown",
   "metadata": {},
   "source": [
    "Test set evaluation."
   ]
  },
  {
   "cell_type": "code",
   "execution_count": 13,
   "metadata": {},
   "outputs": [
    {
     "data": {
      "image/png": "[encoded data removed]",
      "text/plain": [
       "<Figure size 576x432 with 1 Axes>"
      ]
     },
     "metadata": {},
     "output_type": "display_data"
    }
   ],
   "source": [
    "# evaluate on test set\n",
    "y_pred_test = best_xgb_model.predict(dtest)\n",
    "\n",
    "# set style\n",
    "with plt.style.context('bmh'):\n",
    "\n",
    "    # create figure\n",
    "    fig, axs = plt.subplots(1, 1, figsize = (8, 6), tight_layout = True)\n",
    "\n",
    "    # add grid lines\n",
    "    axs.grid(b = True, color = 'grey', linestyle = '-.', linewidth = 0.5, alpha = 0.6)\n",
    "\n",
    "    # create histogram\n",
    "    max_value = np.max(y_pred_test)\n",
    "    bin_width = 0.015\n",
    "    nbins = np.ceil(max_value/bin_width)\n",
    "    N, bins, patches = axs.hist(y_pred_test, bins = int(nbins), rwidth = 0.85, edgecolor = \"black\")\n",
    "\n",
    "    # set color\n",
    "    fracs = ((N**(1 / 3))/N.max())\n",
    "    norm = colors.Normalize(fracs.min(), fracs.max())\n",
    "\n",
    "    for thisfrac, thispatch in zip(fracs, patches):\n",
    "        color = plt.cm.viridis(norm(thisfrac))\n",
    "        thispatch.set_facecolor(color)\n",
    "\n",
    "    # add labels\n",
    "    plt.xlabel(\"Probability\")\n",
    "    plt.ylabel(\"Count\")\n",
    "    plt.legend(['Distribution'])\n",
    "    plt.title(\"Test Set Predictions\")\n",
    "\n",
    "# show plot\n",
    "plt.savefig(fig_name(\"TestSetPredictions\"), dpi = 900)"
   ]
  },
  {
   "cell_type": "markdown",
   "metadata": {},
   "source": [
    "Finally, evaluate the results of the predictions."
   ]
  },
  {
   "cell_type": "code",
   "execution_count": 14,
   "metadata": {},
   "outputs": [
    {
     "data": {
      "text/plain": [
       "{'bbb_martins': {'roc-auc': 0.895}}"
      ]
     },
     "execution_count": 14,
     "metadata": {},
     "output_type": "execute_result"
    }
   ],
   "source": [
    "# append predictions to test set object\n",
    "predictions[name] = y_pred_test\n",
    "predictions_list.append(predictions)\n",
    "\n",
    "# evaluate predictions on test set\n",
    "# print(group.evaluate_many(predictions_list))\n",
    "group.evaluate(predictions_list[0])"
   ]
  },
  {
   "cell_type": "markdown",
   "metadata": {},
   "source": [
    "Next, I plot the ROC curve on the independent test set."
   ]
  },
  {
   "cell_type": "code",
   "execution_count": 15,
   "metadata": {},
   "outputs": [
    {
     "data": {
      "image/png": "[encoded data removed]",
      "text/plain": [
       "<Figure size 576x540 with 1 Axes>"
      ]
     },
     "metadata": {},
     "output_type": "display_data"
    }
   ],
   "source": [
    "# get FPR and TPR\n",
    "fpr, tpr, _ = metrics.roc_curve(test['Y'],  y_pred_test)\n",
    "auc = metrics.roc_auc_score(test['Y'],  y_pred_test)\n",
    "\n",
    "# create ROC curve\n",
    "# see plt.style.available for available styles\n",
    "with plt.style.context('bmh'):\n",
    "    plt.figure(figsize = (8, 7.5))\n",
    "    plt.plot([0, 1], [0, 1], label = \"AUC = 0.5\", color = \"gray\", linestyle = '--', linewidth = 2)\n",
    "    plt.plot(fpr, tpr, label = \"AUC = \" + str(round(auc, 3)), color = \"#E84855\", linewidth = 2)\n",
    "    plt.title(\"Receiver Operating Characteristic\")\n",
    "    plt.ylabel(\"True Positive Rate\")\n",
    "    plt.xlabel(\"False Positive Rate\")\n",
    "    plt.legend(loc = 4)\n",
    "\n",
    "# save figure\n",
    "plt.savefig(fig_name(\"TestSetROC\"), dpi = 900)"
   ]
  },
  {
   "cell_type": "code",
   "execution_count": 16,
   "metadata": {},
   "outputs": [
    {
     "name": "stdout",
     "output_type": "stream",
     "text": [
      "AUC: 0.8946607254534085\n"
     ]
    }
   ],
   "source": [
    "print(\"AUC: \" + str(auc))"
   ]
  },
  {
   "cell_type": "code",
   "execution_count": 26,
   "metadata": {},
   "outputs": [
    {
     "data": {
      "text/plain": [
       "328"
      ]
     },
     "execution_count": 26,
     "metadata": {},
     "output_type": "execute_result"
    }
   ],
   "source": [
    "sum(test['Y'] == 1)"
   ]
  },
  {
   "cell_type": "code",
   "execution_count": 27,
   "metadata": {},
   "outputs": [
    {
     "data": {
      "text/plain": [
       "1624"
      ]
     },
     "execution_count": 27,
     "metadata": {},
     "output_type": "execute_result"
    }
   ],
   "source": [
    "len(train_val)"
   ]
  },
  {
   "cell_type": "code",
   "execution_count": 29,
   "metadata": {},
   "outputs": [
    {
     "name": "stdout",
     "output_type": "stream",
     "text": [
      "[]\n"
     ]
    }
   ],
   "source": [
    "import torch\n",
    "\n",
    "available_gpus = [torch.cuda.device(i) for i in range(torch.cuda.device_count())]\n",
    "print(available_gpus)"
   ]
  }
 ],
 "metadata": {
  "interpreter": {
   "hash": "ee86a5705781cdc5693b22e698b5956b61fc6bfa2e3dcdcaa637adf8210aae45"
  },
  "kernelspec": {
   "display_name": "Python 3.8.12 ('gnn')",
   "language": "python",
   "name": "python3"
  },
  "language_info": {
   "codemirror_mode": {
    "name": "ipython",
    "version": 3
   },
   "file_extension": ".py",
   "mimetype": "text/x-python",
   "name": "python",
   "nbconvert_exporter": "python",
   "pygments_lexer": "ipython3",
   "version": "3.8.12"
  },
  "orig_nbformat": 4
 },
 "nbformat": 4,
 "nbformat_minor": 2
}
