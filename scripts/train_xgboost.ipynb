{
 "cells": [
  {
   "cell_type": "markdown",
   "metadata": {},
   "source": [
    "## Graph Transformers for Blood-Brain-Barrier Penetration Prediction\n",
    "**Ayush Noori**\n",
    "\n",
    "First, I load the relevant libraries."
   ]
  },
  {
   "cell_type": "code",
   "execution_count": 1,
   "metadata": {},
   "outputs": [],
   "source": [
    "# import base libraries\n",
    "import numpy as np\n",
    "import pandas as pd\n",
    "import matplotlib.pyplot as plt # inline plots\n",
    "%matplotlib inline\n",
    "\n",
    "# TDC library\n",
    "from tdc.benchmark_group import admet_group\n",
    "from tdc.chem_utils import MolConvert\n",
    "\n",
    "# XGBoost\n",
    "import xgboost as xgb\n",
    "\n",
    "# import Optuna\n",
    "import optuna\n",
    "from optuna.samplers import TPESampler\n",
    "import optuna.visualization.matplotlib as oviz\n",
    "\n",
    "# logging to show Optuna output\n",
    "import logging\n",
    "import sys\n",
    "\n",
    "# time management\n",
    "from datetime import datetime\n",
    "\n",
    "# create time object used for file names\n",
    "my_time = datetime.now()"
   ]
  },
  {
   "cell_type": "code",
   "execution_count": 2,
   "metadata": {},
   "outputs": [
    {
     "name": "stderr",
     "output_type": "stream",
     "text": [
      "Found local copy...\n"
     ]
    }
   ],
   "source": [
    "group = admet_group(path = 'data/')\n",
    "predictions_list = []"
   ]
  },
  {
   "cell_type": "markdown",
   "metadata": {},
   "source": [
    "Next, I retrieve the data."
   ]
  },
  {
   "cell_type": "code",
   "execution_count": 3,
   "metadata": {},
   "outputs": [],
   "source": [
    "# set seed and benchmark in benchmark group\n",
    "seed = 1\n",
    "benchmark = group.get('BBB_Martins') \n",
    "    \n",
    "# all benchmark names in a benchmark group are stored in group.dataset_names\n",
    "predictions = {}\n",
    "name = benchmark['name']\n",
    "train_val, test = benchmark['train_val'], benchmark['test']\n",
    "# train, valid = group.get_train_valid_split(benchmark = name, split_type = 'default', seed = seed)"
   ]
  },
  {
   "cell_type": "markdown",
   "metadata": {},
   "source": [
    "I define the XGBoost training function. First, I convert the SMILES structures to fingerprints. Note that conversion from `SMILES` to `RDKit2D` requires `pip install git+https://github.com/bp-kelley/descriptastorus` and `pip install pandas-flavor`.\n",
    "\n",
    "The parameter definition code was inspired by [this Medium post](https://medium.com/optuna/using-optuna-to-optimize-xgboost-hyperparameters-63bfcdfd3407) with [this source code](https://gist.github.com/Crissman/4ddeec6718627ecef46f863e1bf90424#file-xgboost_integration-py). See [the documentation](https://xgboost.readthedocs.io/en/latest/parameter.html) for a full list of possible parameters."
   ]
  },
  {
   "cell_type": "code",
   "execution_count": 14,
   "metadata": {},
   "outputs": [],
   "source": [
    "# define training function\n",
    "def train_xgboost(trial):\n",
    "\n",
    "    # define fingerprint\n",
    "    mol_dst = trial.suggest_categorical(\"mol_dst\", [\"ECFP2\", \"ECFP4\", \"MACCS\", \"Morgan\", \"Daylight\", \"RDKit2D\"])\n",
    "\n",
    "    # define the XGBoost parameters, inspired by \n",
    "    params = {\n",
    "            \"objective\": \"binary:logistic\",\n",
    "            \"eval_metric\": \"auc\",\n",
    "            \"booster\": trial.suggest_categorical(\"booster\", [\"gbtree\", \"gblinear\", \"dart\"]),\n",
    "            \"lambda\": trial.suggest_loguniform(\"lambda\", 1e-8, 1.0),\n",
    "            \"alpha\": trial.suggest_loguniform(\"alpha\", 1e-8, 1.0),\n",
    "        }\n",
    "\n",
    "    if params[\"booster\"] == \"gbtree\" or params[\"booster\"] == \"dart\":\n",
    "        params[\"max_depth\"] = trial.suggest_int(\"max_depth\", 1, 9)\n",
    "        params[\"eta\"] = trial.suggest_loguniform(\"eta\", 1e-8, 1.0)\n",
    "        params[\"gamma\"] = trial.suggest_loguniform(\"gamma\", 1e-8, 1.0)\n",
    "        params[\"grow_policy\"] = trial.suggest_categorical(\"grow_policy\", [\"depthwise\", \"lossguide\"])\n",
    "\n",
    "    if params[\"booster\"] == \"dart\":\n",
    "        params[\"sample_type\"] = trial.suggest_categorical(\"sample_type\", [\"uniform\", \"weighted\"])\n",
    "        params[\"normalize_type\"] = trial.suggest_categorical(\"normalize_type\", [\"tree\", \"forest\"])\n",
    "        params[\"rate_drop\"] = trial.suggest_loguniform(\"rate_drop\", 1e-8, 1.0)\n",
    "        params[\"skip_drop\"] = trial.suggest_loguniform(\"skip_drop\", 1e-8, 1.0)\n",
    "\n",
    "    # print all of the hyperparameters of the training iteration:\n",
    "    print(\"\\n===== TRIAL #{} =====\".Format(trial.number))\n",
    "    print(\"Fingerprint: {}\".format(mol_dst))\n",
    "\n",
    "    # convert fingerprint\n",
    "    converter = MolConvert(src = 'SMILES', dst = mol_dst)\n",
    "    train_val_features = pd.DataFrame([converter(x) for x in train_val['Drug']])\n",
    "\n",
    "    # define the optimized DMatrix object\n",
    "    dtrain_val = xgb.DMatrix(train_val_features, label = train_val['Y'])\n",
    "\n",
    "    # perform cross-validation\n",
    "    cv_results = xgb.cv(dtrain = dtrain_val, params = params, nfold = 5, \\\n",
    "        num_boost_round = 100, early_stopping_rounds = 10, metrics = \"auc\", as_pandas = True, seed = seed)\n",
    "\n",
    "    # train final model based on parameters in Optuna trial\n",
    "    xgb_model = xgb.train(dtrain = dtrain_val, params = params, num_boost_round = 50)\n",
    "\n",
    "    # report the final boosting metric as the summary metric for this Optuna trial\n",
    "    test_auc_mean = cv_results[\"test-auc-mean\"].tail(1)\n",
    "\n",
    "    # return model and metric\n",
    "    return xgb_model, test_auc_mean"
   ]
  },
  {
   "cell_type": "markdown",
   "metadata": {},
   "source": [
    "I define the Optuna objective function."
   ]
  },
  {
   "cell_type": "code",
   "execution_count": 11,
   "metadata": {},
   "outputs": [],
   "source": [
    "# define directories\n",
    "optuna_dir = \"optuna/\"\n",
    "model_dir = optuna_dir + \"models/\"\n",
    "study_dir = optuna_dir + \"database/\"\n",
    "\n",
    "# define objective function\n",
    "def objective(trial):\n",
    "\n",
    "    # start the training loop\n",
    "    trial_xgb_model, trial_test_auc_mean = train_xgboost(trial)\n",
    "\n",
    "    # save model for this loop\n",
    "    trial_xgb_model.save_model(model_dir + \"xgboost_model_{}.json\".format(trial.number))\n",
    "\n",
    "    return trial_test_auc_mean"
   ]
  },
  {
   "cell_type": "markdown",
   "metadata": {},
   "source": [
    "I run the Optuna trials."
   ]
  },
  {
   "cell_type": "code",
   "execution_count": 9,
   "metadata": {},
   "outputs": [
    {
     "name": "stderr",
     "output_type": "stream",
     "text": [
      "\u001b[32m[I 2022-05-04 15:16:53,380]\u001b[0m A new study created in RDB with name: xgboost-study\u001b[0m\n"
     ]
    },
    {
     "name": "stdout",
     "output_type": "stream",
     "text": [
      "A new study created in RDB with name: xgboost-study\n",
      "A new study created in RDB with name: xgboost-study\n"
     ]
    },
    {
     "name": "stderr",
     "output_type": "stream",
     "text": [
      "\u001b[32m[I 2022-05-04 15:17:07,307]\u001b[0m Trial 0 finished with value: 0.8368359736969764 and parameters: {'mol_dst': 'MACCS', 'booster': 'dart', 'lambda': 0.4625032932437533, 'alpha': 0.10173281877564906, 'max_depth': 4, 'eta': 0.00010184999316414055, 'gamma': 0.0029356446287146696, 'grow_policy': 'depthwise', 'sample_type': 'uniform', 'normalize_type': 'forest', 'rate_drop': 0.11511436577603909, 'skip_drop': 8.300186889879715e-06}. Best is trial 0 with value: 0.8368359736969764.\u001b[0m\n"
     ]
    },
    {
     "name": "stdout",
     "output_type": "stream",
     "text": [
      "Trial 0 finished with value: 0.8368359736969764 and parameters: {'mol_dst': 'MACCS', 'booster': 'dart', 'lambda': 0.4625032932437533, 'alpha': 0.10173281877564906, 'max_depth': 4, 'eta': 0.00010184999316414055, 'gamma': 0.0029356446287146696, 'grow_policy': 'depthwise', 'sample_type': 'uniform', 'normalize_type': 'forest', 'rate_drop': 0.11511436577603909, 'skip_drop': 8.300186889879715e-06}. Best is trial 0 with value: 0.8368359736969764.\n",
      "Trial 0 finished with value: 0.8368359736969764 and parameters: {'mol_dst': 'MACCS', 'booster': 'dart', 'lambda': 0.4625032932437533, 'alpha': 0.10173281877564906, 'max_depth': 4, 'eta': 0.00010184999316414055, 'gamma': 0.0029356446287146696, 'grow_policy': 'depthwise', 'sample_type': 'uniform', 'normalize_type': 'forest', 'rate_drop': 0.11511436577603909, 'skip_drop': 8.300186889879715e-06}. Best is trial 0 with value: 0.8368359736969764.\n"
     ]
    },
    {
     "name": "stderr",
     "output_type": "stream",
     "text": [
      "\u001b[32m[I 2022-05-04 15:17:21,712]\u001b[0m Trial 1 finished with value: 0.6761550354134462 and parameters: {'mol_dst': 'MACCS', 'booster': 'gblinear', 'lambda': 0.0003505816825467768, 'alpha': 0.08974682978025321}. Best is trial 0 with value: 0.8368359736969764.\u001b[0m\n"
     ]
    },
    {
     "name": "stdout",
     "output_type": "stream",
     "text": [
      "Trial 1 finished with value: 0.6761550354134462 and parameters: {'mol_dst': 'MACCS', 'booster': 'gblinear', 'lambda': 0.0003505816825467768, 'alpha': 0.08974682978025321}. Best is trial 0 with value: 0.8368359736969764.\n",
      "Trial 1 finished with value: 0.6761550354134462 and parameters: {'mol_dst': 'MACCS', 'booster': 'gblinear', 'lambda': 0.0003505816825467768, 'alpha': 0.08974682978025321}. Best is trial 0 with value: 0.8368359736969764.\n"
     ]
    },
    {
     "name": "stderr",
     "output_type": "stream",
     "text": [
      "\u001b[32m[I 2022-05-04 15:17:40,745]\u001b[0m Trial 2 finished with value: 0.8812758563998226 and parameters: {'mol_dst': 'ECFP4', 'booster': 'gblinear', 'lambda': 0.18816015917069162, 'alpha': 3.009357492612275e-08}. Best is trial 2 with value: 0.8812758563998226.\u001b[0m\n"
     ]
    },
    {
     "name": "stdout",
     "output_type": "stream",
     "text": [
      "Trial 2 finished with value: 0.8812758563998226 and parameters: {'mol_dst': 'ECFP4', 'booster': 'gblinear', 'lambda': 0.18816015917069162, 'alpha': 3.009357492612275e-08}. Best is trial 2 with value: 0.8812758563998226.\n",
      "Trial 2 finished with value: 0.8812758563998226 and parameters: {'mol_dst': 'ECFP4', 'booster': 'gblinear', 'lambda': 0.18816015917069162, 'alpha': 3.009357492612275e-08}. Best is trial 2 with value: 0.8812758563998226.\n"
     ]
    },
    {
     "name": "stderr",
     "output_type": "stream",
     "text": [
      "\u001b[33m[W 2022-05-04 15:17:41,112]\u001b[0m Trial 3 failed because of the following error: NameError(\"free variable 'f2' referenced before assignment in enclosing scope\")\u001b[0m\n",
      "Traceback (most recent call last):\n",
      "  File \"C:\\Users\\unity\\.conda\\envs\\gnn\\lib\\site-packages\\optuna\\study\\_optimize.py\", line 213, in _run_trial\n",
      "    value_or_values = func(trial)\n",
      "  File \"C:\\Users\\unity\\AppData\\Local\\Temp/ipykernel_26844/4271217205.py\", line 10, in objective\n",
      "    trial_xgb_model, trial_test_auc_mean = train_xgboost(trial)\n",
      "  File \"C:\\Users\\unity\\AppData\\Local\\Temp/ipykernel_26844/2933544791.py\", line 9, in train_xgboost\n",
      "    train_val_features = pd.DataFrame([converter(x) for x in train_val['Drug']])\n",
      "  File \"C:\\Users\\unity\\AppData\\Local\\Temp/ipykernel_26844/2933544791.py\", line 9, in <listcomp>\n",
      "    train_val_features = pd.DataFrame([converter(x) for x in train_val['Drug']])\n",
      "  File \"C:\\Users\\unity\\.conda\\envs\\gnn\\lib\\site-packages\\tdc\\chem_utils\\featurize\\molconvert.py\", line 802, in __call__\n",
      "    return self.func(x)\n",
      "  File \"C:\\Users\\unity\\.conda\\envs\\gnn\\lib\\site-packages\\tdc\\chem_utils\\featurize\\molconvert.py\", line 769, in <lambda>\n",
      "    self.func = lambda x:f2(f1(x))\n",
      "NameError: free variable 'f2' referenced before assignment in enclosing scope\n"
     ]
    },
    {
     "name": "stdout",
     "output_type": "stream",
     "text": [
      "Trial 3 failed because of the following error: NameError(\"free variable 'f2' referenced before assignment in enclosing scope\")\n",
      "Traceback (most recent call last):\n",
      "  File \"C:\\Users\\unity\\.conda\\envs\\gnn\\lib\\site-packages\\optuna\\study\\_optimize.py\", line 213, in _run_trial\n",
      "    value_or_values = func(trial)\n",
      "  File \"C:\\Users\\unity\\AppData\\Local\\Temp/ipykernel_26844/4271217205.py\", line 10, in objective\n",
      "    trial_xgb_model, trial_test_auc_mean = train_xgboost(trial)\n",
      "  File \"C:\\Users\\unity\\AppData\\Local\\Temp/ipykernel_26844/2933544791.py\", line 9, in train_xgboost\n",
      "    train_val_features = pd.DataFrame([converter(x) for x in train_val['Drug']])\n",
      "  File \"C:\\Users\\unity\\AppData\\Local\\Temp/ipykernel_26844/2933544791.py\", line 9, in <listcomp>\n",
      "    train_val_features = pd.DataFrame([converter(x) for x in train_val['Drug']])\n",
      "  File \"C:\\Users\\unity\\.conda\\envs\\gnn\\lib\\site-packages\\tdc\\chem_utils\\featurize\\molconvert.py\", line 802, in __call__\n",
      "    return self.func(x)\n",
      "  File \"C:\\Users\\unity\\.conda\\envs\\gnn\\lib\\site-packages\\tdc\\chem_utils\\featurize\\molconvert.py\", line 769, in <lambda>\n",
      "    self.func = lambda x:f2(f1(x))\n",
      "NameError: free variable 'f2' referenced before assignment in enclosing scope\n",
      "Trial 3 failed because of the following error: NameError(\"free variable 'f2' referenced before assignment in enclosing scope\")\n",
      "Traceback (most recent call last):\n",
      "  File \"C:\\Users\\unity\\.conda\\envs\\gnn\\lib\\site-packages\\optuna\\study\\_optimize.py\", line 213, in _run_trial\n",
      "    value_or_values = func(trial)\n",
      "  File \"C:\\Users\\unity\\AppData\\Local\\Temp/ipykernel_26844/4271217205.py\", line 10, in objective\n",
      "    trial_xgb_model, trial_test_auc_mean = train_xgboost(trial)\n",
      "  File \"C:\\Users\\unity\\AppData\\Local\\Temp/ipykernel_26844/2933544791.py\", line 9, in train_xgboost\n",
      "    train_val_features = pd.DataFrame([converter(x) for x in train_val['Drug']])\n",
      "  File \"C:\\Users\\unity\\AppData\\Local\\Temp/ipykernel_26844/2933544791.py\", line 9, in <listcomp>\n",
      "    train_val_features = pd.DataFrame([converter(x) for x in train_val['Drug']])\n",
      "  File \"C:\\Users\\unity\\.conda\\envs\\gnn\\lib\\site-packages\\tdc\\chem_utils\\featurize\\molconvert.py\", line 802, in __call__\n",
      "    return self.func(x)\n",
      "  File \"C:\\Users\\unity\\.conda\\envs\\gnn\\lib\\site-packages\\tdc\\chem_utils\\featurize\\molconvert.py\", line 769, in <lambda>\n",
      "    self.func = lambda x:f2(f1(x))\n",
      "NameError: free variable 'f2' referenced before assignment in enclosing scope\n"
     ]
    },
    {
     "ename": "NameError",
     "evalue": "free variable 'f2' referenced before assignment in enclosing scope",
     "output_type": "error",
     "traceback": [
      "\u001b[1;31m---------------------------------------------------------------------------\u001b[0m",
      "\u001b[1;31mNameError\u001b[0m                                 Traceback (most recent call last)",
      "\u001b[1;32m~\\AppData\\Local\\Temp/ipykernel_26844/2372386205.py\u001b[0m in \u001b[0;36m<module>\u001b[1;34m\u001b[0m\n\u001b[0;32m      8\u001b[0m \u001b[1;33m\u001b[0m\u001b[0m\n\u001b[0;32m      9\u001b[0m \u001b[1;31m# optimize hyperparameters\u001b[0m\u001b[1;33m\u001b[0m\u001b[1;33m\u001b[0m\u001b[1;33m\u001b[0m\u001b[0m\n\u001b[1;32m---> 10\u001b[1;33m \u001b[0mstudy\u001b[0m\u001b[1;33m.\u001b[0m\u001b[0moptimize\u001b[0m\u001b[1;33m(\u001b[0m\u001b[0mobjective\u001b[0m\u001b[1;33m,\u001b[0m \u001b[0mn_trials\u001b[0m \u001b[1;33m=\u001b[0m \u001b[1;36m20\u001b[0m\u001b[1;33m,\u001b[0m \u001b[0mgc_after_trial\u001b[0m \u001b[1;33m=\u001b[0m \u001b[1;32mTrue\u001b[0m\u001b[1;33m)\u001b[0m\u001b[1;33m\u001b[0m\u001b[1;33m\u001b[0m\u001b[0m\n\u001b[0m",
      "\u001b[1;32m~\\.conda\\envs\\gnn\\lib\\site-packages\\optuna\\study\\study.py\u001b[0m in \u001b[0;36moptimize\u001b[1;34m(self, func, n_trials, timeout, n_jobs, catch, callbacks, gc_after_trial, show_progress_bar)\u001b[0m\n\u001b[0;32m    398\u001b[0m             )\n\u001b[0;32m    399\u001b[0m \u001b[1;33m\u001b[0m\u001b[0m\n\u001b[1;32m--> 400\u001b[1;33m         _optimize(\n\u001b[0m\u001b[0;32m    401\u001b[0m             \u001b[0mstudy\u001b[0m\u001b[1;33m=\u001b[0m\u001b[0mself\u001b[0m\u001b[1;33m,\u001b[0m\u001b[1;33m\u001b[0m\u001b[1;33m\u001b[0m\u001b[0m\n\u001b[0;32m    402\u001b[0m             \u001b[0mfunc\u001b[0m\u001b[1;33m=\u001b[0m\u001b[0mfunc\u001b[0m\u001b[1;33m,\u001b[0m\u001b[1;33m\u001b[0m\u001b[1;33m\u001b[0m\u001b[0m\n",
      "\u001b[1;32m~\\.conda\\envs\\gnn\\lib\\site-packages\\optuna\\study\\_optimize.py\u001b[0m in \u001b[0;36m_optimize\u001b[1;34m(study, func, n_trials, timeout, n_jobs, catch, callbacks, gc_after_trial, show_progress_bar)\u001b[0m\n\u001b[0;32m     64\u001b[0m     \u001b[1;32mtry\u001b[0m\u001b[1;33m:\u001b[0m\u001b[1;33m\u001b[0m\u001b[1;33m\u001b[0m\u001b[0m\n\u001b[0;32m     65\u001b[0m         \u001b[1;32mif\u001b[0m \u001b[0mn_jobs\u001b[0m \u001b[1;33m==\u001b[0m \u001b[1;36m1\u001b[0m\u001b[1;33m:\u001b[0m\u001b[1;33m\u001b[0m\u001b[1;33m\u001b[0m\u001b[0m\n\u001b[1;32m---> 66\u001b[1;33m             _optimize_sequential(\n\u001b[0m\u001b[0;32m     67\u001b[0m                 \u001b[0mstudy\u001b[0m\u001b[1;33m,\u001b[0m\u001b[1;33m\u001b[0m\u001b[1;33m\u001b[0m\u001b[0m\n\u001b[0;32m     68\u001b[0m                 \u001b[0mfunc\u001b[0m\u001b[1;33m,\u001b[0m\u001b[1;33m\u001b[0m\u001b[1;33m\u001b[0m\u001b[0m\n",
      "\u001b[1;32m~\\.conda\\envs\\gnn\\lib\\site-packages\\optuna\\study\\_optimize.py\u001b[0m in \u001b[0;36m_optimize_sequential\u001b[1;34m(study, func, n_trials, timeout, catch, callbacks, gc_after_trial, reseed_sampler_rng, time_start, progress_bar)\u001b[0m\n\u001b[0;32m    161\u001b[0m \u001b[1;33m\u001b[0m\u001b[0m\n\u001b[0;32m    162\u001b[0m         \u001b[1;32mtry\u001b[0m\u001b[1;33m:\u001b[0m\u001b[1;33m\u001b[0m\u001b[1;33m\u001b[0m\u001b[0m\n\u001b[1;32m--> 163\u001b[1;33m             \u001b[0mtrial\u001b[0m \u001b[1;33m=\u001b[0m \u001b[0m_run_trial\u001b[0m\u001b[1;33m(\u001b[0m\u001b[0mstudy\u001b[0m\u001b[1;33m,\u001b[0m \u001b[0mfunc\u001b[0m\u001b[1;33m,\u001b[0m \u001b[0mcatch\u001b[0m\u001b[1;33m)\u001b[0m\u001b[1;33m\u001b[0m\u001b[1;33m\u001b[0m\u001b[0m\n\u001b[0m\u001b[0;32m    164\u001b[0m         \u001b[1;32mexcept\u001b[0m \u001b[0mException\u001b[0m\u001b[1;33m:\u001b[0m\u001b[1;33m\u001b[0m\u001b[1;33m\u001b[0m\u001b[0m\n\u001b[0;32m    165\u001b[0m             \u001b[1;32mraise\u001b[0m\u001b[1;33m\u001b[0m\u001b[1;33m\u001b[0m\u001b[0m\n",
      "\u001b[1;32m~\\.conda\\envs\\gnn\\lib\\site-packages\\optuna\\study\\_optimize.py\u001b[0m in \u001b[0;36m_run_trial\u001b[1;34m(study, func, catch)\u001b[0m\n\u001b[0;32m    262\u001b[0m \u001b[1;33m\u001b[0m\u001b[0m\n\u001b[0;32m    263\u001b[0m     \u001b[1;32mif\u001b[0m \u001b[0mstate\u001b[0m \u001b[1;33m==\u001b[0m \u001b[0mTrialState\u001b[0m\u001b[1;33m.\u001b[0m\u001b[0mFAIL\u001b[0m \u001b[1;32mand\u001b[0m \u001b[0mfunc_err\u001b[0m \u001b[1;32mis\u001b[0m \u001b[1;32mnot\u001b[0m \u001b[1;32mNone\u001b[0m \u001b[1;32mand\u001b[0m \u001b[1;32mnot\u001b[0m \u001b[0misinstance\u001b[0m\u001b[1;33m(\u001b[0m\u001b[0mfunc_err\u001b[0m\u001b[1;33m,\u001b[0m \u001b[0mcatch\u001b[0m\u001b[1;33m)\u001b[0m\u001b[1;33m:\u001b[0m\u001b[1;33m\u001b[0m\u001b[1;33m\u001b[0m\u001b[0m\n\u001b[1;32m--> 264\u001b[1;33m         \u001b[1;32mraise\u001b[0m \u001b[0mfunc_err\u001b[0m\u001b[1;33m\u001b[0m\u001b[1;33m\u001b[0m\u001b[0m\n\u001b[0m\u001b[0;32m    265\u001b[0m     \u001b[1;32mreturn\u001b[0m \u001b[0mtrial\u001b[0m\u001b[1;33m\u001b[0m\u001b[1;33m\u001b[0m\u001b[0m\n\u001b[0;32m    266\u001b[0m \u001b[1;33m\u001b[0m\u001b[0m\n",
      "\u001b[1;32m~\\.conda\\envs\\gnn\\lib\\site-packages\\optuna\\study\\_optimize.py\u001b[0m in \u001b[0;36m_run_trial\u001b[1;34m(study, func, catch)\u001b[0m\n\u001b[0;32m    211\u001b[0m \u001b[1;33m\u001b[0m\u001b[0m\n\u001b[0;32m    212\u001b[0m     \u001b[1;32mtry\u001b[0m\u001b[1;33m:\u001b[0m\u001b[1;33m\u001b[0m\u001b[1;33m\u001b[0m\u001b[0m\n\u001b[1;32m--> 213\u001b[1;33m         \u001b[0mvalue_or_values\u001b[0m \u001b[1;33m=\u001b[0m \u001b[0mfunc\u001b[0m\u001b[1;33m(\u001b[0m\u001b[0mtrial\u001b[0m\u001b[1;33m)\u001b[0m\u001b[1;33m\u001b[0m\u001b[1;33m\u001b[0m\u001b[0m\n\u001b[0m\u001b[0;32m    214\u001b[0m     \u001b[1;32mexcept\u001b[0m \u001b[0mexceptions\u001b[0m\u001b[1;33m.\u001b[0m\u001b[0mTrialPruned\u001b[0m \u001b[1;32mas\u001b[0m \u001b[0me\u001b[0m\u001b[1;33m:\u001b[0m\u001b[1;33m\u001b[0m\u001b[1;33m\u001b[0m\u001b[0m\n\u001b[0;32m    215\u001b[0m         \u001b[1;31m# TODO(mamu): Handle multi-objective cases.\u001b[0m\u001b[1;33m\u001b[0m\u001b[1;33m\u001b[0m\u001b[1;33m\u001b[0m\u001b[0m\n",
      "\u001b[1;32m~\\AppData\\Local\\Temp/ipykernel_26844/4271217205.py\u001b[0m in \u001b[0;36mobjective\u001b[1;34m(trial)\u001b[0m\n\u001b[0;32m      8\u001b[0m \u001b[1;33m\u001b[0m\u001b[0m\n\u001b[0;32m      9\u001b[0m     \u001b[1;31m# start the training loop\u001b[0m\u001b[1;33m\u001b[0m\u001b[1;33m\u001b[0m\u001b[1;33m\u001b[0m\u001b[0m\n\u001b[1;32m---> 10\u001b[1;33m     \u001b[0mtrial_xgb_model\u001b[0m\u001b[1;33m,\u001b[0m \u001b[0mtrial_test_auc_mean\u001b[0m \u001b[1;33m=\u001b[0m \u001b[0mtrain_xgboost\u001b[0m\u001b[1;33m(\u001b[0m\u001b[0mtrial\u001b[0m\u001b[1;33m)\u001b[0m\u001b[1;33m\u001b[0m\u001b[1;33m\u001b[0m\u001b[0m\n\u001b[0m\u001b[0;32m     11\u001b[0m \u001b[1;33m\u001b[0m\u001b[0m\n\u001b[0;32m     12\u001b[0m     \u001b[1;31m# save model for this loop\u001b[0m\u001b[1;33m\u001b[0m\u001b[1;33m\u001b[0m\u001b[1;33m\u001b[0m\u001b[0m\n",
      "\u001b[1;32m~\\AppData\\Local\\Temp/ipykernel_26844/2933544791.py\u001b[0m in \u001b[0;36mtrain_xgboost\u001b[1;34m(trial)\u001b[0m\n\u001b[0;32m      7\u001b[0m     \u001b[1;31m# convert fingerprint\u001b[0m\u001b[1;33m\u001b[0m\u001b[1;33m\u001b[0m\u001b[1;33m\u001b[0m\u001b[0m\n\u001b[0;32m      8\u001b[0m     \u001b[0mconverter\u001b[0m \u001b[1;33m=\u001b[0m \u001b[0mMolConvert\u001b[0m\u001b[1;33m(\u001b[0m\u001b[0msrc\u001b[0m \u001b[1;33m=\u001b[0m \u001b[1;34m'SMILES'\u001b[0m\u001b[1;33m,\u001b[0m \u001b[0mdst\u001b[0m \u001b[1;33m=\u001b[0m \u001b[0mmol_dst\u001b[0m\u001b[1;33m)\u001b[0m\u001b[1;33m\u001b[0m\u001b[1;33m\u001b[0m\u001b[0m\n\u001b[1;32m----> 9\u001b[1;33m     \u001b[0mtrain_val_features\u001b[0m \u001b[1;33m=\u001b[0m \u001b[0mpd\u001b[0m\u001b[1;33m.\u001b[0m\u001b[0mDataFrame\u001b[0m\u001b[1;33m(\u001b[0m\u001b[1;33m[\u001b[0m\u001b[0mconverter\u001b[0m\u001b[1;33m(\u001b[0m\u001b[0mx\u001b[0m\u001b[1;33m)\u001b[0m \u001b[1;32mfor\u001b[0m \u001b[0mx\u001b[0m \u001b[1;32min\u001b[0m \u001b[0mtrain_val\u001b[0m\u001b[1;33m[\u001b[0m\u001b[1;34m'Drug'\u001b[0m\u001b[1;33m]\u001b[0m\u001b[1;33m]\u001b[0m\u001b[1;33m)\u001b[0m\u001b[1;33m\u001b[0m\u001b[1;33m\u001b[0m\u001b[0m\n\u001b[0m\u001b[0;32m     10\u001b[0m \u001b[1;33m\u001b[0m\u001b[0m\n\u001b[0;32m     11\u001b[0m     \u001b[1;31m# define the optimized DMatrix object\u001b[0m\u001b[1;33m\u001b[0m\u001b[1;33m\u001b[0m\u001b[1;33m\u001b[0m\u001b[0m\n",
      "\u001b[1;32m~\\AppData\\Local\\Temp/ipykernel_26844/2933544791.py\u001b[0m in \u001b[0;36m<listcomp>\u001b[1;34m(.0)\u001b[0m\n\u001b[0;32m      7\u001b[0m     \u001b[1;31m# convert fingerprint\u001b[0m\u001b[1;33m\u001b[0m\u001b[1;33m\u001b[0m\u001b[1;33m\u001b[0m\u001b[0m\n\u001b[0;32m      8\u001b[0m     \u001b[0mconverter\u001b[0m \u001b[1;33m=\u001b[0m \u001b[0mMolConvert\u001b[0m\u001b[1;33m(\u001b[0m\u001b[0msrc\u001b[0m \u001b[1;33m=\u001b[0m \u001b[1;34m'SMILES'\u001b[0m\u001b[1;33m,\u001b[0m \u001b[0mdst\u001b[0m \u001b[1;33m=\u001b[0m \u001b[0mmol_dst\u001b[0m\u001b[1;33m)\u001b[0m\u001b[1;33m\u001b[0m\u001b[1;33m\u001b[0m\u001b[0m\n\u001b[1;32m----> 9\u001b[1;33m     \u001b[0mtrain_val_features\u001b[0m \u001b[1;33m=\u001b[0m \u001b[0mpd\u001b[0m\u001b[1;33m.\u001b[0m\u001b[0mDataFrame\u001b[0m\u001b[1;33m(\u001b[0m\u001b[1;33m[\u001b[0m\u001b[0mconverter\u001b[0m\u001b[1;33m(\u001b[0m\u001b[0mx\u001b[0m\u001b[1;33m)\u001b[0m \u001b[1;32mfor\u001b[0m \u001b[0mx\u001b[0m \u001b[1;32min\u001b[0m \u001b[0mtrain_val\u001b[0m\u001b[1;33m[\u001b[0m\u001b[1;34m'Drug'\u001b[0m\u001b[1;33m]\u001b[0m\u001b[1;33m]\u001b[0m\u001b[1;33m)\u001b[0m\u001b[1;33m\u001b[0m\u001b[1;33m\u001b[0m\u001b[0m\n\u001b[0m\u001b[0;32m     10\u001b[0m \u001b[1;33m\u001b[0m\u001b[0m\n\u001b[0;32m     11\u001b[0m     \u001b[1;31m# define the optimized DMatrix object\u001b[0m\u001b[1;33m\u001b[0m\u001b[1;33m\u001b[0m\u001b[1;33m\u001b[0m\u001b[0m\n",
      "\u001b[1;32m~\\.conda\\envs\\gnn\\lib\\site-packages\\tdc\\chem_utils\\featurize\\molconvert.py\u001b[0m in \u001b[0;36m__call__\u001b[1;34m(self, x)\u001b[0m\n\u001b[0;32m    800\u001b[0m       \u001b[1;32mif\u001b[0m \u001b[0mtype\u001b[0m\u001b[1;33m(\u001b[0m\u001b[0mx\u001b[0m\u001b[1;33m)\u001b[0m \u001b[1;33m==\u001b[0m \u001b[0mstr\u001b[0m\u001b[1;33m:\u001b[0m\u001b[1;33m\u001b[0m\u001b[1;33m\u001b[0m\u001b[0m\n\u001b[0;32m    801\u001b[0m         \u001b[1;32mif\u001b[0m \u001b[0mself\u001b[0m\u001b[1;33m.\u001b[0m\u001b[0mfunc\u001b[0m \u001b[1;33m!=\u001b[0m \u001b[0msmiles2morgan\u001b[0m\u001b[1;33m:\u001b[0m\u001b[1;33m\u001b[0m\u001b[1;33m\u001b[0m\u001b[0m\n\u001b[1;32m--> 802\u001b[1;33m           \u001b[1;32mreturn\u001b[0m \u001b[0mself\u001b[0m\u001b[1;33m.\u001b[0m\u001b[0mfunc\u001b[0m\u001b[1;33m(\u001b[0m\u001b[0mx\u001b[0m\u001b[1;33m)\u001b[0m\u001b[1;33m\u001b[0m\u001b[1;33m\u001b[0m\u001b[0m\n\u001b[0m\u001b[0;32m    803\u001b[0m         \u001b[1;32melse\u001b[0m\u001b[1;33m:\u001b[0m\u001b[1;33m\u001b[0m\u001b[1;33m\u001b[0m\u001b[0m\n\u001b[0;32m    804\u001b[0m           \u001b[1;32mreturn\u001b[0m \u001b[0mself\u001b[0m\u001b[1;33m.\u001b[0m\u001b[0mfunc\u001b[0m\u001b[1;33m(\u001b[0m\u001b[0mx\u001b[0m\u001b[1;33m,\u001b[0m \u001b[0mradius\u001b[0m \u001b[1;33m=\u001b[0m \u001b[0mself\u001b[0m\u001b[1;33m.\u001b[0m\u001b[0m_radius\u001b[0m\u001b[1;33m,\u001b[0m \u001b[0mnBits\u001b[0m \u001b[1;33m=\u001b[0m \u001b[0mself\u001b[0m\u001b[1;33m.\u001b[0m\u001b[0m_nbits\u001b[0m\u001b[1;33m)\u001b[0m\u001b[1;33m\u001b[0m\u001b[1;33m\u001b[0m\u001b[0m\n",
      "\u001b[1;32m~\\.conda\\envs\\gnn\\lib\\site-packages\\tdc\\chem_utils\\featurize\\molconvert.py\u001b[0m in \u001b[0;36m<lambda>\u001b[1;34m(x)\u001b[0m\n\u001b[0;32m    767\u001b[0m             \u001b[1;32melif\u001b[0m \u001b[0mdst\u001b[0m \u001b[1;33m==\u001b[0m \u001b[1;34m'PubChem'\u001b[0m\u001b[1;33m:\u001b[0m\u001b[1;33m\u001b[0m\u001b[1;33m\u001b[0m\u001b[0m\n\u001b[0;32m    768\u001b[0m                 \u001b[0mf2\u001b[0m \u001b[1;33m=\u001b[0m \u001b[0msmiles2pubchem\u001b[0m\u001b[1;33m\u001b[0m\u001b[1;33m\u001b[0m\u001b[0m\n\u001b[1;32m--> 769\u001b[1;33m             \u001b[0mself\u001b[0m\u001b[1;33m.\u001b[0m\u001b[0mfunc\u001b[0m \u001b[1;33m=\u001b[0m \u001b[1;32mlambda\u001b[0m \u001b[0mx\u001b[0m\u001b[1;33m:\u001b[0m\u001b[0mf2\u001b[0m\u001b[1;33m(\u001b[0m\u001b[0mf1\u001b[0m\u001b[1;33m(\u001b[0m\u001b[0mx\u001b[0m\u001b[1;33m)\u001b[0m\u001b[1;33m)\u001b[0m\u001b[1;33m\u001b[0m\u001b[1;33m\u001b[0m\u001b[0m\n\u001b[0m\u001b[0;32m    770\u001b[0m         \u001b[1;32melif\u001b[0m \u001b[0msrc\u001b[0m \u001b[1;32min\u001b[0m \u001b[0mthreeD_format\u001b[0m\u001b[1;33m:\u001b[0m\u001b[1;33m\u001b[0m\u001b[1;33m\u001b[0m\u001b[0m\n\u001b[0;32m    771\u001b[0m             \u001b[1;32mpass\u001b[0m\u001b[1;33m\u001b[0m\u001b[1;33m\u001b[0m\u001b[0m\n",
      "\u001b[1;31mNameError\u001b[0m: free variable 'f2' referenced before assignment in enclosing scope"
     ]
    }
   ],
   "source": [
    "# add stream handler of stdout to show the messages\n",
    "optuna.logging.get_logger(\"optuna\").addHandler(logging.StreamHandler(sys.stdout))\n",
    "\n",
    "# create study\n",
    "study_name = \"xgboost-study\"  # unique identifier of the study\n",
    "storage_name = \"sqlite:///{}.db\".format(study_dir + study_name)\n",
    "study = optuna.create_study(direction = \"maximize\", sampler = TPESampler(seed = 1234, multivariate = True), study_name = study_name, storage = storage_name, load_if_exists = False)\n",
    "\n",
    "# optimize hyperparameters\n",
    "study.optimize(objective, n_trials = 20, gc_after_trial = True)"
   ]
  },
  {
   "cell_type": "markdown",
   "metadata": {},
   "source": [
    "After training, I output Optuna trial results."
   ]
  },
  {
   "cell_type": "code",
   "execution_count": null,
   "metadata": {},
   "outputs": [],
   "source": [
    "# get pruned and complete trials\n",
    "pruned_trials = [t for t in study.trials if t.state == optuna.trial.TrialState.PRUNED]\n",
    "complete_trials = [t for t in study.trials if t.state == optuna.trial.TrialState.COMPLETE]\n",
    "\n",
    "# print print study statistics\n",
    "print(\"\\nStudy Statistics:\")\n",
    "print(\"- Finished Trials: \", len(study.trials))\n",
    "print(\"- Pruned Trials: \", len(pruned_trials))\n",
    "print(\"- Complete Trials: \", len(complete_trials))\n",
    "\n",
    "print(\"\\nBest Trial:\")\n",
    "best_trial = study.best_trial\n",
    "print(\"- Number: \", best_trial.number)\n",
    "print(\"- Value: \", best_trial.value)\n",
    "print(\"- Hyperparameters: \")\n",
    "for key, value in best_trial.params.items():\n",
    "    print(\"   - {}: {}\".format(key, value))\n",
    "\n",
    "# save and view output\n",
    "study_results = study.trials_dataframe(attrs=(\"number\", \"value\", \"params\", \"state\"))\n",
    "study_results.to_csv(optuna_dir + \"{}.{}_{}.{}.{}_OptunaHistory.csv\".format(my_time.hour, my_time.minute, my_time.month, my_time.day, my_time.year))"
   ]
  },
  {
   "cell_type": "markdown",
   "metadata": {},
   "source": [
    "I visualize the Optuna trial iterations."
   ]
  },
  {
   "cell_type": "code",
   "execution_count": null,
   "metadata": {},
   "outputs": [],
   "source": [
    "v1 = oviz.plot_param_importances(study)\n",
    "v2 = oviz.plot_optimization_history(study)\n",
    "v3 = oviz.plot_slice(study)\n",
    "\n",
    "def fig_name(name):\n",
    "    return(optuna_dir + \"output/\" + \"{}.{}_{}.{}.{}_{}.pdf\".format(my_time.hour, my_time.minute, my_time.month, my_time.day, my_time.year, name))\n",
    "\n",
    "v1.figure.savefig(fig_name(\"HyperparameterImportance\"))\n",
    "v2.figure.savefig(fig_name(\"OptimizationHistory\"))"
   ]
  },
  {
   "cell_type": "markdown",
   "metadata": {},
   "source": [
    "Finally, I train a new model based on the best trial."
   ]
  },
  {
   "cell_type": "code",
   "execution_count": null,
   "metadata": {},
   "outputs": [],
   "source": [
    "# train new model based on the best trial\n",
    "best_xgb_model = xgb.Booster()\n",
    "best_xgb_model.load_model(model_dir + \"xgboost_model_{}.json\".format(best_trial.number))"
   ]
  },
  {
   "cell_type": "markdown",
   "metadata": {},
   "source": [
    "Now, I evaluate on the independent test set."
   ]
  },
  {
   "cell_type": "code",
   "execution_count": null,
   "metadata": {},
   "outputs": [],
   "source": [
    "# convert fingerprint\n",
    "test_converter = MolConvert(src = 'SMILES', dst = best_trial.params['mol_dst'])\n",
    "test_features = pd.DataFrame([test_converter(x) for x in test['Drug']])\n",
    "dtest = xgb.DMatrix(test_features, label = test['Y'])\n",
    "\n",
    "# evaluate on test set\n",
    "y_pred_test = best_xgb_model.predict(dtest)\n",
    "plt.hist(y_pred_test)\n",
    "\n",
    "# append predictions to test set object\n",
    "predictions[name] = y_pred_test\n",
    "predictions_list.append(predictions)"
   ]
  }
 ],
 "metadata": {
  "interpreter": {
   "hash": "ee86a5705781cdc5693b22e698b5956b61fc6bfa2e3dcdcaa637adf8210aae45"
  },
  "kernelspec": {
   "display_name": "Python 3.8.12 ('gnn')",
   "language": "python",
   "name": "python3"
  },
  "language_info": {
   "codemirror_mode": {
    "name": "ipython",
    "version": 3
   },
   "file_extension": ".py",
   "mimetype": "text/x-python",
   "name": "python",
   "nbconvert_exporter": "python",
   "pygments_lexer": "ipython3",
   "version": "3.8.12"
  },
  "orig_nbformat": 4
 },
 "nbformat": 4,
 "nbformat_minor": 2
}
