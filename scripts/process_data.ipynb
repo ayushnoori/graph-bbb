{
 "cells": [
  {
   "cell_type": "markdown",
   "metadata": {},
   "source": [
    "## Process and Convert BBB Data\n",
    "**Ayush Noori**\n",
    "\n",
    "First, I load the relevant libraries."
   ]
  },
  {
   "cell_type": "code",
   "execution_count": 3,
   "metadata": {},
   "outputs": [],
   "source": [
    "# import base libraries\n",
    "import numpy as np\n",
    "import pandas as pd\n",
    "import matplotlib.pyplot as plt # inline plots\n",
    "%matplotlib inline\n",
    "\n",
    "# import torch\n",
    "import torch\n",
    "\n",
    "# import TDC\n",
    "from tdc.single_pred import ADME\n",
    "from tdc.chem_utils import MolConvert"
   ]
  },
  {
   "cell_type": "markdown",
   "metadata": {},
   "source": [
    "### Load and Stratify Data\n",
    "\n",
    "Next, I load the dataset retrieved from the [Therapeutics Data Commons (TDC)](https://tdcommons.ai/single_pred_tasks/adme/#bbb-blood-brain-barrier-martins-et-al) and examine basic parameters."
   ]
  },
  {
   "cell_type": "code",
   "execution_count": 4,
   "metadata": {},
   "outputs": [
    {
     "name": "stderr",
     "output_type": "stream",
     "text": [
      "Found local copy...\n",
      "Loading...\n",
      "Done!\n",
      "--- Dataset Statistics ---\n",
      "1975 unique drugs.\n",
      "--------------------------\n"
     ]
    },
    {
     "name": "stdout",
     "output_type": "stream",
     "text": [
      "Label Distribution:\n",
      "1    1551\n",
      "0     479\n",
      "Name: Y, dtype: int64\n"
     ]
    },
    {
     "data": {
      "image/png": "[encoded data removed]",
      "text/plain": [
       "<Figure size 432x288 with 2 Axes>"
      ]
     },
     "metadata": {
      "needs_background": "light"
     },
     "output_type": "display_data"
    }
   ],
   "source": [
    "data = ADME(name = 'BBB_Martins')\n",
    "data.print_stats()\n",
    "print(\"Label Distribution:\")\n",
    "print(data.y.value_counts())\n",
    "data.label_distribution()"
   ]
  },
  {
   "cell_type": "markdown",
   "metadata": {},
   "source": [
    "Stratify the dataset and examine the test set. Rather than a random split, we use the more challenging [\"scaffold split\"](https://tdcommons.ai/functions/data_split/), which partitions the data based on the scaffold of the molecules to differentiate the training, validation, and test sets. The data is split as 70% training, 10% validation, and 20% test.\n",
    "\n",
    "Note that the scaffold split requires that the [`rdkit`](https://www.rdkit.org/docs/GettingStartedInPython.html) package is installed."
   ]
  },
  {
   "cell_type": "markdown",
   "metadata": {},
   "source": [
    "### Convert from SMILES to DGL\n",
    "\n",
    "Now, define a converter to convert molecules from SMILES structures to [DGL](https://docs.dgl.ai/index.html) format. See documentation [here](https://tdcommons.ai/functions/data_process/#molecule-conversion). For example, try:\n",
    "```\n",
    "converter('Clc1ccccc1C2C(=C(/N/C(=C2/C(=O)OCC)COCCN)C)\\C(=O)OC')\n",
    "```"
   ]
  },
  {
   "cell_type": "code",
   "execution_count": 5,
   "metadata": {},
   "outputs": [
    {
     "name": "stderr",
     "output_type": "stream",
     "text": [
      "100%|██████████| 2030/2030 [00:02<00:00, 937.25it/s] \n"
     ]
    },
    {
     "data": {
      "text/html": [
       "<div>\n",
       "<style scoped>\n",
       "    .dataframe tbody tr th:only-of-type {\n",
       "        vertical-align: middle;\n",
       "    }\n",
       "\n",
       "    .dataframe tbody tr th {\n",
       "        vertical-align: top;\n",
       "    }\n",
       "\n",
       "    .dataframe thead th {\n",
       "        text-align: right;\n",
       "    }\n",
       "</style>\n",
       "<table border=\"1\" class=\"dataframe\">\n",
       "  <thead>\n",
       "    <tr style=\"text-align: right;\">\n",
       "      <th></th>\n",
       "      <th>Drug_ID</th>\n",
       "      <th>Drug</th>\n",
       "      <th>Y</th>\n",
       "    </tr>\n",
       "  </thead>\n",
       "  <tbody>\n",
       "    <tr>\n",
       "      <th>0</th>\n",
       "      <td>tetrazepam</td>\n",
       "      <td>CN1C(=O)CN=C(C2=CCCCC2)c2cc(Cl)ccc21</td>\n",
       "      <td>1</td>\n",
       "    </tr>\n",
       "    <tr>\n",
       "      <th>1</th>\n",
       "      <td>menitrazepam</td>\n",
       "      <td>CN1C(=O)CN=C(C2=CCCCC2)c2cc([N+](=O)[O-])ccc21</td>\n",
       "      <td>1</td>\n",
       "    </tr>\n",
       "    <tr>\n",
       "      <th>2</th>\n",
       "      <td>nortetrazepam</td>\n",
       "      <td>O=C1CN=C(C2=CCCCC2)c2cc(Cl)ccc2N1</td>\n",
       "      <td>1</td>\n",
       "    </tr>\n",
       "    <tr>\n",
       "      <th>3</th>\n",
       "      <td>Oxacillin</td>\n",
       "      <td>Cc1onc(-c2ccccc2)c1C(=O)N[C@@H]1C(=O)N2[C@@H](...</td>\n",
       "      <td>0</td>\n",
       "    </tr>\n",
       "    <tr>\n",
       "      <th>4</th>\n",
       "      <td>Flucloxacillin</td>\n",
       "      <td>Cc1onc(-c2c(F)cccc2Cl)c1C(=O)N[C@@H]1C(=O)N2[C...</td>\n",
       "      <td>0</td>\n",
       "    </tr>\n",
       "    <tr>\n",
       "      <th>...</th>\n",
       "      <td>...</td>\n",
       "      <td>...</td>\n",
       "      <td>...</td>\n",
       "    </tr>\n",
       "    <tr>\n",
       "      <th>401</th>\n",
       "      <td>arecoline</td>\n",
       "      <td>COC(=O)C1=CCCN(C)C1</td>\n",
       "      <td>1</td>\n",
       "    </tr>\n",
       "    <tr>\n",
       "      <th>402</th>\n",
       "      <td>penfluridol</td>\n",
       "      <td>OC1(c2ccc(Cl)c(C(F)(F)F)c2)CCN(CCCC(c2ccc(F)cc...</td>\n",
       "      <td>1</td>\n",
       "    </tr>\n",
       "    <tr>\n",
       "      <th>403</th>\n",
       "      <td>Org12692</td>\n",
       "      <td>FC(F)(F)c1ccc(N2CCNCC2)nc1Cl</td>\n",
       "      <td>1</td>\n",
       "    </tr>\n",
       "    <tr>\n",
       "      <th>404</th>\n",
       "      <td>Org12962</td>\n",
       "      <td>FC(F)(F)c1ccc(N2CCNCC2)nc1Cl</td>\n",
       "      <td>1</td>\n",
       "    </tr>\n",
       "    <tr>\n",
       "      <th>405</th>\n",
       "      <td>phenazopyridine</td>\n",
       "      <td>Nc1ccc(N=Nc2ccccc2)c(N)n1</td>\n",
       "      <td>0</td>\n",
       "    </tr>\n",
       "  </tbody>\n",
       "</table>\n",
       "<p>406 rows × 3 columns</p>\n",
       "</div>"
      ],
      "text/plain": [
       "             Drug_ID                                               Drug  Y\n",
       "0         tetrazepam               CN1C(=O)CN=C(C2=CCCCC2)c2cc(Cl)ccc21  1\n",
       "1       menitrazepam     CN1C(=O)CN=C(C2=CCCCC2)c2cc([N+](=O)[O-])ccc21  1\n",
       "2      nortetrazepam                  O=C1CN=C(C2=CCCCC2)c2cc(Cl)ccc2N1  1\n",
       "3          Oxacillin  Cc1onc(-c2ccccc2)c1C(=O)N[C@@H]1C(=O)N2[C@@H](...  0\n",
       "4     Flucloxacillin  Cc1onc(-c2c(F)cccc2Cl)c1C(=O)N[C@@H]1C(=O)N2[C...  0\n",
       "..               ...                                                ... ..\n",
       "401        arecoline                                COC(=O)C1=CCCN(C)C1  1\n",
       "402      penfluridol  OC1(c2ccc(Cl)c(C(F)(F)F)c2)CCN(CCCC(c2ccc(F)cc...  1\n",
       "403         Org12692                       FC(F)(F)c1ccc(N2CCNCC2)nc1Cl  1\n",
       "404         Org12962                       FC(F)(F)c1ccc(N2CCNCC2)nc1Cl  1\n",
       "405  phenazopyridine                          Nc1ccc(N=Nc2ccccc2)c(N)n1  0\n",
       "\n",
       "[406 rows x 3 columns]"
      ]
     },
     "execution_count": 5,
     "metadata": {},
     "output_type": "execute_result"
    }
   ],
   "source": [
    "split = data.get_split(method = 'scaffold', seed = 42, frac = [0.7, 0.1, 0.2])\n",
    "split['test']"
   ]
  },
  {
   "cell_type": "code",
   "execution_count": 24,
   "metadata": {},
   "outputs": [
    {
     "data": {
      "text/plain": [
       "array([0., 0., 0., 0., 0., 0., 0., 0., 0., 0., 0., 0., 0., 0., 0., 0., 0.,\n",
       "       0., 0., 0., 0., 0., 0., 0., 0., 0., 0., 0., 0., 0., 0., 0., 0., 0.,\n",
       "       0., 0., 0., 0., 0., 0., 0., 0., 0., 0., 0., 0., 0., 0., 0., 0., 0.,\n",
       "       0., 0., 0., 0., 0., 0., 0., 0., 0., 0., 0., 0., 0., 0., 0., 1., 0.,\n",
       "       0., 0., 0., 0., 0., 0., 1., 0., 0., 0., 0., 0., 0., 0., 0., 0., 0.,\n",
       "       1., 1., 0., 0., 0., 0., 0., 0., 0., 0., 0., 0., 0., 0., 0., 1., 0.,\n",
       "       0., 1., 0., 0., 0., 0., 1., 0., 0., 1., 1., 0., 0., 0., 0., 0., 1.,\n",
       "       0., 0., 0., 1., 1., 0., 0., 1., 0., 1., 1., 0., 0., 1., 1., 1., 1.,\n",
       "       0., 0., 1., 0., 0., 1., 0., 0., 0., 0., 0., 1., 1., 1., 0., 0., 1.,\n",
       "       1., 1., 1., 1., 1., 1., 1., 1., 1., 1., 1., 1., 1., 0.])"
      ]
     },
     "execution_count": 24,
     "metadata": {},
     "output_type": "execute_result"
    }
   ],
   "source": [
    "converter = MolConvert(src = 'SMILES', dst = 'MACCS') # DGL\n",
    "converted_mol = converter(split['train']['Drug'][0])\n",
    "converted_mol"
   ]
  },
  {
   "cell_type": "markdown",
   "metadata": {},
   "source": [
    "### Generate Graphormer Customized Dataset\n",
    "\n",
    "Reassemble the stratified dataset into a single data frame with train/validation/test indices."
   ]
  },
  {
   "cell_type": "code",
   "execution_count": 8,
   "metadata": {},
   "outputs": [],
   "source": [
    "split_data = split['train'].append(split['valid']).append(split['test'])\n",
    "train_idx = np.arange(len(split['train']))\n",
    "valid_idx = np.arange(len(split['valid'])) + len(split['train'])\n",
    "test_idx = np.arange(len(split['test'])) + len(split['train']) + len(split['valid'])"
   ]
  },
  {
   "cell_type": "markdown",
   "metadata": {},
   "source": [
    "Compare the original stratification and subsetted final dataset to confirm they are identical."
   ]
  },
  {
   "cell_type": "code",
   "execution_count": 9,
   "metadata": {},
   "outputs": [
    {
     "data": {
      "text/html": [
       "<div>\n",
       "<style scoped>\n",
       "    .dataframe tbody tr th:only-of-type {\n",
       "        vertical-align: middle;\n",
       "    }\n",
       "\n",
       "    .dataframe tbody tr th {\n",
       "        vertical-align: top;\n",
       "    }\n",
       "\n",
       "    .dataframe thead th {\n",
       "        text-align: right;\n",
       "    }\n",
       "</style>\n",
       "<table border=\"1\" class=\"dataframe\">\n",
       "  <thead>\n",
       "    <tr style=\"text-align: right;\">\n",
       "      <th></th>\n",
       "      <th>Drug_ID</th>\n",
       "      <th>Drug</th>\n",
       "      <th>Y</th>\n",
       "    </tr>\n",
       "  </thead>\n",
       "  <tbody>\n",
       "    <tr>\n",
       "      <th>0</th>\n",
       "      <td>Terbutylchlorambucil</td>\n",
       "      <td>CC(C)(C)OC(=O)CCCc1ccc(N(CCCl)CCCl)cc1</td>\n",
       "      <td>1</td>\n",
       "    </tr>\n",
       "    <tr>\n",
       "      <th>1</th>\n",
       "      <td>brosotamide</td>\n",
       "      <td>Cc1cc(Br)cc(C(N)=O)c1O</td>\n",
       "      <td>1</td>\n",
       "    </tr>\n",
       "    <tr>\n",
       "      <th>2</th>\n",
       "      <td>butacetin</td>\n",
       "      <td>CC(=O)Nc1ccc(OC(C)(C)C)cc1</td>\n",
       "      <td>1</td>\n",
       "    </tr>\n",
       "    <tr>\n",
       "      <th>3</th>\n",
       "      <td>Salicyluricacid</td>\n",
       "      <td>O=C(O)CNC(=O)c1ccccc1O</td>\n",
       "      <td>1</td>\n",
       "    </tr>\n",
       "    <tr>\n",
       "      <th>4</th>\n",
       "      <td>sumacetamol</td>\n",
       "      <td>CSCC[C@H](NC(C)=O)C(=O)Oc1ccc(NC(C)=O)cc1</td>\n",
       "      <td>1</td>\n",
       "    </tr>\n",
       "    <tr>\n",
       "      <th>...</th>\n",
       "      <td>...</td>\n",
       "      <td>...</td>\n",
       "      <td>...</td>\n",
       "    </tr>\n",
       "    <tr>\n",
       "      <th>1416</th>\n",
       "      <td>antipyrine</td>\n",
       "      <td>Cc1cc(=O)n(-c2ccccc2)n1C</td>\n",
       "      <td>1</td>\n",
       "    </tr>\n",
       "    <tr>\n",
       "      <th>1417</th>\n",
       "      <td>Aminopyrine</td>\n",
       "      <td>Cc1c(N(C)C)c(=O)n(-c2ccccc2)n1C</td>\n",
       "      <td>1</td>\n",
       "    </tr>\n",
       "    <tr>\n",
       "      <th>1418</th>\n",
       "      <td>cyprazepam</td>\n",
       "      <td>ON1CC(=NCC2CC2)N=c2ccc(Cl)cc2=C1c1ccccc1</td>\n",
       "      <td>1</td>\n",
       "    </tr>\n",
       "    <tr>\n",
       "      <th>1419</th>\n",
       "      <td>nomifensine</td>\n",
       "      <td>CN1Cc2c(N)cccc2C(c2ccccc2)C1</td>\n",
       "      <td>1</td>\n",
       "    </tr>\n",
       "    <tr>\n",
       "      <th>1420</th>\n",
       "      <td>diclofensine</td>\n",
       "      <td>COc1ccc2c(c1)CN(C)CC2c1ccc(Cl)c(Cl)c1</td>\n",
       "      <td>1</td>\n",
       "    </tr>\n",
       "  </tbody>\n",
       "</table>\n",
       "<p>1421 rows × 3 columns</p>\n",
       "</div>"
      ],
      "text/plain": [
       "                   Drug_ID                                       Drug  Y\n",
       "0     Terbutylchlorambucil     CC(C)(C)OC(=O)CCCc1ccc(N(CCCl)CCCl)cc1  1\n",
       "1              brosotamide                     Cc1cc(Br)cc(C(N)=O)c1O  1\n",
       "2                butacetin                 CC(=O)Nc1ccc(OC(C)(C)C)cc1  1\n",
       "3          Salicyluricacid                     O=C(O)CNC(=O)c1ccccc1O  1\n",
       "4              sumacetamol  CSCC[C@H](NC(C)=O)C(=O)Oc1ccc(NC(C)=O)cc1  1\n",
       "...                    ...                                        ... ..\n",
       "1416            antipyrine                   Cc1cc(=O)n(-c2ccccc2)n1C  1\n",
       "1417           Aminopyrine            Cc1c(N(C)C)c(=O)n(-c2ccccc2)n1C  1\n",
       "1418            cyprazepam   ON1CC(=NCC2CC2)N=c2ccc(Cl)cc2=C1c1ccccc1  1\n",
       "1419           nomifensine               CN1Cc2c(N)cccc2C(c2ccccc2)C1  1\n",
       "1420          diclofensine      COc1ccc2c(c1)CN(C)CC2c1ccc(Cl)c(Cl)c1  1\n",
       "\n",
       "[1421 rows x 3 columns]"
      ]
     },
     "execution_count": 9,
     "metadata": {},
     "output_type": "execute_result"
    }
   ],
   "source": [
    "split['train']"
   ]
  },
  {
   "cell_type": "code",
   "execution_count": 10,
   "metadata": {},
   "outputs": [
    {
     "data": {
      "text/html": [
       "<div>\n",
       "<style scoped>\n",
       "    .dataframe tbody tr th:only-of-type {\n",
       "        vertical-align: middle;\n",
       "    }\n",
       "\n",
       "    .dataframe tbody tr th {\n",
       "        vertical-align: top;\n",
       "    }\n",
       "\n",
       "    .dataframe thead th {\n",
       "        text-align: right;\n",
       "    }\n",
       "</style>\n",
       "<table border=\"1\" class=\"dataframe\">\n",
       "  <thead>\n",
       "    <tr style=\"text-align: right;\">\n",
       "      <th></th>\n",
       "      <th>Drug_ID</th>\n",
       "      <th>Drug</th>\n",
       "      <th>Y</th>\n",
       "    </tr>\n",
       "  </thead>\n",
       "  <tbody>\n",
       "    <tr>\n",
       "      <th>0</th>\n",
       "      <td>Terbutylchlorambucil</td>\n",
       "      <td>CC(C)(C)OC(=O)CCCc1ccc(N(CCCl)CCCl)cc1</td>\n",
       "      <td>1</td>\n",
       "    </tr>\n",
       "    <tr>\n",
       "      <th>1</th>\n",
       "      <td>brosotamide</td>\n",
       "      <td>Cc1cc(Br)cc(C(N)=O)c1O</td>\n",
       "      <td>1</td>\n",
       "    </tr>\n",
       "    <tr>\n",
       "      <th>2</th>\n",
       "      <td>butacetin</td>\n",
       "      <td>CC(=O)Nc1ccc(OC(C)(C)C)cc1</td>\n",
       "      <td>1</td>\n",
       "    </tr>\n",
       "    <tr>\n",
       "      <th>3</th>\n",
       "      <td>Salicyluricacid</td>\n",
       "      <td>O=C(O)CNC(=O)c1ccccc1O</td>\n",
       "      <td>1</td>\n",
       "    </tr>\n",
       "    <tr>\n",
       "      <th>4</th>\n",
       "      <td>sumacetamol</td>\n",
       "      <td>CSCC[C@H](NC(C)=O)C(=O)Oc1ccc(NC(C)=O)cc1</td>\n",
       "      <td>1</td>\n",
       "    </tr>\n",
       "    <tr>\n",
       "      <th>...</th>\n",
       "      <td>...</td>\n",
       "      <td>...</td>\n",
       "      <td>...</td>\n",
       "    </tr>\n",
       "    <tr>\n",
       "      <th>1416</th>\n",
       "      <td>antipyrine</td>\n",
       "      <td>Cc1cc(=O)n(-c2ccccc2)n1C</td>\n",
       "      <td>1</td>\n",
       "    </tr>\n",
       "    <tr>\n",
       "      <th>1417</th>\n",
       "      <td>Aminopyrine</td>\n",
       "      <td>Cc1c(N(C)C)c(=O)n(-c2ccccc2)n1C</td>\n",
       "      <td>1</td>\n",
       "    </tr>\n",
       "    <tr>\n",
       "      <th>1418</th>\n",
       "      <td>cyprazepam</td>\n",
       "      <td>ON1CC(=NCC2CC2)N=c2ccc(Cl)cc2=C1c1ccccc1</td>\n",
       "      <td>1</td>\n",
       "    </tr>\n",
       "    <tr>\n",
       "      <th>1419</th>\n",
       "      <td>nomifensine</td>\n",
       "      <td>CN1Cc2c(N)cccc2C(c2ccccc2)C1</td>\n",
       "      <td>1</td>\n",
       "    </tr>\n",
       "    <tr>\n",
       "      <th>1420</th>\n",
       "      <td>diclofensine</td>\n",
       "      <td>COc1ccc2c(c1)CN(C)CC2c1ccc(Cl)c(Cl)c1</td>\n",
       "      <td>1</td>\n",
       "    </tr>\n",
       "  </tbody>\n",
       "</table>\n",
       "<p>1421 rows × 3 columns</p>\n",
       "</div>"
      ],
      "text/plain": [
       "                   Drug_ID                                       Drug  Y\n",
       "0     Terbutylchlorambucil     CC(C)(C)OC(=O)CCCc1ccc(N(CCCl)CCCl)cc1  1\n",
       "1              brosotamide                     Cc1cc(Br)cc(C(N)=O)c1O  1\n",
       "2                butacetin                 CC(=O)Nc1ccc(OC(C)(C)C)cc1  1\n",
       "3          Salicyluricacid                     O=C(O)CNC(=O)c1ccccc1O  1\n",
       "4              sumacetamol  CSCC[C@H](NC(C)=O)C(=O)Oc1ccc(NC(C)=O)cc1  1\n",
       "...                    ...                                        ... ..\n",
       "1416            antipyrine                   Cc1cc(=O)n(-c2ccccc2)n1C  1\n",
       "1417           Aminopyrine            Cc1c(N(C)C)c(=O)n(-c2ccccc2)n1C  1\n",
       "1418            cyprazepam   ON1CC(=NCC2CC2)N=c2ccc(Cl)cc2=C1c1ccccc1  1\n",
       "1419           nomifensine               CN1Cc2c(N)cccc2C(c2ccccc2)C1  1\n",
       "1420          diclofensine      COc1ccc2c(c1)CN(C)CC2c1ccc(Cl)c(Cl)c1  1\n",
       "\n",
       "[1421 rows x 3 columns]"
      ]
     },
     "execution_count": 10,
     "metadata": {},
     "output_type": "execute_result"
    }
   ],
   "source": [
    "split_data.iloc[train_idx]"
   ]
  },
  {
   "cell_type": "markdown",
   "metadata": {},
   "source": [
    "Convert the subsetted final dataset into a list of tuples compatible with Graphormer."
   ]
  },
  {
   "cell_type": "code",
   "execution_count": 11,
   "metadata": {},
   "outputs": [
    {
     "data": {
      "text/plain": [
       "(Graph(num_nodes=23, num_edges=46,\n",
       "       ndata_schemes={}\n",
       "       edata_schemes={}),\n",
       " tensor([1]))"
      ]
     },
     "execution_count": 11,
     "metadata": {},
     "output_type": "execute_result"
    }
   ],
   "source": [
    "dataset = [(converter(x), torch.tensor([y])) for x, y in zip(split_data['Drug'], split_data['Y'])]\n",
    "dataset[0]"
   ]
  },
  {
   "cell_type": "markdown",
   "metadata": {},
   "source": [
    "### Check QM9 Dataset\n",
    "\n",
    "Following the [Graphormer documentation](https://graphormer.readthedocs.io/en/latest/Datasets.html#id5), confirm that the output structure of `dataset` matches that of the [QM9 dataset](https://docs.dgl.ai/en/latest/_modules/dgl/data/qm9.html)."
   ]
  },
  {
   "cell_type": "code",
   "execution_count": 12,
   "metadata": {},
   "outputs": [],
   "source": [
    "from dgl.data import QM9\n",
    "from sklearn.model_selection import train_test_split\n",
    "\n",
    "qm9_dataset = QM9(label_keys=[\"mu\"])\n",
    "num_graphs_qm9 = len(qm9_dataset)\n",
    "\n",
    "# customized dataset split\n",
    "train_valid_idx, test_idx = train_test_split(\n",
    "    np.arange(num_graphs_qm9), test_size=num_graphs_qm9 // 10, random_state=0\n",
    ")\n",
    "train_idx, valid_idx = train_test_split(\n",
    "    train_valid_idx, test_size=num_graphs_qm9 // 5, random_state=0\n",
    ")"
   ]
  },
  {
   "cell_type": "markdown",
   "metadata": {},
   "source": [
    "Check the type of the output. The output customized dataset should be a list of tuples, where first element of each tuple is the molecular graph and the second element is the label."
   ]
  },
  {
   "cell_type": "code",
   "execution_count": 13,
   "metadata": {},
   "outputs": [
    {
     "name": "stdout",
     "output_type": "stream",
     "text": [
      "First Element:  <class 'dgl.heterograph.DGLHeteroGraph'>\n",
      "Second Element:  <class 'torch.Tensor'>\n"
     ]
    }
   ],
   "source": [
    "# check type\n",
    "print(\"First Element: \", type(qm9_dataset[0][0]))\n",
    "print(\"Second Element: \", type(qm9_dataset[0][1]))"
   ]
  },
  {
   "cell_type": "code",
   "execution_count": 14,
   "metadata": {},
   "outputs": [
    {
     "data": {
      "text/plain": [
       "Graph(num_nodes=5, num_edges=20,\n",
       "      ndata_schemes={'R': Scheme(shape=(3,), dtype=torch.float32), 'Z': Scheme(shape=(), dtype=torch.int64)}\n",
       "      edata_schemes={})"
      ]
     },
     "execution_count": 14,
     "metadata": {},
     "output_type": "execute_result"
    }
   ],
   "source": [
    "# show graph\n",
    "qm9_dataset[0][0]"
   ]
  },
  {
   "cell_type": "code",
   "execution_count": 15,
   "metadata": {},
   "outputs": [
    {
     "data": {
      "text/plain": [
       "(Graph(num_nodes=5, num_edges=20,\n",
       "       ndata_schemes={'R': Scheme(shape=(3,), dtype=torch.float32), 'Z': Scheme(shape=(), dtype=torch.int64)}\n",
       "       edata_schemes={}),\n",
       " tensor([0.]))"
      ]
     },
     "execution_count": 15,
     "metadata": {},
     "output_type": "execute_result"
    }
   ],
   "source": [
    "qm9_dataset[0]"
   ]
  },
  {
   "cell_type": "markdown",
   "metadata": {},
   "source": [
    "### Visualize Molecular Graphs\n",
    "\n",
    "Based on [this StackOverflow post](https://stackoverflow.com/questions/69308451/how-to-visualize-a-graph-from-dgls-datasets), visualize the graphs of select molecules in either the BBB Martins et al. dataset or the QM9 dataset."
   ]
  },
  {
   "cell_type": "code",
   "execution_count": 19,
   "metadata": {},
   "outputs": [
    {
     "data": {
      "image/png": "[encoded data removed]",
      "text/plain": [
       "<Figure size 1080x504 with 1 Axes>"
      ]
     },
     "metadata": {},
     "output_type": "display_data"
    }
   ],
   "source": [
    "# import libraries\n",
    "import networkx as nx\n",
    "from dgl import to_networkx\n",
    "\n",
    "# for BBB dataset\n",
    "g = converter(split['train']['Drug'][0])\n",
    "\n",
    "# for QM9 dataset\n",
    "# g = qm9_dataset[0][0]\n",
    "\n",
    "# define options\n",
    "options = {\n",
    "    'node_color': 'black',\n",
    "    'node_size': 20,\n",
    "    'width': 1,\n",
    "}\n",
    "\n",
    "# plot figure\n",
    "G = to_networkx(g)\n",
    "plt.figure(figsize=[15,7])\n",
    "nx.draw(G, **options)"
   ]
  }
 ],
 "metadata": {
  "interpreter": {
   "hash": "ee86a5705781cdc5693b22e698b5956b61fc6bfa2e3dcdcaa637adf8210aae45"
  },
  "kernelspec": {
   "display_name": "Python 3.8.12 ('gnn')",
   "language": "python",
   "name": "python3"
  },
  "language_info": {
   "codemirror_mode": {
    "name": "ipython",
    "version": 3
   },
   "file_extension": ".py",
   "mimetype": "text/x-python",
   "name": "python",
   "nbconvert_exporter": "python",
   "pygments_lexer": "ipython3",
   "version": "3.8.12"
  },
  "orig_nbformat": 4
 },
 "nbformat": 4,
 "nbformat_minor": 2
}
